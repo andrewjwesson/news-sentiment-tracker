{
 "cells": [
  {
   "cell_type": "markdown",
   "metadata": {},
   "source": [
    "# Resample and Stratify Data \n",
    "The original [Yelp review data](https://www.kaggle.com/yelp-dataset/yelp-dataset#yelp_academic_dataset_review.json) contains more than 5 million reviews, which is far too large to train our Flair model on, so we subset this data to a few tens of thousands of reviews. \n",
    "\n",
    "However, we run into the issue that there is a class imbalance if we simply randomly sample the review data. "
   ]
  },
  {
   "cell_type": "code",
   "execution_count": 1,
   "metadata": {},
   "outputs": [],
   "source": [
    "import json\n",
    "import csv\n",
    "import matplotlib.pyplot as plt\n",
    "plt.style.use('seaborn')\n",
    "%matplotlib inline"
   ]
  },
  {
   "cell_type": "code",
   "execution_count": 2,
   "metadata": {},
   "outputs": [],
   "source": [
    "from sklearn.model_selection import train_test_split\n",
    "import pandas as pd\n",
    "pd.set_option('mode.chained_assignment', None)"
   ]
  },
  {
   "cell_type": "markdown",
   "metadata": {},
   "source": [
    "### Reduce the original dataset"
   ]
  },
  {
   "cell_type": "markdown",
   "metadata": {},
   "source": [
    "The below section assumes that the Yelp data ```review.json``` with the 5.8 million reviews is present in the current directory. The resampled data is output to another file. "
   ]
  },
  {
   "cell_type": "code",
   "execution_count": 3,
   "metadata": {},
   "outputs": [],
   "source": [
    "limit = 200000   # Line limit to stop reading training input file"
   ]
  },
  {
   "cell_type": "code",
   "execution_count": 4,
   "metadata": {},
   "outputs": [],
   "source": [
    "def reduce_yelp(reviews_data, reduced_path):\n",
    "    with open(reviews_data) as input, \\\n",
    "        open(reduced_path, \"w\") as output:\n",
    "\n",
    "        c = 0\n",
    "        for line in input:\n",
    "            c += 1\n",
    "            review_data = json.loads(line)\n",
    "            rating = int(float(review_data['stars']))\n",
    "            text = review_data['text'].replace(\"\\n\", \" \")\n",
    "\n",
    "            flair_line = \"{}\\t{}\".format(rating, text)\n",
    "            output.write(flair_line + \"\\n\")\n",
    "            if c == limit:\n",
    "                break\n",
    "                \n",
    "reduce_yelp(\"review.json\", \"yelp_reduced.tsv\")"
   ]
  },
  {
   "cell_type": "code",
   "execution_count": 5,
   "metadata": {},
   "outputs": [
    {
     "data": {
      "text/html": [
       "<div>\n",
       "<style scoped>\n",
       "    .dataframe tbody tr th:only-of-type {\n",
       "        vertical-align: middle;\n",
       "    }\n",
       "\n",
       "    .dataframe tbody tr th {\n",
       "        vertical-align: top;\n",
       "    }\n",
       "\n",
       "    .dataframe thead th {\n",
       "        text-align: right;\n",
       "    }\n",
       "</style>\n",
       "<table border=\"1\" class=\"dataframe\">\n",
       "  <thead>\n",
       "    <tr style=\"text-align: right;\">\n",
       "      <th></th>\n",
       "      <th>score</th>\n",
       "      <th>review</th>\n",
       "    </tr>\n",
       "  </thead>\n",
       "  <tbody>\n",
       "    <tr>\n",
       "      <th>0</th>\n",
       "      <td>1</td>\n",
       "      <td>Total bill for this horrible service? Over $8G...</td>\n",
       "    </tr>\n",
       "    <tr>\n",
       "      <th>1</th>\n",
       "      <td>5</td>\n",
       "      <td>I *adore* Travis at the Hard Rock's new Kelly ...</td>\n",
       "    </tr>\n",
       "    <tr>\n",
       "      <th>2</th>\n",
       "      <td>5</td>\n",
       "      <td>I have to say that this office really has it t...</td>\n",
       "    </tr>\n",
       "    <tr>\n",
       "      <th>3</th>\n",
       "      <td>5</td>\n",
       "      <td>Went in for a lunch. Steak sandwich was delici...</td>\n",
       "    </tr>\n",
       "    <tr>\n",
       "      <th>4</th>\n",
       "      <td>1</td>\n",
       "      <td>Today was my second out of three sessions I ha...</td>\n",
       "    </tr>\n",
       "  </tbody>\n",
       "</table>\n",
       "</div>"
      ],
      "text/plain": [
       "   score                                             review\n",
       "0      1  Total bill for this horrible service? Over $8G...\n",
       "1      5  I *adore* Travis at the Hard Rock's new Kelly ...\n",
       "2      5  I have to say that this office really has it t...\n",
       "3      5  Went in for a lunch. Steak sandwich was delici...\n",
       "4      1  Today was my second out of three sessions I ha..."
      ]
     },
     "execution_count": 5,
     "metadata": {},
     "output_type": "execute_result"
    }
   ],
   "source": [
    "df = pd.read_csv('yelp_reduced.tsv', sep='\\t', \n",
    "                   index_col=None, header=None, \n",
    "                   names=['score', 'review'],\n",
    "                   lineterminator='\\n')\n",
    "df.head()"
   ]
  },
  {
   "cell_type": "code",
   "execution_count": 6,
   "metadata": {},
   "outputs": [
    {
     "name": "stdout",
     "output_type": "stream",
     "text": [
      "5    88444\n",
      "4    44059\n",
      "1    29316\n",
      "3    22088\n",
      "2    16078\n",
      "Name: score, dtype: int64\n"
     ]
    },
    {
     "data": {
      "image/png": "[encoded data removed]",
      "text/plain": [
       "<Figure size 432x288 with 1 Axes>"
      ]
     },
     "metadata": {
      "needs_background": "light"
     },
     "output_type": "display_data"
    }
   ],
   "source": [
    "counts = df['score'].value_counts()\n",
    "counts.plot(kind='barh');\n",
    "plt.xlabel('Number of samples');\n",
    "plt.ylabel('Sentiment score');\n",
    "print(counts)"
   ]
  },
  {
   "cell_type": "markdown",
   "metadata": {},
   "source": [
    "We can clearly see that not all classes have the same number of samples. We look at the minimum of these and then undersample the rest of the data. "
   ]
  },
  {
   "cell_type": "code",
   "execution_count": 7,
   "metadata": {},
   "outputs": [],
   "source": [
    "# Get individual counts\n",
    "c5, c4, c1, c3, c2 = df['score'].value_counts()\n",
    "\n",
    "minority = min(c1, c2, c3, c4, c5)\n",
    "\n",
    "# Divide by class\n",
    "df_1 = df[df['score'] == 1]\n",
    "df_2 = df[df['score'] == 2]\n",
    "df_3 = df[df['score'] == 3]\n",
    "df_4 = df[df['score'] == 4]\n",
    "df_5 = df[df['score'] == 5]"
   ]
  },
  {
   "cell_type": "markdown",
   "metadata": {},
   "source": [
    "### Undersample data\n",
    "To produce reproducible samples, we set a random seed and then obtain a stratified set of samples with a number equal to the minority class."
   ]
  },
  {
   "cell_type": "code",
   "execution_count": 8,
   "metadata": {},
   "outputs": [],
   "source": [
    "# Set random seed for sampling and stratification\n",
    "seed = 37 "
   ]
  },
  {
   "cell_type": "code",
   "execution_count": 9,
   "metadata": {},
   "outputs": [],
   "source": [
    "df_1_under = df_1.sample(minority, random_state=seed)\n",
    "df_2_under = df_2.sample(minority, random_state=seed)\n",
    "df_3_under = df_3.sample(minority, random_state=seed)\n",
    "df_4_under = df_4.sample(minority, random_state=seed)\n",
    "df_5_under = df_5.sample(minority, random_state=seed)"
   ]
  },
  {
   "cell_type": "code",
   "execution_count": 10,
   "metadata": {},
   "outputs": [
    {
     "data": {
      "text/plain": [
       "(80390, 2)"
      ]
     },
     "execution_count": 10,
     "metadata": {},
     "output_type": "execute_result"
    }
   ],
   "source": [
    "df_under = pd.concat((df_1_under, df_2_under, df_3_under, df_4_under, df_5_under), axis=0)\n",
    "df_under.shape"
   ]
  },
  {
   "cell_type": "code",
   "execution_count": 11,
   "metadata": {},
   "outputs": [
    {
     "name": "stdout",
     "output_type": "stream",
     "text": [
      "5    16078\n",
      "4    16078\n",
      "3    16078\n",
      "2    16078\n",
      "1    16078\n",
      "Name: score, dtype: int64\n"
     ]
    },
    {
     "data": {
      "image/png": "[encoded data removed]",
      "text/plain": [
       "<Figure size 432x288 with 1 Axes>"
      ]
     },
     "metadata": {
      "needs_background": "light"
     },
     "output_type": "display_data"
    }
   ],
   "source": [
    "undersampled_counts = df_under['score'].value_counts()\n",
    "undersampled_counts.plot(kind='barh');\n",
    "plt.xlabel('Number of samples');\n",
    "plt.ylabel('Sentiment score');\n",
    "print(undersampled_counts)"
   ]
  },
  {
   "cell_type": "markdown",
   "metadata": {},
   "source": [
    "All the 5 classes now have the same number of samples, which makes this suitable for training our classifier."
   ]
  },
  {
   "cell_type": "markdown",
   "metadata": {},
   "source": [
    "### Export stratified data for analysis\n",
    "Based on the compute and memory requirements for the Flair model, we vary the ```train_size``` parameter to get a training sample that trains in reasonable time without causing the GPU to run out of memory."
   ]
  },
  {
   "cell_type": "code",
   "execution_count": 12,
   "metadata": {},
   "outputs": [],
   "source": [
    "train, test = train_test_split(df_under,\n",
    "                               train_size=0.5,\n",
    "                               test_size=0.1,\n",
    "                               random_state=seed,\n",
    "                               stratify=df_under['score']\n",
    "                              )"
   ]
  },
  {
   "cell_type": "code",
   "execution_count": 13,
   "metadata": {},
   "outputs": [
    {
     "name": "stdout",
     "output_type": "stream",
     "text": [
      "Training set: 40195 samples\n",
      "Test set: 8039 samples\n",
      "Each class in the training set has 8039 samples\n"
     ]
    }
   ],
   "source": [
    "print(\"Training set: {} samples\".format(train.shape[0]))\n",
    "print(\"Test set: {} samples\".format(test.shape[0]))\n",
    "print(\"Each class in the training set has {} samples\".format(train[train.score == 1].shape[0]))"
   ]
  },
  {
   "cell_type": "markdown",
   "metadata": {},
   "source": [
    "### Export train and test data "
   ]
  },
  {
   "cell_type": "code",
   "execution_count": 14,
   "metadata": {},
   "outputs": [],
   "source": [
    "train['score_fasttext'] = '__label__' + train['score'].astype(str)\n",
    "test['score_fasttext'] = '__label__' + test['score'].astype(str)\n",
    "train_final = train[['score_fasttext', 'review']]\n",
    "test_final = test[['score_fasttext', 'review']]\n",
    "train_final.to_csv('train.csv', sep='\\t', index=None, header=None)\n",
    "test_final.to_csv('test.csv', sep='\\t', index=None, header=None)"
   ]
  }
 ],
 "metadata": {
  "kernelspec": {
   "display_name": "Python 3",
   "language": "python",
   "name": "python3"
  },
  "language_info": {
   "codemirror_mode": {
    "name": "ipython",
    "version": 3
   },
   "file_extension": ".py",
   "mimetype": "text/x-python",
   "name": "python",
   "nbconvert_exporter": "python",
   "pygments_lexer": "ipython3",
   "version": "3.6.7"
  }
 },
 "nbformat": 4,
 "nbformat_minor": 2
}
