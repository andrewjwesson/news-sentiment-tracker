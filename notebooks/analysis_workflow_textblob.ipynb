{
 "cells": [
  {
   "cell_type": "markdown",
   "metadata": {},
   "source": [
    "# Data Pipeline\n",
    "Initial data analysis pipeline including a naive sentiment analysis using TextBlob."
   ]
  },
  {
   "cell_type": "code",
   "execution_count": 1,
   "metadata": {},
   "outputs": [],
   "source": [
    "import re\n",
    "import html\n",
    "import spacy\n",
    "import textacy\n",
    "from textblob import TextBlob\n",
    "import pandas as pd\n",
    "import numpy as np\n",
    "from pathlib import Path\n",
    "from string import punctuation"
   ]
  },
  {
   "cell_type": "code",
   "execution_count": 2,
   "metadata": {},
   "outputs": [],
   "source": [
    "import matplotlib.pyplot as plt\n",
    "import calmap # for making GitHub-style calendar plots of time-series\n",
    "# Plot using Pandas datatime objects\n",
    "from pandas.plotting import register_matplotlib_converters\n",
    "register_matplotlib_converters()\n",
    "rc_fonts = {'figure.figsize': (15, 8),\n",
    "            'axes.labelsize': 20,\n",
    "            'xtick.labelsize': 16,\n",
    "            'ytick.labelsize': 16}\n",
    "plt.rcParams.update(rc_fonts)\n",
    "plt.style.use('ggplot')\n",
    "%matplotlib inline"
   ]
  },
  {
   "cell_type": "code",
   "execution_count": 3,
   "metadata": {},
   "outputs": [],
   "source": [
    "# Sciki-learn for TF-IDF and similarity detection\n",
    "from sklearn.metrics.pairwise import cosine_similarity\n",
    "from sklearn.feature_extraction.text import TfidfVectorizer\n",
    "from sklearn.manifold import MDS"
   ]
  },
  {
   "cell_type": "markdown",
   "metadata": {},
   "source": [
    "## Use ```spaCy``` for tokenization and sentence segmentation"
   ]
  },
  {
   "cell_type": "code",
   "execution_count": 4,
   "metadata": {},
   "outputs": [],
   "source": [
    "import spacy\n",
    "from spacy import displacy\n",
    "# Load spaCy language model (blank model to which we add pipeline components)\n",
    "sentencizer = spacy.blank('en')\n",
    "sentencizer.add_pipe(sentencizer.create_pipe('sentencizer'))"
   ]
  },
  {
   "cell_type": "markdown",
   "metadata": {},
   "source": [
    "#### Specify named entity of interest"
   ]
  },
  {
   "cell_type": "code",
   "execution_count": 5,
   "metadata": {},
   "outputs": [],
   "source": [
    "name = \"Ryan Lochte\""
   ]
  },
  {
   "cell_type": "code",
   "execution_count": 6,
   "metadata": {},
   "outputs": [
    {
     "data": {
      "text/html": [
       "<div>\n",
       "<style scoped>\n",
       "    .dataframe tbody tr th:only-of-type {\n",
       "        vertical-align: middle;\n",
       "    }\n",
       "\n",
       "    .dataframe tbody tr th {\n",
       "        vertical-align: top;\n",
       "    }\n",
       "\n",
       "    .dataframe thead th {\n",
       "        text-align: right;\n",
       "    }\n",
       "</style>\n",
       "<table border=\"1\" class=\"dataframe\">\n",
       "  <thead>\n",
       "    <tr style=\"text-align: right;\">\n",
       "      <th></th>\n",
       "      <th>title</th>\n",
       "      <th>author</th>\n",
       "      <th>date</th>\n",
       "      <th>content</th>\n",
       "      <th>year</th>\n",
       "      <th>month</th>\n",
       "      <th>publication</th>\n",
       "      <th>length</th>\n",
       "    </tr>\n",
       "  </thead>\n",
       "  <tbody>\n",
       "    <tr>\n",
       "      <th>0</th>\n",
       "      <td>Agent Cooper in Twin Peaks is the audience: on...</td>\n",
       "      <td>Tasha Robinson</td>\n",
       "      <td>2017-05-31</td>\n",
       "      <td>And never more so than in Showtime’s new...</td>\n",
       "      <td>2017.0</td>\n",
       "      <td>5.0</td>\n",
       "      <td>Verge</td>\n",
       "      <td>2376</td>\n",
       "    </tr>\n",
       "    <tr>\n",
       "      <th>1</th>\n",
       "      <td>AI, the humanity!</td>\n",
       "      <td>Sam Byford</td>\n",
       "      <td>2017-05-30</td>\n",
       "      <td>AlphaGo’s victory isn’t a defeat for hum...</td>\n",
       "      <td>2017.0</td>\n",
       "      <td>5.0</td>\n",
       "      <td>Verge</td>\n",
       "      <td>2125</td>\n",
       "    </tr>\n",
       "    <tr>\n",
       "      <th>2</th>\n",
       "      <td>The Viral Machine</td>\n",
       "      <td>Kaitlyn Tiffany</td>\n",
       "      <td>2017-05-25</td>\n",
       "      <td>Super Deluxe built a weird internet empi...</td>\n",
       "      <td>2017.0</td>\n",
       "      <td>5.0</td>\n",
       "      <td>Verge</td>\n",
       "      <td>3310</td>\n",
       "    </tr>\n",
       "    <tr>\n",
       "      <th>3</th>\n",
       "      <td>How Anker is beating Apple and Samsung at thei...</td>\n",
       "      <td>Nick Statt</td>\n",
       "      <td>2017-05-22</td>\n",
       "      <td>Steven Yang quit his job at Google in th...</td>\n",
       "      <td>2017.0</td>\n",
       "      <td>5.0</td>\n",
       "      <td>Verge</td>\n",
       "      <td>3632</td>\n",
       "    </tr>\n",
       "    <tr>\n",
       "      <th>4</th>\n",
       "      <td>Tour Black Panther’s reimagined homeland with ...</td>\n",
       "      <td>Kwame Opam</td>\n",
       "      <td>2017-05-15</td>\n",
       "      <td>Ahead of Black Panther’s 2018 theatrical...</td>\n",
       "      <td>2017.0</td>\n",
       "      <td>5.0</td>\n",
       "      <td>Verge</td>\n",
       "      <td>262</td>\n",
       "    </tr>\n",
       "  </tbody>\n",
       "</table>\n",
       "</div>"
      ],
      "text/plain": [
       "                                               title           author  \\\n",
       "0  Agent Cooper in Twin Peaks is the audience: on...   Tasha Robinson   \n",
       "1                                  AI, the humanity!       Sam Byford   \n",
       "2                                  The Viral Machine  Kaitlyn Tiffany   \n",
       "3  How Anker is beating Apple and Samsung at thei...       Nick Statt   \n",
       "4  Tour Black Panther’s reimagined homeland with ...       Kwame Opam   \n",
       "\n",
       "        date                                            content    year  \\\n",
       "0 2017-05-31        And never more so than in Showtime’s new...  2017.0   \n",
       "1 2017-05-30        AlphaGo’s victory isn’t a defeat for hum...  2017.0   \n",
       "2 2017-05-25        Super Deluxe built a weird internet empi...  2017.0   \n",
       "3 2017-05-22        Steven Yang quit his job at Google in th...  2017.0   \n",
       "4 2017-05-15        Ahead of Black Panther’s 2018 theatrical...  2017.0   \n",
       "\n",
       "   month publication  length  \n",
       "0    5.0       Verge    2376  \n",
       "1    5.0       Verge    2125  \n",
       "2    5.0       Verge    3310  \n",
       "3    5.0       Verge    3632  \n",
       "4    5.0       Verge     262  "
      ]
     },
     "execution_count": 6,
     "metadata": {},
     "output_type": "execute_result"
    }
   ],
   "source": [
    "datafile = 'all_the_news_v2.csv'\n",
    "datapath = Path('../') / 'data' / datafile \n",
    "colnames = ['title', 'author', 'date', 'content', 'year', 'month', 'publication', 'length']\n",
    "\n",
    "news = pd.read_csv(datapath, usecols=colnames, parse_dates=['date'])\n",
    "news['author'] = news['author'].str.strip()\n",
    "news.head()"
   ]
  },
  {
   "cell_type": "code",
   "execution_count": 7,
   "metadata": {},
   "outputs": [
    {
     "data": {
      "text/plain": [
       "143156"
      ]
     },
     "execution_count": 7,
     "metadata": {},
     "output_type": "execute_result"
    }
   ],
   "source": [
    "news = news.dropna(subset=['date', 'title'])\n",
    "news.shape[0]"
   ]
  },
  {
   "cell_type": "markdown",
   "metadata": {},
   "source": [
    "### Filter articles based on name match\n",
    "In this section we only select those news articles that contain part of or all of the name we input as ```name```."
   ]
  },
  {
   "cell_type": "code",
   "execution_count": 8,
   "metadata": {},
   "outputs": [
    {
     "name": "stdout",
     "output_type": "stream",
     "text": [
      "182\n"
     ]
    },
    {
     "data": {
      "text/html": [
       "<div>\n",
       "<style scoped>\n",
       "    .dataframe tbody tr th:only-of-type {\n",
       "        vertical-align: middle;\n",
       "    }\n",
       "\n",
       "    .dataframe tbody tr th {\n",
       "        vertical-align: top;\n",
       "    }\n",
       "\n",
       "    .dataframe thead th {\n",
       "        text-align: right;\n",
       "    }\n",
       "</style>\n",
       "<table border=\"1\" class=\"dataframe\">\n",
       "  <thead>\n",
       "    <tr style=\"text-align: right;\">\n",
       "      <th></th>\n",
       "      <th>title</th>\n",
       "      <th>author</th>\n",
       "      <th>date</th>\n",
       "      <th>content</th>\n",
       "      <th>year</th>\n",
       "      <th>month</th>\n",
       "      <th>publication</th>\n",
       "      <th>length</th>\n",
       "    </tr>\n",
       "  </thead>\n",
       "  <tbody>\n",
       "    <tr>\n",
       "      <th>3095</th>\n",
       "      <td>After Olympic-sized goof, Ryan Lochte begins a...</td>\n",
       "      <td>David Wharton</td>\n",
       "      <td>2017-04-27</td>\n",
       "      <td>Don’t cringe or shake your head or stop readin...</td>\n",
       "      <td>2017.0</td>\n",
       "      <td>4.0</td>\n",
       "      <td>Los Angeles Times</td>\n",
       "      <td>1925</td>\n",
       "    </tr>\n",
       "    <tr>\n",
       "      <th>8946</th>\n",
       "      <td>Michael Phelps is a touch off in 100 butterfly...</td>\n",
       "      <td>Everett Cook</td>\n",
       "      <td>2014-08-08</td>\n",
       "      <td>Michael Phelps\\' bid for his most important wi...</td>\n",
       "      <td>2014.0</td>\n",
       "      <td>8.0</td>\n",
       "      <td>Los Angeles Times</td>\n",
       "      <td>996</td>\n",
       "    </tr>\n",
       "    <tr>\n",
       "      <th>13789</th>\n",
       "      <td>Michael Phelps Powers U.S. to Victory in 4x100...</td>\n",
       "      <td>Victor Mather, Karen Crouse and Doug Mills</td>\n",
       "      <td>2016-08-10</td>\n",
       "      <td>RIO DE JANEIRO — Michael Phelps won his 19th O...</td>\n",
       "      <td>2016.0</td>\n",
       "      <td>8.0</td>\n",
       "      <td>New York Times</td>\n",
       "      <td>276</td>\n",
       "    </tr>\n",
       "    <tr>\n",
       "      <th>13825</th>\n",
       "      <td>Rio Olympics: Simone Manuel Makes History in t...</td>\n",
       "      <td>Karen Crouse</td>\n",
       "      <td>2016-08-16</td>\n",
       "      <td>RIO DE JANEIRO — Simone Manuel managed to make...</td>\n",
       "      <td>2016.0</td>\n",
       "      <td>8.0</td>\n",
       "      <td>New York Times</td>\n",
       "      <td>1468</td>\n",
       "    </tr>\n",
       "    <tr>\n",
       "      <th>13839</th>\n",
       "      <td>Rio Olympics: A Phelps Upset, a Judo Snub, and...</td>\n",
       "      <td>Sam Manchester and Victor Mather</td>\n",
       "      <td>2016-08-16</td>\n",
       "      <td>Katie Ledecky did what Katie Ledecky does best...</td>\n",
       "      <td>2016.0</td>\n",
       "      <td>8.0</td>\n",
       "      <td>New York Times</td>\n",
       "      <td>1614</td>\n",
       "    </tr>\n",
       "  </tbody>\n",
       "</table>\n",
       "</div>"
      ],
      "text/plain": [
       "                                                   title  \\\n",
       "3095   After Olympic-sized goof, Ryan Lochte begins a...   \n",
       "8946   Michael Phelps is a touch off in 100 butterfly...   \n",
       "13789  Michael Phelps Powers U.S. to Victory in 4x100...   \n",
       "13825  Rio Olympics: Simone Manuel Makes History in t...   \n",
       "13839  Rio Olympics: A Phelps Upset, a Judo Snub, and...   \n",
       "\n",
       "                                           author       date  \\\n",
       "3095                                David Wharton 2017-04-27   \n",
       "8946                                 Everett Cook 2014-08-08   \n",
       "13789  Victor Mather, Karen Crouse and Doug Mills 2016-08-10   \n",
       "13825                                Karen Crouse 2016-08-16   \n",
       "13839            Sam Manchester and Victor Mather 2016-08-16   \n",
       "\n",
       "                                                 content    year  month  \\\n",
       "3095   Don’t cringe or shake your head or stop readin...  2017.0    4.0   \n",
       "8946   Michael Phelps\\' bid for his most important wi...  2014.0    8.0   \n",
       "13789  RIO DE JANEIRO — Michael Phelps won his 19th O...  2016.0    8.0   \n",
       "13825  RIO DE JANEIRO — Simone Manuel managed to make...  2016.0    8.0   \n",
       "13839  Katie Ledecky did what Katie Ledecky does best...  2016.0    8.0   \n",
       "\n",
       "             publication  length  \n",
       "3095   Los Angeles Times    1925  \n",
       "8946   Los Angeles Times     996  \n",
       "13789     New York Times     276  \n",
       "13825     New York Times    1468  \n",
       "13839     New York Times    1614  "
      ]
     },
     "execution_count": 8,
     "metadata": {},
     "output_type": "execute_result"
    }
   ],
   "source": [
    "def check_name(content, name):\n",
    "    flag = False\n",
    "    if name in content:\n",
    "        flag = True\n",
    "    return flag\n",
    "\n",
    "def filter_df(df):\n",
    "    df['match'] = df['content'].apply(lambda x: check_name(x, name))\n",
    "    df_relevant = df.loc[df['match'].eq(True)]\n",
    "    return df_relevant.drop(['match'], axis=1)\n",
    "\n",
    "news_relevant = filter_df(news)\n",
    "print(news_relevant.shape[0])\n",
    "news_relevant.head()"
   ]
  },
  {
   "cell_type": "markdown",
   "metadata": {},
   "source": [
    "### Perform sentence segmentation\n",
    "Store the sentences in each news articles as a list of sentences, from which we can easily extract per-sentence sentiment."
   ]
  },
  {
   "cell_type": "code",
   "execution_count": 9,
   "metadata": {},
   "outputs": [],
   "source": [
    "def get_relevant(text, name):\n",
    "    doc = sentencizer(text)\n",
    "    relevant = []\n",
    "    for sent in doc.sents:\n",
    "        for n in name.split():\n",
    "            if n in sent.text:\n",
    "                clean = sent.text.replace(\"\\n\", \" \").replace(\"\\xa0\", \" \")\n",
    "                # Strip bad characters at the start of sentences\n",
    "                clean = clean.strip(\"[\\'\").strip(\"\\']\").strip('\\\"').strip(\"\\'\\\"\")\n",
    "                clean = clean.strip(\",\\'\").strip(\"\\',\").strip('\\\"').strip(\"\\'\\\"\").strip()\n",
    "                relevant.append(clean)\n",
    "    # Remove duplicates\n",
    "    relevant = list(dict.fromkeys(relevant))\n",
    "    return relevant"
   ]
  },
  {
   "cell_type": "code",
   "execution_count": 10,
   "metadata": {},
   "outputs": [],
   "source": [
    "news_relevant['relevant'] = news_relevant['content'].apply(lambda x: get_relevant(x, name))"
   ]
  },
  {
   "cell_type": "code",
   "execution_count": 11,
   "metadata": {},
   "outputs": [
    {
     "name": "stdout",
     "output_type": "stream",
     "text": [
      "[\"That’s all Ryan Lochte wants as he ambles across the pool deck on a bright Southern California day, looking tanned and relaxed, if a bit weary from his morning workout.', '“\", 'Lochte now finds himself living in Los Angeles with his pregnant fiancée and training at USC with thoughts of a comeback.', \"Here’s the condensed version:', 'After a fifth-place finish in the 200-meter individual medley — his dissatisfaction hardly assuaged by a gold in the 800 freestyle relay — Lochte partied with three teammates at the French team’s hospitality house.',\", \"Lochte initially told authorities they were pulled over and robbed by armed men posing as police officers.',\", \"Lochte suffered an additional blow as Speedo and other corporate sponsors walked away.',\", 'Ryan Lochte didn’t have to get drunk and vandalize a Rio de Janeiro gas station during the Summer Olympics in August.', \"But he did, and it’s at times like this when people really need their...', 'Ryan Lochte didn’t have to get drunk and vandalize a Rio de Janeiro gas station during the Summer Olympics in August.\", \"Lochte offers a different perspective, contending that Rio was the culmination of a dark period in his life.',\", \"I told my family, ‘This was a mistake.’”', '::', 'If you are looking for a single motivation, one moment that turned Lochte around, it isn’t that simple.',\", \"If anything, the incident might have made Lochte a more sympathetic figure in public.',\", \"A day after news broke that Ryan Lochte will be suspended from swimming for 10 months, the three teammates who accompanied him on a night of partying at the Summer Olympics have received their punishment for fabricating stories of a robbery.',\", \"Gunnar Bentz, Jack Conger and James Feigen were handed...', 'A day after news broke that Ryan Lochte will be suspended from swimming for 10 months, the three teammates who accompanied him on a night of partying at the Summer Olympics have received their punishment for fabricating stories of a robbery.',\", 'Like a lot of athletes, Lochte had never been able to separate competition and personal life.', 'If Lochte needed an extra push toward the pool, it might have come from a visit to the doctor with his fiancée.', \"The boy will be about 3 when the 2020 Tokyo Olympics come around, Lochte figured.', '“\", \"Ryan Lochte says he feels “a little hurt” after being involved in an altercation on “Dancing with the Stars” that prompted producers to cut to commercials.\\\\xa0', 'The beleaguered swimmer was reportedly rushed by an unknown pair of men wearing anti-Lochte T-shirts while receiving his scores from judge...', 'Ryan Lochte says he feels “a little hurt” after being involved in an altercation on “Dancing with the Stars” that prompted producers to cut to commercials.\\\\xa0', 'The beleaguered swimmer was reportedly rushed by an unknown pair of men wearing anti-Lochte T-shirts while receiving his scores from judge...', '“I needed something to knock me down to the lowest,” Lochte says. “\", 'The younger guys tease him about having “old-man strength,” but Lochte cannot train as hard as he once did.', 'Scheduled to compete in several events beginning Friday, Lochte feels jittery about racing for the first time since the Olympics.', 'The thing is, Lochte doesn’t entirely fit his renegade image.'] \n",
      "--\n",
      "['Ryan Lochte, another preeminent American swimmer, finished fifth in 52.21.', 'But he has never competed in an Olympics, which could be why, during a television interview after the race, Shields said, \"I was so stoked to be racing in between Ryan and Michael.'] \n",
      "--\n",
      "['Ryan Held and Nathan Adrian brought the U.S. home Adrian’s split was an even better 46.97.', 'France and the United States split the last two Olympic gold medals, with Yannick Agnel of France outdueling Ryan Lochte in the anchor leg to win four years ago.'] \n",
      "--\n",
      "['Michael Phelps won the 200 individual medley easily, beating not only teammate Ryan Lochte, but an ancient Greek.', 'Lochte finished fifth.'] \n",
      "--\n",
      "['Phelps Breaks an Ancient Record: Michael Phelps won the 200 individual medley easily, beating not only teammate Ryan Lochte, but an ancient Greek.', 'Lochte finished fifth.'] \n",
      "--\n"
     ]
    }
   ],
   "source": [
    "for i in news_relevant['relevant'][:5]:\n",
    "    print(i, '\\n--')"
   ]
  },
  {
   "cell_type": "markdown",
   "metadata": {},
   "source": [
    "### Lemmatize relevant sentences for comparison\n",
    "This is to remove duplicates."
   ]
  },
  {
   "cell_type": "code",
   "execution_count": 12,
   "metadata": {},
   "outputs": [],
   "source": [
    "# Load full spaCy language model for upcoming NLP pipeline\n",
    "nlp = spacy.load('en_core_web_md')"
   ]
  },
  {
   "cell_type": "code",
   "execution_count": 13,
   "metadata": {},
   "outputs": [],
   "source": [
    "add_removed_words = {n.lower() for n in name.split()}\n",
    "# Include specific words to be removed\n",
    "stopwords = nlp.Defaults.stop_words\n",
    "stopwords = stopwords.union(add_removed_words)"
   ]
  },
  {
   "cell_type": "code",
   "execution_count": 14,
   "metadata": {},
   "outputs": [],
   "source": [
    "# Tokenize and lemmatize text\n",
    "def lemmatize(text):\n",
    "    doc = sentencizer(text)\n",
    "    lemmas = []\n",
    "    for sentence in doc.sents:\n",
    "        tokens = [str(tok.lemma_).lower() for tok in sentence if tok.text not in stopwords \\\n",
    "                  and tok.text not in punctuation]\n",
    "        lemmas.append(' '.join(tokens))\n",
    "    return lemmas"
   ]
  },
  {
   "cell_type": "code",
   "execution_count": 15,
   "metadata": {},
   "outputs": [
    {
     "data": {
      "text/html": [
       "<div>\n",
       "<style scoped>\n",
       "    .dataframe tbody tr th:only-of-type {\n",
       "        vertical-align: middle;\n",
       "    }\n",
       "\n",
       "    .dataframe tbody tr th {\n",
       "        vertical-align: top;\n",
       "    }\n",
       "\n",
       "    .dataframe thead th {\n",
       "        text-align: right;\n",
       "    }\n",
       "</style>\n",
       "<table border=\"1\" class=\"dataframe\">\n",
       "  <thead>\n",
       "    <tr style=\"text-align: right;\">\n",
       "      <th></th>\n",
       "      <th>relevant</th>\n",
       "      <th>lemmas</th>\n",
       "    </tr>\n",
       "  </thead>\n",
       "  <tbody>\n",
       "    <tr>\n",
       "      <th>3095</th>\n",
       "      <td>[That’s all Ryan Lochte wants as he ambles acr...</td>\n",
       "      <td>[that ’s ryan lochte want amble pool deck brig...</td>\n",
       "    </tr>\n",
       "    <tr>\n",
       "      <th>8946</th>\n",
       "      <td>[Ryan Lochte, another preeminent American swim...</td>\n",
       "      <td>[ryan lochte preeminent american swimmer finis...</td>\n",
       "    </tr>\n",
       "    <tr>\n",
       "      <th>13789</th>\n",
       "      <td>[Ryan Held and Nathan Adrian brought the U.S. ...</td>\n",
       "      <td>[ryan held nathan adrian bring u.s. home adria...</td>\n",
       "    </tr>\n",
       "    <tr>\n",
       "      <th>13825</th>\n",
       "      <td>[Michael Phelps won the 200 individual medley ...</td>\n",
       "      <td>[michael phelps win 200 individual medley easi...</td>\n",
       "    </tr>\n",
       "    <tr>\n",
       "      <th>13839</th>\n",
       "      <td>[Phelps Breaks an Ancient Record: Michael Phel...</td>\n",
       "      <td>[phelps breaks ancient record michael phelps w...</td>\n",
       "    </tr>\n",
       "  </tbody>\n",
       "</table>\n",
       "</div>"
      ],
      "text/plain": [
       "                                                relevant  \\\n",
       "3095   [That’s all Ryan Lochte wants as he ambles acr...   \n",
       "8946   [Ryan Lochte, another preeminent American swim...   \n",
       "13789  [Ryan Held and Nathan Adrian brought the U.S. ...   \n",
       "13825  [Michael Phelps won the 200 individual medley ...   \n",
       "13839  [Phelps Breaks an Ancient Record: Michael Phel...   \n",
       "\n",
       "                                                  lemmas  \n",
       "3095   [that ’s ryan lochte want amble pool deck brig...  \n",
       "8946   [ryan lochte preeminent american swimmer finis...  \n",
       "13789  [ryan held nathan adrian bring u.s. home adria...  \n",
       "13825  [michael phelps win 200 individual medley easi...  \n",
       "13839  [phelps breaks ancient record michael phelps w...  "
      ]
     },
     "execution_count": 15,
     "metadata": {},
     "output_type": "execute_result"
    }
   ],
   "source": [
    "news_relevant['lemmas'] = news_relevant['relevant'].str.join(' ').apply(lemmatize)\n",
    "news_relevant[['relevant', 'lemmas']].head()"
   ]
  },
  {
   "cell_type": "markdown",
   "metadata": {},
   "source": [
    "### Drop duplicates"
   ]
  },
  {
   "cell_type": "code",
   "execution_count": 16,
   "metadata": {},
   "outputs": [
    {
     "data": {
      "text/plain": [
       "161"
      ]
     },
     "execution_count": 16,
     "metadata": {},
     "output_type": "execute_result"
    }
   ],
   "source": [
    "news_relevant['lemmas_combined'] = news_relevant['lemmas'].str.join(' ')\n",
    "news_relevant = news_relevant.drop_duplicates(subset=['lemmas_combined'])\n",
    "news_relevant.shape[0]"
   ]
  },
  {
   "cell_type": "markdown",
   "metadata": {},
   "source": [
    "### Naive sentiment scoring using TextBlob"
   ]
  },
  {
   "cell_type": "code",
   "execution_count": 17,
   "metadata": {},
   "outputs": [],
   "source": [
    "def get_score_textblob(text_list):\n",
    "    # Calculate polarity for each sentence\n",
    "    sentiment_list = [round(TextBlob(text).sentiment.polarity, 4) for text in text_list]\n",
    "    score = np.mean(sentiment_list)\n",
    "    deviation = np.std(sentiment_list)\n",
    "    return score, deviation"
   ]
  },
  {
   "cell_type": "code",
   "execution_count": 18,
   "metadata": {},
   "outputs": [
    {
     "data": {
      "text/html": [
       "<div>\n",
       "<style scoped>\n",
       "    .dataframe tbody tr th:only-of-type {\n",
       "        vertical-align: middle;\n",
       "    }\n",
       "\n",
       "    .dataframe tbody tr th {\n",
       "        vertical-align: top;\n",
       "    }\n",
       "\n",
       "    .dataframe thead th {\n",
       "        text-align: right;\n",
       "    }\n",
       "</style>\n",
       "<table border=\"1\" class=\"dataframe\">\n",
       "  <thead>\n",
       "    <tr style=\"text-align: right;\">\n",
       "      <th></th>\n",
       "      <th>title</th>\n",
       "      <th>author</th>\n",
       "      <th>date</th>\n",
       "      <th>content</th>\n",
       "      <th>year</th>\n",
       "      <th>month</th>\n",
       "      <th>publication</th>\n",
       "      <th>length</th>\n",
       "      <th>relevant</th>\n",
       "      <th>lemmas</th>\n",
       "      <th>lemmas_combined</th>\n",
       "      <th>score</th>\n",
       "      <th>deviation</th>\n",
       "    </tr>\n",
       "  </thead>\n",
       "  <tbody>\n",
       "    <tr>\n",
       "      <th>3095</th>\n",
       "      <td>After Olympic-sized goof, Ryan Lochte begins a...</td>\n",
       "      <td>David Wharton</td>\n",
       "      <td>2017-04-27</td>\n",
       "      <td>Don’t cringe or shake your head or stop readin...</td>\n",
       "      <td>2017.0</td>\n",
       "      <td>4.0</td>\n",
       "      <td>Los Angeles Times</td>\n",
       "      <td>1925</td>\n",
       "      <td>[That’s all Ryan Lochte wants as he ambles acr...</td>\n",
       "      <td>[that ’s ryan lochte want amble pool deck brig...</td>\n",
       "      <td>that ’s ryan lochte want amble pool deck brigh...</td>\n",
       "      <td>0.027963</td>\n",
       "      <td>0.137321</td>\n",
       "    </tr>\n",
       "    <tr>\n",
       "      <th>8946</th>\n",
       "      <td>Michael Phelps is a touch off in 100 butterfly...</td>\n",
       "      <td>Everett Cook</td>\n",
       "      <td>2014-08-08</td>\n",
       "      <td>Michael Phelps\\' bid for his most important wi...</td>\n",
       "      <td>2014.0</td>\n",
       "      <td>8.0</td>\n",
       "      <td>Los Angeles Times</td>\n",
       "      <td>996</td>\n",
       "      <td>[Ryan Lochte, another preeminent American swim...</td>\n",
       "      <td>[ryan lochte preeminent american swimmer finis...</td>\n",
       "      <td>ryan lochte preeminent american swimmer finish...</td>\n",
       "      <td>0.000000</td>\n",
       "      <td>0.000000</td>\n",
       "    </tr>\n",
       "    <tr>\n",
       "      <th>13789</th>\n",
       "      <td>Michael Phelps Powers U.S. to Victory in 4x100...</td>\n",
       "      <td>Victor Mather, Karen Crouse and Doug Mills</td>\n",
       "      <td>2016-08-10</td>\n",
       "      <td>RIO DE JANEIRO — Michael Phelps won his 19th O...</td>\n",
       "      <td>2016.0</td>\n",
       "      <td>8.0</td>\n",
       "      <td>New York Times</td>\n",
       "      <td>276</td>\n",
       "      <td>[Ryan Held and Nathan Adrian brought the U.S. ...</td>\n",
       "      <td>[ryan held nathan adrian bring u.s. home adria...</td>\n",
       "      <td>ryan held nathan adrian bring u.s. home adrian...</td>\n",
       "      <td>0.400000</td>\n",
       "      <td>0.400000</td>\n",
       "    </tr>\n",
       "  </tbody>\n",
       "</table>\n",
       "</div>"
      ],
      "text/plain": [
       "                                                   title  \\\n",
       "3095   After Olympic-sized goof, Ryan Lochte begins a...   \n",
       "8946   Michael Phelps is a touch off in 100 butterfly...   \n",
       "13789  Michael Phelps Powers U.S. to Victory in 4x100...   \n",
       "\n",
       "                                           author       date  \\\n",
       "3095                                David Wharton 2017-04-27   \n",
       "8946                                 Everett Cook 2014-08-08   \n",
       "13789  Victor Mather, Karen Crouse and Doug Mills 2016-08-10   \n",
       "\n",
       "                                                 content    year  month  \\\n",
       "3095   Don’t cringe or shake your head or stop readin...  2017.0    4.0   \n",
       "8946   Michael Phelps\\' bid for his most important wi...  2014.0    8.0   \n",
       "13789  RIO DE JANEIRO — Michael Phelps won his 19th O...  2016.0    8.0   \n",
       "\n",
       "             publication  length  \\\n",
       "3095   Los Angeles Times    1925   \n",
       "8946   Los Angeles Times     996   \n",
       "13789     New York Times     276   \n",
       "\n",
       "                                                relevant  \\\n",
       "3095   [That’s all Ryan Lochte wants as he ambles acr...   \n",
       "8946   [Ryan Lochte, another preeminent American swim...   \n",
       "13789  [Ryan Held and Nathan Adrian brought the U.S. ...   \n",
       "\n",
       "                                                  lemmas  \\\n",
       "3095   [that ’s ryan lochte want amble pool deck brig...   \n",
       "8946   [ryan lochte preeminent american swimmer finis...   \n",
       "13789  [ryan held nathan adrian bring u.s. home adria...   \n",
       "\n",
       "                                         lemmas_combined     score  deviation  \n",
       "3095   that ’s ryan lochte want amble pool deck brigh...  0.027963   0.137321  \n",
       "8946   ryan lochte preeminent american swimmer finish...  0.000000   0.000000  \n",
       "13789  ryan held nathan adrian bring u.s. home adrian...  0.400000   0.400000  "
      ]
     },
     "execution_count": 18,
     "metadata": {},
     "output_type": "execute_result"
    }
   ],
   "source": [
    "news_relevant['score'], news_relevant['deviation'] = zip(*news_relevant['lemmas'].map(get_score_textblob))\n",
    "news_relevant.head(3)"
   ]
  },
  {
   "cell_type": "markdown",
   "metadata": {},
   "source": [
    "#### Positive sentiment group"
   ]
  },
  {
   "cell_type": "code",
   "execution_count": 19,
   "metadata": {},
   "outputs": [
    {
     "name": "stdout",
     "output_type": "stream",
     "text": [
      "Found 84 overall positive articles for Ryan Lochte\n"
     ]
    },
    {
     "data": {
      "text/html": [
       "<div>\n",
       "<style scoped>\n",
       "    .dataframe tbody tr th:only-of-type {\n",
       "        vertical-align: middle;\n",
       "    }\n",
       "\n",
       "    .dataframe tbody tr th {\n",
       "        vertical-align: top;\n",
       "    }\n",
       "\n",
       "    .dataframe thead th {\n",
       "        text-align: right;\n",
       "    }\n",
       "</style>\n",
       "<table border=\"1\" class=\"dataframe\">\n",
       "  <thead>\n",
       "    <tr style=\"text-align: right;\">\n",
       "      <th></th>\n",
       "      <th>title</th>\n",
       "      <th>author</th>\n",
       "      <th>date</th>\n",
       "      <th>content</th>\n",
       "      <th>year</th>\n",
       "      <th>month</th>\n",
       "      <th>publication</th>\n",
       "      <th>length</th>\n",
       "      <th>relevant</th>\n",
       "      <th>lemmas</th>\n",
       "      <th>lemmas_combined</th>\n",
       "      <th>score</th>\n",
       "      <th>deviation</th>\n",
       "    </tr>\n",
       "  </thead>\n",
       "  <tbody>\n",
       "    <tr>\n",
       "      <th>0</th>\n",
       "      <td>The Rio Olympics: Catch the Fever!</td>\n",
       "      <td>Jim Geraghty</td>\n",
       "      <td>2016-08-05</td>\n",
       "      <td>[The International Olympic Committee wanted to...</td>\n",
       "      <td>2016.0</td>\n",
       "      <td>8.0</td>\n",
       "      <td>National Review</td>\n",
       "      <td>1217</td>\n",
       "      <td>[Ryan Lochte and America’s Man-Boy ProblemAmer...</td>\n",
       "      <td>[ryan lochte america ’s man boy problemamerica...</td>\n",
       "      <td>ryan lochte america ’s man boy problemamerica ...</td>\n",
       "      <td>0.65</td>\n",
       "      <td>0.0</td>\n",
       "    </tr>\n",
       "    <tr>\n",
       "      <th>1</th>\n",
       "      <td>How to train like an Olympian – eat loads of p...</td>\n",
       "      <td>Archie Bland</td>\n",
       "      <td>2016-08-17</td>\n",
       "      <td>Most athletes who want to improve their perfor...</td>\n",
       "      <td>2016.0</td>\n",
       "      <td>8.0</td>\n",
       "      <td>Guardian</td>\n",
       "      <td>2186</td>\n",
       "      <td>[Her compatriot, the swimmer Ryan Lochte, eats...</td>\n",
       "      <td>[her compatriot swimmer ryan lochte eat form k...</td>\n",
       "      <td>her compatriot swimmer ryan lochte eat form ki...</td>\n",
       "      <td>0.60</td>\n",
       "      <td>0.0</td>\n",
       "    </tr>\n",
       "    <tr>\n",
       "      <th>2</th>\n",
       "      <td>Will Alicia Machado join ‘Dancing with the Sta...</td>\n",
       "      <td>Fox News</td>\n",
       "      <td>2016-10-04</td>\n",
       "      <td>Could “Dancing with the Stars” be Alicia Macha...</td>\n",
       "      <td>2016.0</td>\n",
       "      <td>10.0</td>\n",
       "      <td>New York Post</td>\n",
       "      <td>384</td>\n",
       "      <td>[Often, ‘DWTS’ producers approach people in th...</td>\n",
       "      <td>[often ‘ dwts’ producer approach people news l...</td>\n",
       "      <td>often ‘ dwts’ producer approach people news li...</td>\n",
       "      <td>0.55</td>\n",
       "      <td>0.0</td>\n",
       "    </tr>\n",
       "  </tbody>\n",
       "</table>\n",
       "</div>"
      ],
      "text/plain": [
       "                                               title        author       date  \\\n",
       "0                 The Rio Olympics: Catch the Fever!  Jim Geraghty 2016-08-05   \n",
       "1  How to train like an Olympian – eat loads of p...  Archie Bland 2016-08-17   \n",
       "2  Will Alicia Machado join ‘Dancing with the Sta...      Fox News 2016-10-04   \n",
       "\n",
       "                                             content    year  month  \\\n",
       "0  [The International Olympic Committee wanted to...  2016.0    8.0   \n",
       "1  Most athletes who want to improve their perfor...  2016.0    8.0   \n",
       "2  Could “Dancing with the Stars” be Alicia Macha...  2016.0   10.0   \n",
       "\n",
       "       publication  length                                           relevant  \\\n",
       "0  National Review    1217  [Ryan Lochte and America’s Man-Boy ProblemAmer...   \n",
       "1         Guardian    2186  [Her compatriot, the swimmer Ryan Lochte, eats...   \n",
       "2    New York Post     384  [Often, ‘DWTS’ producers approach people in th...   \n",
       "\n",
       "                                              lemmas  \\\n",
       "0  [ryan lochte america ’s man boy problemamerica...   \n",
       "1  [her compatriot swimmer ryan lochte eat form k...   \n",
       "2  [often ‘ dwts’ producer approach people news l...   \n",
       "\n",
       "                                     lemmas_combined  score  deviation  \n",
       "0  ryan lochte america ’s man boy problemamerica ...   0.65        0.0  \n",
       "1  her compatriot swimmer ryan lochte eat form ki...   0.60        0.0  \n",
       "2  often ‘ dwts’ producer approach people news li...   0.55        0.0  "
      ]
     },
     "execution_count": 19,
     "metadata": {},
     "output_type": "execute_result"
    }
   ],
   "source": [
    "pos = news_relevant[news_relevant['score'] > 0.0].sort_values(by=['score'], ascending=False).reset_index(drop=True)\n",
    "print(\"Found {} overall positive articles for {}\".format(pos.shape[0], name))\n",
    "pos.head(3)"
   ]
  },
  {
   "cell_type": "markdown",
   "metadata": {},
   "source": [
    "#### Write positive results"
   ]
  },
  {
   "cell_type": "code",
   "execution_count": 20,
   "metadata": {},
   "outputs": [],
   "source": [
    "out_filename = '_'.join(name.split()).lower() + '_pos.csv'\n",
    "out_path = Path('./') / \"results/textblob\" / out_filename\n",
    "pos.sort_values(by='publication')[['publication', 'title', 'date', 'relevant', 'score', 'deviation']] \\\n",
    "                .to_csv(out_path, index=False, header=True)"
   ]
  },
  {
   "cell_type": "markdown",
   "metadata": {},
   "source": [
    "#### Negative sentiment group"
   ]
  },
  {
   "cell_type": "code",
   "execution_count": 21,
   "metadata": {},
   "outputs": [
    {
     "name": "stdout",
     "output_type": "stream",
     "text": [
      "Found 46 overall negative articles for Ryan Lochte\n"
     ]
    },
    {
     "data": {
      "text/html": [
       "<div>\n",
       "<style scoped>\n",
       "    .dataframe tbody tr th:only-of-type {\n",
       "        vertical-align: middle;\n",
       "    }\n",
       "\n",
       "    .dataframe tbody tr th {\n",
       "        vertical-align: top;\n",
       "    }\n",
       "\n",
       "    .dataframe thead th {\n",
       "        text-align: right;\n",
       "    }\n",
       "</style>\n",
       "<table border=\"1\" class=\"dataframe\">\n",
       "  <thead>\n",
       "    <tr style=\"text-align: right;\">\n",
       "      <th></th>\n",
       "      <th>title</th>\n",
       "      <th>author</th>\n",
       "      <th>date</th>\n",
       "      <th>content</th>\n",
       "      <th>year</th>\n",
       "      <th>month</th>\n",
       "      <th>publication</th>\n",
       "      <th>length</th>\n",
       "      <th>relevant</th>\n",
       "      <th>lemmas</th>\n",
       "      <th>lemmas_combined</th>\n",
       "      <th>score</th>\n",
       "      <th>deviation</th>\n",
       "    </tr>\n",
       "  </thead>\n",
       "  <tbody>\n",
       "    <tr>\n",
       "      <th>0</th>\n",
       "      <td>2016 Gave Us 262,800 'Two Minutes Hates.' Some...</td>\n",
       "      <td>Daniel J. Flynn</td>\n",
       "      <td>2016-12-30</td>\n",
       "      <td>Andy Warhol envisioned a future in which every...</td>\n",
       "      <td>2016.0</td>\n",
       "      <td>12.0</td>\n",
       "      <td>Breitbart</td>\n",
       "      <td>787</td>\n",
       "      <td>[Ryan Lochte suffered a terrible hangover in 2...</td>\n",
       "      <td>[ryan lochte suffer terrible hangover 2016]</td>\n",
       "      <td>ryan lochte suffer terrible hangover 2016</td>\n",
       "      <td>-1.0000</td>\n",
       "      <td>0.0</td>\n",
       "    </tr>\n",
       "    <tr>\n",
       "      <th>1</th>\n",
       "      <td>Kanye West fan tries to climb floating stage a...</td>\n",
       "      <td>Nicole Puglise</td>\n",
       "      <td>2016-09-13</td>\n",
       "      <td>A fan tried climbing on to Kanye West’s floati...</td>\n",
       "      <td>2016.0</td>\n",
       "      <td>9.0</td>\n",
       "      <td>Guardian</td>\n",
       "      <td>625</td>\n",
       "      <td>[Also on Monday, protesters attempted to inter...</td>\n",
       "      <td>[also monday protester attempt interrupt swimm...</td>\n",
       "      <td>also monday protester attempt interrupt swimme...</td>\n",
       "      <td>-0.4000</td>\n",
       "      <td>0.0</td>\n",
       "    </tr>\n",
       "    <tr>\n",
       "      <th>2</th>\n",
       "      <td>Matt Lauer Loses the War in a Battle Between t...</td>\n",
       "      <td>James Poniewozik</td>\n",
       "      <td>2016-09-09</td>\n",
       "      <td>The NBC presidential forum on Wednesday night ...</td>\n",
       "      <td>2016.0</td>\n",
       "      <td>9.0</td>\n",
       "      <td>New York Times</td>\n",
       "      <td>1150</td>\n",
       "      <td>[Why turn over the grilling to a guy who had a...</td>\n",
       "      <td>[why turn grill guy hard time question ryan lo...</td>\n",
       "      <td>why turn grill guy hard time question ryan lochte</td>\n",
       "      <td>-0.2917</td>\n",
       "      <td>0.0</td>\n",
       "    </tr>\n",
       "  </tbody>\n",
       "</table>\n",
       "</div>"
      ],
      "text/plain": [
       "                                               title            author  \\\n",
       "0  2016 Gave Us 262,800 'Two Minutes Hates.' Some...   Daniel J. Flynn   \n",
       "1  Kanye West fan tries to climb floating stage a...    Nicole Puglise   \n",
       "2  Matt Lauer Loses the War in a Battle Between t...  James Poniewozik   \n",
       "\n",
       "        date                                            content    year  \\\n",
       "0 2016-12-30  Andy Warhol envisioned a future in which every...  2016.0   \n",
       "1 2016-09-13  A fan tried climbing on to Kanye West’s floati...  2016.0   \n",
       "2 2016-09-09  The NBC presidential forum on Wednesday night ...  2016.0   \n",
       "\n",
       "   month     publication  length  \\\n",
       "0   12.0       Breitbart     787   \n",
       "1    9.0        Guardian     625   \n",
       "2    9.0  New York Times    1150   \n",
       "\n",
       "                                            relevant  \\\n",
       "0  [Ryan Lochte suffered a terrible hangover in 2...   \n",
       "1  [Also on Monday, protesters attempted to inter...   \n",
       "2  [Why turn over the grilling to a guy who had a...   \n",
       "\n",
       "                                              lemmas  \\\n",
       "0        [ryan lochte suffer terrible hangover 2016]   \n",
       "1  [also monday protester attempt interrupt swimm...   \n",
       "2  [why turn grill guy hard time question ryan lo...   \n",
       "\n",
       "                                     lemmas_combined   score  deviation  \n",
       "0          ryan lochte suffer terrible hangover 2016 -1.0000        0.0  \n",
       "1  also monday protester attempt interrupt swimme... -0.4000        0.0  \n",
       "2  why turn grill guy hard time question ryan lochte -0.2917        0.0  "
      ]
     },
     "execution_count": 21,
     "metadata": {},
     "output_type": "execute_result"
    }
   ],
   "source": [
    "neg = news_relevant[news_relevant['score'] < 0.0].sort_values(by=['score']).reset_index(drop=True)\n",
    "print(\"Found {} overall negative articles for {}\".format(neg.shape[0], name))\n",
    "neg.head(3)"
   ]
  },
  {
   "cell_type": "markdown",
   "metadata": {},
   "source": [
    "#### Write negative results"
   ]
  },
  {
   "cell_type": "code",
   "execution_count": 22,
   "metadata": {},
   "outputs": [],
   "source": [
    "out_filename = '_'.join(name.split()).lower() + '_neg.csv'\n",
    "out_path = Path('./') / \"results/textblob\" / out_filename\n",
    "neg.sort_values(by='publication')[['publication', 'title', 'date', 'relevant', 'score', 'deviation']] \\\n",
    "                .to_csv(out_path, index=False, header=True)"
   ]
  },
  {
   "cell_type": "code",
   "execution_count": 23,
   "metadata": {},
   "outputs": [
    {
     "name": "stdout",
     "output_type": "stream",
     "text": [
      "Found 31 overall mixed articles for Ryan Lochte\n"
     ]
    },
    {
     "data": {
      "text/html": [
       "<div>\n",
       "<style scoped>\n",
       "    .dataframe tbody tr th:only-of-type {\n",
       "        vertical-align: middle;\n",
       "    }\n",
       "\n",
       "    .dataframe tbody tr th {\n",
       "        vertical-align: top;\n",
       "    }\n",
       "\n",
       "    .dataframe thead th {\n",
       "        text-align: right;\n",
       "    }\n",
       "</style>\n",
       "<table border=\"1\" class=\"dataframe\">\n",
       "  <thead>\n",
       "    <tr style=\"text-align: right;\">\n",
       "      <th></th>\n",
       "      <th>title</th>\n",
       "      <th>author</th>\n",
       "      <th>date</th>\n",
       "      <th>content</th>\n",
       "      <th>year</th>\n",
       "      <th>month</th>\n",
       "      <th>publication</th>\n",
       "      <th>length</th>\n",
       "      <th>relevant</th>\n",
       "      <th>lemmas</th>\n",
       "      <th>lemmas_combined</th>\n",
       "      <th>score</th>\n",
       "      <th>deviation</th>\n",
       "    </tr>\n",
       "  </thead>\n",
       "  <tbody>\n",
       "    <tr>\n",
       "      <th>0</th>\n",
       "      <td>Michael Phelps is a touch off in 100 butterfly...</td>\n",
       "      <td>Everett Cook</td>\n",
       "      <td>2014-08-08</td>\n",
       "      <td>Michael Phelps\\' bid for his most important wi...</td>\n",
       "      <td>2014.0</td>\n",
       "      <td>8.0</td>\n",
       "      <td>Los Angeles Times</td>\n",
       "      <td>996</td>\n",
       "      <td>[Ryan Lochte, another preeminent American swim...</td>\n",
       "      <td>[ryan lochte preeminent american swimmer finis...</td>\n",
       "      <td>ryan lochte preeminent american swimmer finish...</td>\n",
       "      <td>0.0</td>\n",
       "      <td>0.0</td>\n",
       "    </tr>\n",
       "    <tr>\n",
       "      <th>1</th>\n",
       "      <td>Rio ‘Has Never Felt So Safe.’ But What Happens...</td>\n",
       "      <td>Simon Romero and Andrew Jacobs</td>\n",
       "      <td>2016-08-22</td>\n",
       "      <td>RIO DE JANEIRO — Portugal’s education minister...</td>\n",
       "      <td>2016.0</td>\n",
       "      <td>8.0</td>\n",
       "      <td>New York Times</td>\n",
       "      <td>1256</td>\n",
       "      <td>[Even before the armed robbery this weekend of...</td>\n",
       "      <td>[even arm robbery weekend american swimmer inc...</td>\n",
       "      <td>even arm robbery weekend american swimmer incl...</td>\n",
       "      <td>0.0</td>\n",
       "      <td>0.0</td>\n",
       "    </tr>\n",
       "    <tr>\n",
       "      <th>2</th>\n",
       "      <td>Ryan Lochte, Gawker, Donald Trump: Your Thursd...</td>\n",
       "      <td>Karen Workman and Sandra Stevenson</td>\n",
       "      <td>2016-08-22</td>\n",
       "      <td>(Want to get this briefing by email? Here’s th...</td>\n",
       "      <td>2016.0</td>\n",
       "      <td>8.0</td>\n",
       "      <td>New York Times</td>\n",
       "      <td>1166</td>\n",
       "      <td>[Ryan Lochte, above, the American swimmer and ...</td>\n",
       "      <td>[ryan lochte american swimmer olympic gold med...</td>\n",
       "      <td>ryan lochte american swimmer olympic gold meda...</td>\n",
       "      <td>0.0</td>\n",
       "      <td>0.0</td>\n",
       "    </tr>\n",
       "  </tbody>\n",
       "</table>\n",
       "</div>"
      ],
      "text/plain": [
       "                                               title  \\\n",
       "0  Michael Phelps is a touch off in 100 butterfly...   \n",
       "1  Rio ‘Has Never Felt So Safe.’ But What Happens...   \n",
       "2  Ryan Lochte, Gawker, Donald Trump: Your Thursd...   \n",
       "\n",
       "                               author       date  \\\n",
       "0                        Everett Cook 2014-08-08   \n",
       "1      Simon Romero and Andrew Jacobs 2016-08-22   \n",
       "2  Karen Workman and Sandra Stevenson 2016-08-22   \n",
       "\n",
       "                                             content    year  month  \\\n",
       "0  Michael Phelps\\' bid for his most important wi...  2014.0    8.0   \n",
       "1  RIO DE JANEIRO — Portugal’s education minister...  2016.0    8.0   \n",
       "2  (Want to get this briefing by email? Here’s th...  2016.0    8.0   \n",
       "\n",
       "         publication  length  \\\n",
       "0  Los Angeles Times     996   \n",
       "1     New York Times    1256   \n",
       "2     New York Times    1166   \n",
       "\n",
       "                                            relevant  \\\n",
       "0  [Ryan Lochte, another preeminent American swim...   \n",
       "1  [Even before the armed robbery this weekend of...   \n",
       "2  [Ryan Lochte, above, the American swimmer and ...   \n",
       "\n",
       "                                              lemmas  \\\n",
       "0  [ryan lochte preeminent american swimmer finis...   \n",
       "1  [even arm robbery weekend american swimmer inc...   \n",
       "2  [ryan lochte american swimmer olympic gold med...   \n",
       "\n",
       "                                     lemmas_combined  score  deviation  \n",
       "0  ryan lochte preeminent american swimmer finish...    0.0        0.0  \n",
       "1  even arm robbery weekend american swimmer incl...    0.0        0.0  \n",
       "2  ryan lochte american swimmer olympic gold meda...    0.0        0.0  "
      ]
     },
     "execution_count": 23,
     "metadata": {},
     "output_type": "execute_result"
    }
   ],
   "source": [
    "mixed = news_relevant[news_relevant['score'] == 0.0].reset_index(drop=True)\n",
    "print(\"Found {} overall mixed articles for {}\".format(mixed.shape[0], name))\n",
    "mixed.head(3)"
   ]
  },
  {
   "cell_type": "markdown",
   "metadata": {},
   "source": [
    "### Highlight relevant named entities using ```spaCy```"
   ]
  },
  {
   "cell_type": "code",
   "execution_count": 24,
   "metadata": {},
   "outputs": [],
   "source": [
    "from IPython.display import Markdown, display\n",
    "options = {'ents': ['PERSON', 'ORG', 'GPE', 'EVENT'], \n",
    "           'colors': {'PERSON': '#9fafe5', 'ORG': '#d59b9b', 'GPE':'#81cba6'}}\n",
    "def printmd(string):\n",
    "    display(Markdown(string))\n",
    "    \n",
    "def display_entities(df, max_entries=5):\n",
    "    # Set relevant named entities that we want to extract\n",
    "    for idx, sent in enumerate(df['relevant'].str.join(' ')[:max_entries]):\n",
    "        doc = nlp(sent)\n",
    "        printmd('**{}**'.format(df['title'][idx]))\n",
    "        displacy.render(doc, style='ent', jupyter=True, options=options)\n",
    "        print('\\n')\n",
    "        \n",
    "def vis(pos, neg, mixed):\n",
    "    # Visualize positive and negativ groups using markdown\n",
    "    printmd('<font color=green>**Positive**</font>')\n",
    "    display_entities(pos)\n",
    "    printmd('<font color=red>**Negative**</font>')\n",
    "    display_entities(neg)\n",
    "    printmd('<font color=yellow>**Mixed**</font>')\n",
    "    display_entities(mixed)"
   ]
  },
  {
   "cell_type": "code",
   "execution_count": 25,
   "metadata": {},
   "outputs": [],
   "source": [
    "# vis(pos, neg, mixed)"
   ]
  },
  {
   "cell_type": "markdown",
   "metadata": {},
   "source": [
    "## Visualization\n",
    "\n",
    "### Plot sentiment score and magnitude versus time of publishing of the article\n",
    "In this section, sentiment \"score\" is the median of all polarity values (positive or negative) obtained per-sentence of the article from TextBlob. Sentiment \"magnitude\" is the standard deviation of sentiment among the per-sentence polarity values. "
   ]
  },
  {
   "cell_type": "code",
   "execution_count": 26,
   "metadata": {},
   "outputs": [],
   "source": [
    "news_avg_score = news_relevant.groupby('date')['score'].mean()\n",
    "news_avg_dev = news_relevant.groupby('date')['deviation'].mean()"
   ]
  },
  {
   "cell_type": "markdown",
   "metadata": {},
   "source": [
    "#### Concatenate scores and magnitudes for plotting"
   ]
  },
  {
   "cell_type": "code",
   "execution_count": 27,
   "metadata": {},
   "outputs": [
    {
     "data": {
      "text/html": [
       "<div>\n",
       "<style scoped>\n",
       "    .dataframe tbody tr th:only-of-type {\n",
       "        vertical-align: middle;\n",
       "    }\n",
       "\n",
       "    .dataframe tbody tr th {\n",
       "        vertical-align: top;\n",
       "    }\n",
       "\n",
       "    .dataframe thead th {\n",
       "        text-align: right;\n",
       "    }\n",
       "</style>\n",
       "<table border=\"1\" class=\"dataframe\">\n",
       "  <thead>\n",
       "    <tr style=\"text-align: right;\">\n",
       "      <th></th>\n",
       "      <th>score</th>\n",
       "      <th>deviation</th>\n",
       "    </tr>\n",
       "    <tr>\n",
       "      <th>date</th>\n",
       "      <th></th>\n",
       "      <th></th>\n",
       "    </tr>\n",
       "  </thead>\n",
       "  <tbody>\n",
       "    <tr>\n",
       "      <th>2014-08-08</th>\n",
       "      <td>0.000000</td>\n",
       "      <td>0.000000</td>\n",
       "    </tr>\n",
       "    <tr>\n",
       "      <th>2016-06-27</th>\n",
       "      <td>0.083944</td>\n",
       "      <td>0.202975</td>\n",
       "    </tr>\n",
       "    <tr>\n",
       "      <th>2016-08-05</th>\n",
       "      <td>0.325000</td>\n",
       "      <td>0.000000</td>\n",
       "    </tr>\n",
       "    <tr>\n",
       "      <th>2016-08-06</th>\n",
       "      <td>0.275000</td>\n",
       "      <td>0.000000</td>\n",
       "    </tr>\n",
       "    <tr>\n",
       "      <th>2016-08-07</th>\n",
       "      <td>0.500000</td>\n",
       "      <td>0.000000</td>\n",
       "    </tr>\n",
       "  </tbody>\n",
       "</table>\n",
       "</div>"
      ],
      "text/plain": [
       "               score  deviation\n",
       "date                           \n",
       "2014-08-08  0.000000   0.000000\n",
       "2016-06-27  0.083944   0.202975\n",
       "2016-08-05  0.325000   0.000000\n",
       "2016-08-06  0.275000   0.000000\n",
       "2016-08-07  0.500000   0.000000"
      ]
     },
     "execution_count": 27,
     "metadata": {},
     "output_type": "execute_result"
    }
   ],
   "source": [
    "scores = pd.concat((news_avg_score, news_avg_dev), axis=1).sort_values(by=['date'])\n",
    "scores.head()"
   ]
  },
  {
   "cell_type": "markdown",
   "metadata": {},
   "source": [
    "#### Reindex data to show daily scores\n",
    "Since we have really sparse data (news articles about the target are not written every day, we reindex the time series and fill missing values with zeros. "
   ]
  },
  {
   "cell_type": "code",
   "execution_count": 28,
   "metadata": {},
   "outputs": [],
   "source": [
    "idx = pd.date_range('1/1/2014', '7/5/2017')\n",
    "scores_daily = scores.reindex(idx, fill_value=0.0)"
   ]
  },
  {
   "cell_type": "code",
   "execution_count": 29,
   "metadata": {},
   "outputs": [
    {
     "data": {
      "image/png": "[encoded data removed]",
      "text/plain": [
       "<Figure size 1080x576 with 2 Axes>"
      ]
     },
     "metadata": {
      "needs_background": "light"
     },
     "output_type": "display_data"
    }
   ],
   "source": [
    "fig, (ax1, ax2) = plt.subplots(2, 1, figsize=(15, 8))\n",
    "ax1.fill_between(scores_daily.index, scores_daily['score'], step='mid', \n",
    "                 color='black', alpha=0.6, linewidth=4,\n",
    "                );\n",
    "ax1.set_ylabel('Score');\n",
    "ax1.set_title('Sentiment scores and deviations with time for \"{}\"'.format(name), size=15);\n",
    "ax2.fill_between(scores_daily.index, scores_daily['deviation'], step='mid', color='black', alpha=0.6, linewidth=4);\n",
    "ax2.set_ylabel('Deviation');\n",
    "ax2.set_xlabel('Date');\n",
    "# plt.savefig(\"{}_scores\".format('_'.join(name.split()).lower()))"
   ]
  },
  {
   "cell_type": "markdown",
   "metadata": {},
   "source": [
    " #### Make calendar plot to show periods of activity"
   ]
  },
  {
   "cell_type": "code",
   "execution_count": 30,
   "metadata": {},
   "outputs": [
    {
     "name": "stderr",
     "output_type": "stream",
     "text": [
      "/home/pprao/.local/lib/python3.6/site-packages/matplotlib/font_manager.py:1241: UserWarning: findfont: Font family ['Arial'] not found. Falling back to DejaVu Sans.\n",
      "  (prop.get_family(), self.defaultFamily[fontext]))\n"
     ]
    },
    {
     "data": {
      "image/png": "[encoded data removed]",
      "text/plain": [
       "<Figure size 1080x648 with 4 Axes>"
      ]
     },
     "metadata": {
      "needs_background": "light"
     },
     "output_type": "display_data"
    }
   ],
   "source": [
    "calmap.calendarplot(scores_daily['score'],\n",
    "                    vmin = -1.0,\n",
    "                    vmax=1.0,\n",
    "                    daylabels='MTWTFSS',\n",
    "                    dayticks=[0, 2, 4, 6],\n",
    "                    fig_kws=dict(figsize=(15, 9)),\n",
    "                    linewidth=1,\n",
    "                    fillcolor='lightgrey',\n",
    "                    cmap='coolwarm_r',\n",
    "                   );"
   ]
  },
  {
   "cell_type": "markdown",
   "metadata": {},
   "source": [
    "#### Get counts of positive and negative mentions based on Publication"
   ]
  },
  {
   "cell_type": "code",
   "execution_count": 31,
   "metadata": {},
   "outputs": [
    {
     "data": {
      "text/html": [
       "<div>\n",
       "<style scoped>\n",
       "    .dataframe tbody tr th:only-of-type {\n",
       "        vertical-align: middle;\n",
       "    }\n",
       "\n",
       "    .dataframe tbody tr th {\n",
       "        vertical-align: top;\n",
       "    }\n",
       "\n",
       "    .dataframe thead th {\n",
       "        text-align: right;\n",
       "    }\n",
       "</style>\n",
       "<table border=\"1\" class=\"dataframe\">\n",
       "  <thead>\n",
       "    <tr style=\"text-align: right;\">\n",
       "      <th></th>\n",
       "      <th>Negative</th>\n",
       "      <th>Positive</th>\n",
       "    </tr>\n",
       "    <tr>\n",
       "      <th>publication</th>\n",
       "      <th></th>\n",
       "      <th></th>\n",
       "    </tr>\n",
       "  </thead>\n",
       "  <tbody>\n",
       "    <tr>\n",
       "      <th>Los Angeles Times</th>\n",
       "      <td>0.0</td>\n",
       "      <td>2.0</td>\n",
       "    </tr>\n",
       "    <tr>\n",
       "      <th>National Review</th>\n",
       "      <td>0.0</td>\n",
       "      <td>7.0</td>\n",
       "    </tr>\n",
       "    <tr>\n",
       "      <th>Reuters</th>\n",
       "      <td>0.0</td>\n",
       "      <td>4.0</td>\n",
       "    </tr>\n",
       "    <tr>\n",
       "      <th>Business Insider</th>\n",
       "      <td>2.0</td>\n",
       "      <td>4.0</td>\n",
       "    </tr>\n",
       "    <tr>\n",
       "      <th>New York Post</th>\n",
       "      <td>2.0</td>\n",
       "      <td>10.0</td>\n",
       "    </tr>\n",
       "    <tr>\n",
       "      <th>Atlantic</th>\n",
       "      <td>3.0</td>\n",
       "      <td>16.0</td>\n",
       "    </tr>\n",
       "    <tr>\n",
       "      <th>Breitbart</th>\n",
       "      <td>3.0</td>\n",
       "      <td>4.0</td>\n",
       "    </tr>\n",
       "    <tr>\n",
       "      <th>Fox News</th>\n",
       "      <td>4.0</td>\n",
       "      <td>8.0</td>\n",
       "    </tr>\n",
       "    <tr>\n",
       "      <th>NPR</th>\n",
       "      <td>4.0</td>\n",
       "      <td>9.0</td>\n",
       "    </tr>\n",
       "    <tr>\n",
       "      <th>Buzzfeed News</th>\n",
       "      <td>5.0</td>\n",
       "      <td>6.0</td>\n",
       "    </tr>\n",
       "    <tr>\n",
       "      <th>Guardian</th>\n",
       "      <td>6.0</td>\n",
       "      <td>8.0</td>\n",
       "    </tr>\n",
       "    <tr>\n",
       "      <th>CNN</th>\n",
       "      <td>8.0</td>\n",
       "      <td>12.0</td>\n",
       "    </tr>\n",
       "    <tr>\n",
       "      <th>New York Times</th>\n",
       "      <td>9.0</td>\n",
       "      <td>25.0</td>\n",
       "    </tr>\n",
       "  </tbody>\n",
       "</table>\n",
       "</div>"
      ],
      "text/plain": [
       "                   Negative  Positive\n",
       "publication                          \n",
       "Los Angeles Times       0.0       2.0\n",
       "National Review         0.0       7.0\n",
       "Reuters                 0.0       4.0\n",
       "Business Insider        2.0       4.0\n",
       "New York Post           2.0      10.0\n",
       "Atlantic                3.0      16.0\n",
       "Breitbart               3.0       4.0\n",
       "Fox News                4.0       8.0\n",
       "NPR                     4.0       9.0\n",
       "Buzzfeed News           5.0       6.0\n",
       "Guardian                6.0       8.0\n",
       "CNN                     8.0      12.0\n",
       "New York Times          9.0      25.0"
      ]
     },
     "execution_count": 31,
     "metadata": {},
     "output_type": "execute_result"
    }
   ],
   "source": [
    "grouped = news_relevant.groupby('publication').apply(lambda x: x['score'] >= 0.0)\n",
    "grouped = grouped.groupby('publication').value_counts().to_frame()\n",
    "grouped = grouped.unstack().fillna(0.0)\n",
    "grouped.columns = ['Negative', 'Positive']\n",
    "grouped = grouped.sort_values(by='Negative')\n",
    "grouped"
   ]
  },
  {
   "cell_type": "markdown",
   "metadata": {},
   "source": [
    "#### Plot article breakdown"
   ]
  },
  {
   "cell_type": "code",
   "execution_count": 32,
   "metadata": {},
   "outputs": [
    {
     "data": {
      "image/png": "[encoded data removed]",
      "text/plain": [
       "<Figure size 864x576 with 1 Axes>"
      ]
     },
     "metadata": {
      "needs_background": "light"
     },
     "output_type": "display_data"
    }
   ],
   "source": [
    "grouped.plot(kind='barh', figsize=(12, 8));\n",
    "plt.title('Count of number of articles with Positive/Negative Sentiment for {}'.format(name));\n",
    "# plt.savefig(\"{}_breakdown\".format('_'.join(name.split()).lower()))"
   ]
  },
  {
   "cell_type": "markdown",
   "metadata": {},
   "source": [
    "#### Output result to CSV"
   ]
  },
  {
   "cell_type": "code",
   "execution_count": 33,
   "metadata": {},
   "outputs": [],
   "source": [
    "out_filename = '_'.join(name.split()).lower() + '_breakdown.csv'\n",
    "out_path = Path('./') / \"results/textblob\" / out_filename\n",
    "grouped.to_csv(out_path, index=False, header=True)"
   ]
  },
  {
   "cell_type": "markdown",
   "metadata": {},
   "source": [
    "## Visualize Cosine Similarity Distances\n",
    "To see how similar or different each article is based on publication, we can compute the cosine distances between articles to generate a \"distance matrix\" and then visualize these distances in two-dimensional space."
   ]
  },
  {
   "cell_type": "markdown",
   "metadata": {},
   "source": [
    "#### Calculate TF-IDF for document similarity\n",
    "We first define the term frequency-inverse document frequency to vectorize the text for each article into parameters, and generate a ```tf-idf``` matrix. \n",
    "\n",
    "Once we compute the ```tf-idf``` matrix, we can find a \"distance matrix\" that stores how similar or how different two documents are."
   ]
  },
  {
   "cell_type": "code",
   "execution_count": 34,
   "metadata": {},
   "outputs": [
    {
     "name": "stdout",
     "output_type": "stream",
     "text": [
      "(161, 37)\n"
     ]
    }
   ],
   "source": [
    "# Define vectorizer parameters\n",
    "tfidf_vectorizer = TfidfVectorizer(max_df=0.8, max_features=200000,\n",
    "                                 min_df=0.2)\n",
    "# \n",
    "tfidf_matrix = tfidf_vectorizer.fit_transform(news_relevant['lemmas_combined'] ) #fit the vectorizer to synopses\n",
    "print(tfidf_matrix.shape)\n",
    "\n",
    "# Display some key terms\n",
    "terms = tfidf_vectorizer.get_feature_names()"
   ]
  },
  {
   "cell_type": "code",
   "execution_count": 35,
   "metadata": {},
   "outputs": [],
   "source": [
    "# Get cosine distance matrix\n",
    "dist = 1 - cosine_similarity(tfidf_matrix)"
   ]
  },
  {
   "cell_type": "markdown",
   "metadata": {},
   "source": [
    "#### Multidimensional Scaling (MDS)\n",
    "The computed distances are in multi-dimensional in nature. To visualize the similarity, we \"embed\" the cosine distances (from the distance matrix) to a two-dimensional space, which we can then plot to see how the articles compare with each other in terms of their content."
   ]
  },
  {
   "cell_type": "code",
   "execution_count": 36,
   "metadata": {},
   "outputs": [
    {
     "name": "stdout",
     "output_type": "stream",
     "text": [
      "(161, 2)\n"
     ]
    }
   ],
   "source": [
    "embedding = MDS(n_components=2, dissimilarity=\"precomputed\", random_state=37)\n",
    "dist_transformed = embedding.fit_transform(dist)\n",
    "print(dist_transformed.shape)\n",
    "\n",
    "xs, ys = dist_transformed[:, 0], dist_transformed[:, 1]"
   ]
  },
  {
   "cell_type": "markdown",
   "metadata": {},
   "source": [
    "#### Generate an MDS DataFrame for plotting\n",
    "We combine the x-y distances from the MDS calculation with the original publication labels to see how different the articles are from each other, colored by publication."
   ]
  },
  {
   "cell_type": "code",
   "execution_count": 37,
   "metadata": {},
   "outputs": [
    {
     "data": {
      "text/html": [
       "<div>\n",
       "<style scoped>\n",
       "    .dataframe tbody tr th:only-of-type {\n",
       "        vertical-align: middle;\n",
       "    }\n",
       "\n",
       "    .dataframe tbody tr th {\n",
       "        vertical-align: top;\n",
       "    }\n",
       "\n",
       "    .dataframe thead th {\n",
       "        text-align: right;\n",
       "    }\n",
       "</style>\n",
       "<table border=\"1\" class=\"dataframe\">\n",
       "  <thead>\n",
       "    <tr style=\"text-align: right;\">\n",
       "      <th></th>\n",
       "      <th>label</th>\n",
       "      <th>x</th>\n",
       "      <th>y</th>\n",
       "    </tr>\n",
       "  </thead>\n",
       "  <tbody>\n",
       "    <tr>\n",
       "      <th>3095</th>\n",
       "      <td>Los Angeles Times</td>\n",
       "      <td>0.049449</td>\n",
       "      <td>0.029639</td>\n",
       "    </tr>\n",
       "    <tr>\n",
       "      <th>8946</th>\n",
       "      <td>Los Angeles Times</td>\n",
       "      <td>0.035553</td>\n",
       "      <td>-0.470827</td>\n",
       "    </tr>\n",
       "    <tr>\n",
       "      <th>13789</th>\n",
       "      <td>New York Times</td>\n",
       "      <td>0.569741</td>\n",
       "      <td>-0.192691</td>\n",
       "    </tr>\n",
       "    <tr>\n",
       "      <th>13825</th>\n",
       "      <td>New York Times</td>\n",
       "      <td>0.679005</td>\n",
       "      <td>0.406072</td>\n",
       "    </tr>\n",
       "    <tr>\n",
       "      <th>13839</th>\n",
       "      <td>New York Times</td>\n",
       "      <td>-0.364867</td>\n",
       "      <td>0.741446</td>\n",
       "    </tr>\n",
       "  </tbody>\n",
       "</table>\n",
       "</div>"
      ],
      "text/plain": [
       "                   label         x         y\n",
       "3095   Los Angeles Times  0.049449  0.029639\n",
       "8946   Los Angeles Times  0.035553 -0.470827\n",
       "13789     New York Times  0.569741 -0.192691\n",
       "13825     New York Times  0.679005  0.406072\n",
       "13839     New York Times -0.364867  0.741446"
      ]
     },
     "execution_count": 37,
     "metadata": {},
     "output_type": "execute_result"
    }
   ],
   "source": [
    "compare = pd.DataFrame(dict(label=news_relevant['publication'], x=xs, y=ys))\n",
    "compare.head()"
   ]
  },
  {
   "cell_type": "code",
   "execution_count": 38,
   "metadata": {},
   "outputs": [
    {
     "name": "stdout",
     "output_type": "stream",
     "text": [
      "Found 13 unique categories for publications\n"
     ]
    }
   ],
   "source": [
    "L = news_relevant['publication'].nunique()\n",
    "print(\"Found {} unique categories for publications\".format(L))"
   ]
  },
  {
   "cell_type": "code",
   "execution_count": 39,
   "metadata": {},
   "outputs": [
    {
     "data": {
      "text/html": [
       "<div>\n",
       "<style scoped>\n",
       "    .dataframe tbody tr th:only-of-type {\n",
       "        vertical-align: middle;\n",
       "    }\n",
       "\n",
       "    .dataframe tbody tr th {\n",
       "        vertical-align: top;\n",
       "    }\n",
       "\n",
       "    .dataframe thead th {\n",
       "        text-align: right;\n",
       "    }\n",
       "</style>\n",
       "<table border=\"1\" class=\"dataframe\">\n",
       "  <thead>\n",
       "    <tr style=\"text-align: right;\">\n",
       "      <th></th>\n",
       "      <th>count</th>\n",
       "      <th>x</th>\n",
       "      <th>y</th>\n",
       "    </tr>\n",
       "    <tr>\n",
       "      <th>label</th>\n",
       "      <th></th>\n",
       "      <th></th>\n",
       "      <th></th>\n",
       "    </tr>\n",
       "  </thead>\n",
       "  <tbody>\n",
       "    <tr>\n",
       "      <th>Atlantic</th>\n",
       "      <td>19</td>\n",
       "      <td>0.134183</td>\n",
       "      <td>-0.134963</td>\n",
       "    </tr>\n",
       "    <tr>\n",
       "      <th>Breitbart</th>\n",
       "      <td>7</td>\n",
       "      <td>-0.034057</td>\n",
       "      <td>-0.010643</td>\n",
       "    </tr>\n",
       "    <tr>\n",
       "      <th>Business Insider</th>\n",
       "      <td>6</td>\n",
       "      <td>0.012952</td>\n",
       "      <td>0.141242</td>\n",
       "    </tr>\n",
       "    <tr>\n",
       "      <th>Buzzfeed News</th>\n",
       "      <td>11</td>\n",
       "      <td>-0.121611</td>\n",
       "      <td>-0.023451</td>\n",
       "    </tr>\n",
       "    <tr>\n",
       "      <th>CNN</th>\n",
       "      <td>20</td>\n",
       "      <td>0.084364</td>\n",
       "      <td>0.221514</td>\n",
       "    </tr>\n",
       "    <tr>\n",
       "      <th>Fox News</th>\n",
       "      <td>12</td>\n",
       "      <td>-0.031457</td>\n",
       "      <td>0.166461</td>\n",
       "    </tr>\n",
       "    <tr>\n",
       "      <th>Guardian</th>\n",
       "      <td>14</td>\n",
       "      <td>-0.101146</td>\n",
       "      <td>-0.140855</td>\n",
       "    </tr>\n",
       "    <tr>\n",
       "      <th>Los Angeles Times</th>\n",
       "      <td>2</td>\n",
       "      <td>0.042501</td>\n",
       "      <td>-0.220594</td>\n",
       "    </tr>\n",
       "    <tr>\n",
       "      <th>NPR</th>\n",
       "      <td>13</td>\n",
       "      <td>0.086689</td>\n",
       "      <td>0.215968</td>\n",
       "    </tr>\n",
       "    <tr>\n",
       "      <th>National Review</th>\n",
       "      <td>7</td>\n",
       "      <td>0.144999</td>\n",
       "      <td>0.477238</td>\n",
       "    </tr>\n",
       "    <tr>\n",
       "      <th>New York Post</th>\n",
       "      <td>12</td>\n",
       "      <td>-0.027713</td>\n",
       "      <td>-0.109907</td>\n",
       "    </tr>\n",
       "    <tr>\n",
       "      <th>New York Times</th>\n",
       "      <td>34</td>\n",
       "      <td>-0.104898</td>\n",
       "      <td>-0.220184</td>\n",
       "    </tr>\n",
       "    <tr>\n",
       "      <th>Reuters</th>\n",
       "      <td>4</td>\n",
       "      <td>0.181835</td>\n",
       "      <td>0.172886</td>\n",
       "    </tr>\n",
       "  </tbody>\n",
       "</table>\n",
       "</div>"
      ],
      "text/plain": [
       "                   count         x         y\n",
       "label                                       \n",
       "Atlantic              19  0.134183 -0.134963\n",
       "Breitbart              7 -0.034057 -0.010643\n",
       "Business Insider       6  0.012952  0.141242\n",
       "Buzzfeed News         11 -0.121611 -0.023451\n",
       "CNN                   20  0.084364  0.221514\n",
       "Fox News              12 -0.031457  0.166461\n",
       "Guardian              14 -0.101146 -0.140855\n",
       "Los Angeles Times      2  0.042501 -0.220594\n",
       "NPR                   13  0.086689  0.215968\n",
       "National Review        7  0.144999  0.477238\n",
       "New York Post         12 -0.027713 -0.109907\n",
       "New York Times        34 -0.104898 -0.220184\n",
       "Reuters                4  0.181835  0.172886"
      ]
     },
     "execution_count": 39,
     "metadata": {},
     "output_type": "execute_result"
    }
   ],
   "source": [
    "groups = compare.groupby('label').agg({'label': 'count', 'x': 'mean', 'y': 'mean'})\n",
    "groups.columns = ['count', 'x', 'y']\n",
    "groups"
   ]
  },
  {
   "cell_type": "markdown",
   "metadata": {},
   "source": [
    "#### Visualize similarities as embedded cosine distances"
   ]
  },
  {
   "cell_type": "code",
   "execution_count": 40,
   "metadata": {
    "scrolled": false
   },
   "outputs": [
    {
     "data": {
      "image/png": "[encoded data removed]",
      "text/plain": [
       "<Figure size 864x648 with 1 Axes>"
      ]
     },
     "metadata": {
      "needs_background": "light"
     },
     "output_type": "display_data"
    }
   ],
   "source": [
    "fig, ax = plt.subplots(figsize=(12, 9))\n",
    "\n",
    "colors = [i for i in range(len(groups.index))]\n",
    "\n",
    "ax.scatter(groups['x'], groups['y'], c=colors, \n",
    "            s=groups['count']*100, linewidths=1.5, alpha=0.7,\n",
    "            edgecolors='k', cmap=plt.cm.gist_rainbow,\n",
    "            );\n",
    "\n",
    "for i, txt in enumerate(groups.index):\n",
    "    ax.annotate(txt, (groups['x'][i], groups['y'][i]),\n",
    "                fontsize=18, alpha=0.7);\n",
    "ax.set_xticklabels(['']);\n",
    "ax.set_yticklabels(['']);\n",
    "plt.tight_layout()"
   ]
  }
 ],
 "metadata": {
  "kernelspec": {
   "display_name": "Python 3",
   "language": "python",
   "name": "python3"
  },
  "language_info": {
   "codemirror_mode": {
    "name": "ipython",
    "version": 3
   },
   "file_extension": ".py",
   "mimetype": "text/x-python",
   "name": "python",
   "nbconvert_exporter": "python",
   "pygments_lexer": "ipython3",
   "version": "3.6.7"
  }
 },
 "nbformat": 4,
 "nbformat_minor": 2
}
