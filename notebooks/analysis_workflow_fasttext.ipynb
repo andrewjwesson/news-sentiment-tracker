{
 "cells": [
  {
   "cell_type": "markdown",
   "metadata": {},
   "source": [
    "# Data Pipeline\n",
    "Initial data analysis pipeline including a naive sentiment analysis using TextBlob."
   ]
  },
  {
   "cell_type": "code",
   "execution_count": 1,
   "metadata": {},
   "outputs": [],
   "source": [
    "import re\n",
    "import spacy\n",
    "import pandas as pd\n",
    "import numpy as np\n",
    "from pathlib import Path\n",
    "from string import punctuation"
   ]
  },
  {
   "cell_type": "code",
   "execution_count": 2,
   "metadata": {},
   "outputs": [],
   "source": [
    "import matplotlib.pyplot as plt\n",
    "%matplotlib inline"
   ]
  },
  {
   "cell_type": "code",
   "execution_count": 3,
   "metadata": {},
   "outputs": [],
   "source": [
    "import calmap # for making GitHub-style calendar plots of time-series\n",
    "# Plot using Pandas datatime objects\n",
    "from pandas.plotting import register_matplotlib_converters\n",
    "register_matplotlib_converters()\n",
    "rc_fonts = {'figure.figsize': (15, 8),\n",
    "            'axes.labelsize': 16,\n",
    "            'xtick.labelsize': 14,\n",
    "            'ytick.labelsize': 14}\n",
    "plt.rcParams.update(rc_fonts)\n",
    "plt.style.use('ggplot')"
   ]
  },
  {
   "cell_type": "code",
   "execution_count": 4,
   "metadata": {},
   "outputs": [],
   "source": [
    "# Scikit-learn for TF-IDF and similarity detection\n",
    "from sklearn.metrics.pairwise import cosine_similarity\n",
    "from sklearn.feature_extraction.text import TfidfVectorizer\n",
    "from sklearn.manifold import MDS"
   ]
  },
  {
   "cell_type": "markdown",
   "metadata": {},
   "source": [
    "## Use ```spaCy``` for tokenization and sentence segmentation"
   ]
  },
  {
   "cell_type": "code",
   "execution_count": 5,
   "metadata": {},
   "outputs": [],
   "source": [
    "import spacy\n",
    "from spacy import displacy\n",
    "# Load spaCy language model (blank model to which we add pipeline components)\n",
    "sentencizer = spacy.blank('en')\n",
    "sentencizer.add_pipe(sentencizer.create_pipe('sentencizer'))"
   ]
  },
  {
   "cell_type": "markdown",
   "metadata": {},
   "source": [
    "#### Specify named entity of interest"
   ]
  },
  {
   "cell_type": "code",
   "execution_count": 6,
   "metadata": {},
   "outputs": [],
   "source": [
    "name = \"Ryan Lochte\""
   ]
  },
  {
   "cell_type": "markdown",
   "metadata": {},
   "source": [
    "#### Write data: Boolean\n",
    "Specify if we want to write the output data to csv or not."
   ]
  },
  {
   "cell_type": "code",
   "execution_count": 7,
   "metadata": {},
   "outputs": [],
   "source": [
    "write_ = False"
   ]
  },
  {
   "cell_type": "code",
   "execution_count": 8,
   "metadata": {},
   "outputs": [
    {
     "data": {
      "text/html": [
       "<div>\n",
       "<style scoped>\n",
       "    .dataframe tbody tr th:only-of-type {\n",
       "        vertical-align: middle;\n",
       "    }\n",
       "\n",
       "    .dataframe tbody tr th {\n",
       "        vertical-align: top;\n",
       "    }\n",
       "\n",
       "    .dataframe thead th {\n",
       "        text-align: right;\n",
       "    }\n",
       "</style>\n",
       "<table border=\"1\" class=\"dataframe\">\n",
       "  <thead>\n",
       "    <tr style=\"text-align: right;\">\n",
       "      <th></th>\n",
       "      <th>title</th>\n",
       "      <th>author</th>\n",
       "      <th>date</th>\n",
       "      <th>content</th>\n",
       "      <th>year</th>\n",
       "      <th>month</th>\n",
       "      <th>publication</th>\n",
       "      <th>length</th>\n",
       "    </tr>\n",
       "  </thead>\n",
       "  <tbody>\n",
       "    <tr>\n",
       "      <th>0</th>\n",
       "      <td>Agent Cooper in Twin Peaks is the audience: on...</td>\n",
       "      <td>Tasha Robinson</td>\n",
       "      <td>2017-05-31</td>\n",
       "      <td>And never more so than in Showtime’s new...</td>\n",
       "      <td>2017.0</td>\n",
       "      <td>5.0</td>\n",
       "      <td>Verge</td>\n",
       "      <td>2376</td>\n",
       "    </tr>\n",
       "    <tr>\n",
       "      <th>1</th>\n",
       "      <td>AI, the humanity!</td>\n",
       "      <td>Sam Byford</td>\n",
       "      <td>2017-05-30</td>\n",
       "      <td>AlphaGo’s victory isn’t a defeat for hum...</td>\n",
       "      <td>2017.0</td>\n",
       "      <td>5.0</td>\n",
       "      <td>Verge</td>\n",
       "      <td>2125</td>\n",
       "    </tr>\n",
       "    <tr>\n",
       "      <th>2</th>\n",
       "      <td>The Viral Machine</td>\n",
       "      <td>Kaitlyn Tiffany</td>\n",
       "      <td>2017-05-25</td>\n",
       "      <td>Super Deluxe built a weird internet empi...</td>\n",
       "      <td>2017.0</td>\n",
       "      <td>5.0</td>\n",
       "      <td>Verge</td>\n",
       "      <td>3310</td>\n",
       "    </tr>\n",
       "    <tr>\n",
       "      <th>3</th>\n",
       "      <td>How Anker is beating Apple and Samsung at thei...</td>\n",
       "      <td>Nick Statt</td>\n",
       "      <td>2017-05-22</td>\n",
       "      <td>Steven Yang quit his job at Google in th...</td>\n",
       "      <td>2017.0</td>\n",
       "      <td>5.0</td>\n",
       "      <td>Verge</td>\n",
       "      <td>3632</td>\n",
       "    </tr>\n",
       "    <tr>\n",
       "      <th>4</th>\n",
       "      <td>Tour Black Panther’s reimagined homeland with ...</td>\n",
       "      <td>Kwame Opam</td>\n",
       "      <td>2017-05-15</td>\n",
       "      <td>Ahead of Black Panther’s 2018 theatrical...</td>\n",
       "      <td>2017.0</td>\n",
       "      <td>5.0</td>\n",
       "      <td>Verge</td>\n",
       "      <td>262</td>\n",
       "    </tr>\n",
       "  </tbody>\n",
       "</table>\n",
       "</div>"
      ],
      "text/plain": [
       "                                               title           author  \\\n",
       "0  Agent Cooper in Twin Peaks is the audience: on...   Tasha Robinson   \n",
       "1                                  AI, the humanity!       Sam Byford   \n",
       "2                                  The Viral Machine  Kaitlyn Tiffany   \n",
       "3  How Anker is beating Apple and Samsung at thei...       Nick Statt   \n",
       "4  Tour Black Panther’s reimagined homeland with ...       Kwame Opam   \n",
       "\n",
       "        date                                            content    year  \\\n",
       "0 2017-05-31        And never more so than in Showtime’s new...  2017.0   \n",
       "1 2017-05-30        AlphaGo’s victory isn’t a defeat for hum...  2017.0   \n",
       "2 2017-05-25        Super Deluxe built a weird internet empi...  2017.0   \n",
       "3 2017-05-22        Steven Yang quit his job at Google in th...  2017.0   \n",
       "4 2017-05-15        Ahead of Black Panther’s 2018 theatrical...  2017.0   \n",
       "\n",
       "   month publication  length  \n",
       "0    5.0       Verge    2376  \n",
       "1    5.0       Verge    2125  \n",
       "2    5.0       Verge    3310  \n",
       "3    5.0       Verge    3632  \n",
       "4    5.0       Verge     262  "
      ]
     },
     "execution_count": 8,
     "metadata": {},
     "output_type": "execute_result"
    }
   ],
   "source": [
    "datafile = 'all_the_news_v2.csv'\n",
    "datapath = Path('../') / 'data' / datafile \n",
    "colnames = ['title', 'author', 'date', 'content', 'year', 'month', 'publication', 'length']\n",
    "\n",
    "news = pd.read_csv(datapath, usecols=colnames, parse_dates=['date'])\n",
    "news['author'] = news['author'].str.strip()\n",
    "news.head()"
   ]
  },
  {
   "cell_type": "code",
   "execution_count": 9,
   "metadata": {},
   "outputs": [
    {
     "data": {
      "text/plain": [
       "143156"
      ]
     },
     "execution_count": 9,
     "metadata": {},
     "output_type": "execute_result"
    }
   ],
   "source": [
    "news = news.dropna(subset=['date', 'title'])\n",
    "news.shape[0]"
   ]
  },
  {
   "cell_type": "code",
   "execution_count": 10,
   "metadata": {},
   "outputs": [
    {
     "data": {
      "text/plain": [
       "count                  143156\n",
       "unique                   1480\n",
       "top       2017-01-13 00:00:00\n",
       "freq                      415\n",
       "first     2000-05-15 00:00:00\n",
       "last      2017-07-05 00:00:00\n",
       "Name: date, dtype: object"
      ]
     },
     "execution_count": 10,
     "metadata": {},
     "output_type": "execute_result"
    }
   ],
   "source": [
    "news['date'].describe()"
   ]
  },
  {
   "cell_type": "markdown",
   "metadata": {},
   "source": [
    "### Filter articles based on name match\n",
    "In this section we only select those news articles that contain part of or all of the name we input as ```name```."
   ]
  },
  {
   "cell_type": "code",
   "execution_count": 11,
   "metadata": {},
   "outputs": [
    {
     "name": "stdout",
     "output_type": "stream",
     "text": [
      "182\n"
     ]
    },
    {
     "data": {
      "text/html": [
       "<div>\n",
       "<style scoped>\n",
       "    .dataframe tbody tr th:only-of-type {\n",
       "        vertical-align: middle;\n",
       "    }\n",
       "\n",
       "    .dataframe tbody tr th {\n",
       "        vertical-align: top;\n",
       "    }\n",
       "\n",
       "    .dataframe thead th {\n",
       "        text-align: right;\n",
       "    }\n",
       "</style>\n",
       "<table border=\"1\" class=\"dataframe\">\n",
       "  <thead>\n",
       "    <tr style=\"text-align: right;\">\n",
       "      <th></th>\n",
       "      <th>title</th>\n",
       "      <th>author</th>\n",
       "      <th>date</th>\n",
       "      <th>content</th>\n",
       "      <th>year</th>\n",
       "      <th>month</th>\n",
       "      <th>publication</th>\n",
       "      <th>length</th>\n",
       "    </tr>\n",
       "  </thead>\n",
       "  <tbody>\n",
       "    <tr>\n",
       "      <th>3095</th>\n",
       "      <td>After Olympic-sized goof, Ryan Lochte begins a...</td>\n",
       "      <td>David Wharton</td>\n",
       "      <td>2017-04-27</td>\n",
       "      <td>Don’t cringe or shake your head or stop readin...</td>\n",
       "      <td>2017.0</td>\n",
       "      <td>4.0</td>\n",
       "      <td>Los Angeles Times</td>\n",
       "      <td>1925</td>\n",
       "    </tr>\n",
       "    <tr>\n",
       "      <th>8946</th>\n",
       "      <td>Michael Phelps is a touch off in 100 butterfly...</td>\n",
       "      <td>Everett Cook</td>\n",
       "      <td>2014-08-08</td>\n",
       "      <td>Michael Phelps\\' bid for his most important wi...</td>\n",
       "      <td>2014.0</td>\n",
       "      <td>8.0</td>\n",
       "      <td>Los Angeles Times</td>\n",
       "      <td>996</td>\n",
       "    </tr>\n",
       "    <tr>\n",
       "      <th>13789</th>\n",
       "      <td>Michael Phelps Powers U.S. to Victory in 4x100...</td>\n",
       "      <td>Victor Mather, Karen Crouse and Doug Mills</td>\n",
       "      <td>2016-08-10</td>\n",
       "      <td>RIO DE JANEIRO — Michael Phelps won his 19th O...</td>\n",
       "      <td>2016.0</td>\n",
       "      <td>8.0</td>\n",
       "      <td>New York Times</td>\n",
       "      <td>276</td>\n",
       "    </tr>\n",
       "    <tr>\n",
       "      <th>13825</th>\n",
       "      <td>Rio Olympics: Simone Manuel Makes History in t...</td>\n",
       "      <td>Karen Crouse</td>\n",
       "      <td>2016-08-16</td>\n",
       "      <td>RIO DE JANEIRO — Simone Manuel managed to make...</td>\n",
       "      <td>2016.0</td>\n",
       "      <td>8.0</td>\n",
       "      <td>New York Times</td>\n",
       "      <td>1468</td>\n",
       "    </tr>\n",
       "    <tr>\n",
       "      <th>13839</th>\n",
       "      <td>Rio Olympics: A Phelps Upset, a Judo Snub, and...</td>\n",
       "      <td>Sam Manchester and Victor Mather</td>\n",
       "      <td>2016-08-16</td>\n",
       "      <td>Katie Ledecky did what Katie Ledecky does best...</td>\n",
       "      <td>2016.0</td>\n",
       "      <td>8.0</td>\n",
       "      <td>New York Times</td>\n",
       "      <td>1614</td>\n",
       "    </tr>\n",
       "  </tbody>\n",
       "</table>\n",
       "</div>"
      ],
      "text/plain": [
       "                                                   title  \\\n",
       "3095   After Olympic-sized goof, Ryan Lochte begins a...   \n",
       "8946   Michael Phelps is a touch off in 100 butterfly...   \n",
       "13789  Michael Phelps Powers U.S. to Victory in 4x100...   \n",
       "13825  Rio Olympics: Simone Manuel Makes History in t...   \n",
       "13839  Rio Olympics: A Phelps Upset, a Judo Snub, and...   \n",
       "\n",
       "                                           author       date  \\\n",
       "3095                                David Wharton 2017-04-27   \n",
       "8946                                 Everett Cook 2014-08-08   \n",
       "13789  Victor Mather, Karen Crouse and Doug Mills 2016-08-10   \n",
       "13825                                Karen Crouse 2016-08-16   \n",
       "13839            Sam Manchester and Victor Mather 2016-08-16   \n",
       "\n",
       "                                                 content    year  month  \\\n",
       "3095   Don’t cringe or shake your head or stop readin...  2017.0    4.0   \n",
       "8946   Michael Phelps\\' bid for his most important wi...  2014.0    8.0   \n",
       "13789  RIO DE JANEIRO — Michael Phelps won his 19th O...  2016.0    8.0   \n",
       "13825  RIO DE JANEIRO — Simone Manuel managed to make...  2016.0    8.0   \n",
       "13839  Katie Ledecky did what Katie Ledecky does best...  2016.0    8.0   \n",
       "\n",
       "             publication  length  \n",
       "3095   Los Angeles Times    1925  \n",
       "8946   Los Angeles Times     996  \n",
       "13789     New York Times     276  \n",
       "13825     New York Times    1468  \n",
       "13839     New York Times    1614  "
      ]
     },
     "execution_count": 11,
     "metadata": {},
     "output_type": "execute_result"
    }
   ],
   "source": [
    "def check_name(content, name):\n",
    "    flag = False\n",
    "    if name in content:\n",
    "        flag = True\n",
    "    return flag\n",
    "\n",
    "def filter_df(df):\n",
    "    df['match'] = df['content'].apply(lambda x: check_name(x, name))\n",
    "    df_relevant = df.loc[df['match'].eq(True)]\n",
    "    return df_relevant.drop(['match'], axis=1)\n",
    "\n",
    "news_relevant = filter_df(news)\n",
    "print(news_relevant.shape[0])\n",
    "news_relevant.head()"
   ]
  },
  {
   "cell_type": "markdown",
   "metadata": {},
   "source": [
    "### Perform sentence segmentation\n",
    "Store the sentences in each news articles as a list of sentences, from which we can easily extract per-sentence sentiment."
   ]
  },
  {
   "cell_type": "code",
   "execution_count": 12,
   "metadata": {},
   "outputs": [],
   "source": [
    "def get_relevant(text, name):\n",
    "    doc = sentencizer(text)\n",
    "    relevant = []\n",
    "    for sent in doc.sents:\n",
    "        for n in name.split():\n",
    "            if n in sent.text:\n",
    "                clean = sent.text.replace(\"\\n\", \" \").replace(\"\\xa0\", \" \")\n",
    "                # Strip bad characters at the start of sentences\n",
    "                clean = clean.strip(\"[\\'\").strip(\"\\']\").strip('\\\"').strip(\"\\'\\\"\")\n",
    "                clean = clean.strip(\",\\'\").strip(\"\\',\").strip('\\\"').strip(\"\\'\\\"\").strip()\n",
    "                relevant.append(clean)\n",
    "    # Remove duplicates\n",
    "    relevant = list(dict.fromkeys(relevant))\n",
    "    return relevant"
   ]
  },
  {
   "cell_type": "code",
   "execution_count": 13,
   "metadata": {},
   "outputs": [],
   "source": [
    "news_relevant['relevant'] = news_relevant['content'].apply(lambda x: get_relevant(x, name))"
   ]
  },
  {
   "cell_type": "code",
   "execution_count": 14,
   "metadata": {},
   "outputs": [
    {
     "name": "stdout",
     "output_type": "stream",
     "text": [
      "[\"That’s all Ryan Lochte wants as he ambles across the pool deck on a bright Southern California day, looking tanned and relaxed, if a bit weary from his morning workout.', '“\", 'Lochte now finds himself living in Los Angeles with his pregnant fiancée and training at USC with thoughts of a comeback.', \"Here’s the condensed version:', 'After a fifth-place finish in the 200-meter individual medley — his dissatisfaction hardly assuaged by a gold in the 800 freestyle relay — Lochte partied with three teammates at the French team’s hospitality house.',\", \"Lochte initially told authorities they were pulled over and robbed by armed men posing as police officers.',\", \"Lochte suffered an additional blow as Speedo and other corporate sponsors walked away.',\", 'Ryan Lochte didn’t have to get drunk and vandalize a Rio de Janeiro gas station during the Summer Olympics in August.', \"But he did, and it’s at times like this when people really need their...', 'Ryan Lochte didn’t have to get drunk and vandalize a Rio de Janeiro gas station during the Summer Olympics in August.\", \"Lochte offers a different perspective, contending that Rio was the culmination of a dark period in his life.',\", \"I told my family, ‘This was a mistake.’”', '::', 'If you are looking for a single motivation, one moment that turned Lochte around, it isn’t that simple.',\", \"If anything, the incident might have made Lochte a more sympathetic figure in public.',\", \"A day after news broke that Ryan Lochte will be suspended from swimming for 10 months, the three teammates who accompanied him on a night of partying at the Summer Olympics have received their punishment for fabricating stories of a robbery.',\", \"Gunnar Bentz, Jack Conger and James Feigen were handed...', 'A day after news broke that Ryan Lochte will be suspended from swimming for 10 months, the three teammates who accompanied him on a night of partying at the Summer Olympics have received their punishment for fabricating stories of a robbery.',\", 'Like a lot of athletes, Lochte had never been able to separate competition and personal life.', 'If Lochte needed an extra push toward the pool, it might have come from a visit to the doctor with his fiancée.', \"The boy will be about 3 when the 2020 Tokyo Olympics come around, Lochte figured.', '“\", \"Ryan Lochte says he feels “a little hurt” after being involved in an altercation on “Dancing with the Stars” that prompted producers to cut to commercials.\\\\xa0', 'The beleaguered swimmer was reportedly rushed by an unknown pair of men wearing anti-Lochte T-shirts while receiving his scores from judge...', 'Ryan Lochte says he feels “a little hurt” after being involved in an altercation on “Dancing with the Stars” that prompted producers to cut to commercials.\\\\xa0', 'The beleaguered swimmer was reportedly rushed by an unknown pair of men wearing anti-Lochte T-shirts while receiving his scores from judge...', '“I needed something to knock me down to the lowest,” Lochte says. “\", 'The younger guys tease him about having “old-man strength,” but Lochte cannot train as hard as he once did.', 'Scheduled to compete in several events beginning Friday, Lochte feels jittery about racing for the first time since the Olympics.', 'The thing is, Lochte doesn’t entirely fit his renegade image.'] \n",
      "--\n",
      "['Ryan Lochte, another preeminent American swimmer, finished fifth in 52.21.', 'But he has never competed in an Olympics, which could be why, during a television interview after the race, Shields said, \"I was so stoked to be racing in between Ryan and Michael.'] \n",
      "--\n",
      "['Ryan Held and Nathan Adrian brought the U.S. home Adrian’s split was an even better 46.97.', 'France and the United States split the last two Olympic gold medals, with Yannick Agnel of France outdueling Ryan Lochte in the anchor leg to win four years ago.'] \n",
      "--\n",
      "['Michael Phelps won the 200 individual medley easily, beating not only teammate Ryan Lochte, but an ancient Greek.', 'Lochte finished fifth.'] \n",
      "--\n",
      "['Phelps Breaks an Ancient Record: Michael Phelps won the 200 individual medley easily, beating not only teammate Ryan Lochte, but an ancient Greek.', 'Lochte finished fifth.'] \n",
      "--\n"
     ]
    }
   ],
   "source": [
    "for i in news_relevant['relevant'][:5]:\n",
    "    print(i, '\\n--')"
   ]
  },
  {
   "cell_type": "markdown",
   "metadata": {},
   "source": [
    "### Sentiment scoring using FastText"
   ]
  },
  {
   "cell_type": "code",
   "execution_count": 15,
   "metadata": {},
   "outputs": [],
   "source": [
    "import fastText\n",
    "# Load trained fastText model\n",
    "model_path = './fasttext_models/pretrained_yelp_review_full.ftz'"
   ]
  },
  {
   "cell_type": "markdown",
   "metadata": {},
   "source": [
    "#### Preprocess text and tokenize as per FastText requirements"
   ]
  },
  {
   "cell_type": "code",
   "execution_count": 16,
   "metadata": {},
   "outputs": [],
   "source": [
    "def fasttext_tokenize(string):\n",
    "    string = string.lower()\n",
    "    string = re.sub(r\"([.!?,'/()])\", r\" \\1 \", string)\n",
    "    return string"
   ]
  },
  {
   "cell_type": "code",
   "execution_count": 17,
   "metadata": {},
   "outputs": [],
   "source": [
    "# reviews = [\n",
    "#     \"This restaurant literally changed my life. This is the best food I've ever eaten!\",\n",
    "#     \"I hate this place so much. They were mean to me.\",\n",
    "#     \"I don't know. It was ok, I guess. Not really sure what to say.\",\n",
    "# ]\n",
    "\n",
    "# preprocessed_reviews = list(map(strip_formatting, reviews))\n",
    "# # Load classifier\n",
    "# classifier = fastText.load_model(model_path)\n",
    "\n",
    "# # Get fastText to classify each review with the model\n",
    "# labels, probabilities = classifier.predict(preprocessed_reviews, 1)\n",
    "# stars = [int(l[0][-1]) - 3 for l in labels]\n",
    "# stars"
   ]
  },
  {
   "cell_type": "code",
   "execution_count": 18,
   "metadata": {},
   "outputs": [],
   "source": [
    "classifier = fastText.load_model(model_path)\n",
    "def get_score_fasttext(text_list):\n",
    "    # Calculate polarity for each sentence\n",
    "    preprocessed = list(map(fasttext_tokenize, text_list))\n",
    "    labels, probabilities = classifier.predict(preprocessed, 1)\n",
    "    sentiment_list = [(int(l[0][-1]) - 3)/2 for l in labels if l]\n",
    "    score = np.mean(sentiment_list)\n",
    "    deviation = np.std(sentiment_list)\n",
    "    return score, deviation"
   ]
  },
  {
   "cell_type": "code",
   "execution_count": 19,
   "metadata": {},
   "outputs": [
    {
     "data": {
      "text/html": [
       "<div>\n",
       "<style scoped>\n",
       "    .dataframe tbody tr th:only-of-type {\n",
       "        vertical-align: middle;\n",
       "    }\n",
       "\n",
       "    .dataframe tbody tr th {\n",
       "        vertical-align: top;\n",
       "    }\n",
       "\n",
       "    .dataframe thead th {\n",
       "        text-align: right;\n",
       "    }\n",
       "</style>\n",
       "<table border=\"1\" class=\"dataframe\">\n",
       "  <thead>\n",
       "    <tr style=\"text-align: right;\">\n",
       "      <th></th>\n",
       "      <th>title</th>\n",
       "      <th>author</th>\n",
       "      <th>date</th>\n",
       "      <th>content</th>\n",
       "      <th>year</th>\n",
       "      <th>month</th>\n",
       "      <th>publication</th>\n",
       "      <th>length</th>\n",
       "      <th>relevant</th>\n",
       "      <th>score</th>\n",
       "      <th>deviation</th>\n",
       "    </tr>\n",
       "  </thead>\n",
       "  <tbody>\n",
       "    <tr>\n",
       "      <th>3095</th>\n",
       "      <td>After Olympic-sized goof, Ryan Lochte begins a...</td>\n",
       "      <td>David Wharton</td>\n",
       "      <td>2017-04-27</td>\n",
       "      <td>Don’t cringe or shake your head or stop readin...</td>\n",
       "      <td>2017.0</td>\n",
       "      <td>4.0</td>\n",
       "      <td>Los Angeles Times</td>\n",
       "      <td>1925</td>\n",
       "      <td>[That’s all Ryan Lochte wants as he ambles acr...</td>\n",
       "      <td>-0.236842</td>\n",
       "      <td>0.63595</td>\n",
       "    </tr>\n",
       "    <tr>\n",
       "      <th>8946</th>\n",
       "      <td>Michael Phelps is a touch off in 100 butterfly...</td>\n",
       "      <td>Everett Cook</td>\n",
       "      <td>2014-08-08</td>\n",
       "      <td>Michael Phelps\\' bid for his most important wi...</td>\n",
       "      <td>2014.0</td>\n",
       "      <td>8.0</td>\n",
       "      <td>Los Angeles Times</td>\n",
       "      <td>996</td>\n",
       "      <td>[Ryan Lochte, another preeminent American swim...</td>\n",
       "      <td>0.250000</td>\n",
       "      <td>0.25000</td>\n",
       "    </tr>\n",
       "    <tr>\n",
       "      <th>13789</th>\n",
       "      <td>Michael Phelps Powers U.S. to Victory in 4x100...</td>\n",
       "      <td>Victor Mather, Karen Crouse and Doug Mills</td>\n",
       "      <td>2016-08-10</td>\n",
       "      <td>RIO DE JANEIRO — Michael Phelps won his 19th O...</td>\n",
       "      <td>2016.0</td>\n",
       "      <td>8.0</td>\n",
       "      <td>New York Times</td>\n",
       "      <td>276</td>\n",
       "      <td>[Ryan Held and Nathan Adrian brought the U.S. ...</td>\n",
       "      <td>0.750000</td>\n",
       "      <td>0.25000</td>\n",
       "    </tr>\n",
       "    <tr>\n",
       "      <th>13825</th>\n",
       "      <td>Rio Olympics: Simone Manuel Makes History in t...</td>\n",
       "      <td>Karen Crouse</td>\n",
       "      <td>2016-08-16</td>\n",
       "      <td>RIO DE JANEIRO — Simone Manuel managed to make...</td>\n",
       "      <td>2016.0</td>\n",
       "      <td>8.0</td>\n",
       "      <td>New York Times</td>\n",
       "      <td>1468</td>\n",
       "      <td>[Michael Phelps won the 200 individual medley ...</td>\n",
       "      <td>0.750000</td>\n",
       "      <td>0.25000</td>\n",
       "    </tr>\n",
       "    <tr>\n",
       "      <th>13839</th>\n",
       "      <td>Rio Olympics: A Phelps Upset, a Judo Snub, and...</td>\n",
       "      <td>Sam Manchester and Victor Mather</td>\n",
       "      <td>2016-08-16</td>\n",
       "      <td>Katie Ledecky did what Katie Ledecky does best...</td>\n",
       "      <td>2016.0</td>\n",
       "      <td>8.0</td>\n",
       "      <td>New York Times</td>\n",
       "      <td>1614</td>\n",
       "      <td>[Phelps Breaks an Ancient Record: Michael Phel...</td>\n",
       "      <td>0.750000</td>\n",
       "      <td>0.25000</td>\n",
       "    </tr>\n",
       "  </tbody>\n",
       "</table>\n",
       "</div>"
      ],
      "text/plain": [
       "                                                   title  \\\n",
       "3095   After Olympic-sized goof, Ryan Lochte begins a...   \n",
       "8946   Michael Phelps is a touch off in 100 butterfly...   \n",
       "13789  Michael Phelps Powers U.S. to Victory in 4x100...   \n",
       "13825  Rio Olympics: Simone Manuel Makes History in t...   \n",
       "13839  Rio Olympics: A Phelps Upset, a Judo Snub, and...   \n",
       "\n",
       "                                           author       date  \\\n",
       "3095                                David Wharton 2017-04-27   \n",
       "8946                                 Everett Cook 2014-08-08   \n",
       "13789  Victor Mather, Karen Crouse and Doug Mills 2016-08-10   \n",
       "13825                                Karen Crouse 2016-08-16   \n",
       "13839            Sam Manchester and Victor Mather 2016-08-16   \n",
       "\n",
       "                                                 content    year  month  \\\n",
       "3095   Don’t cringe or shake your head or stop readin...  2017.0    4.0   \n",
       "8946   Michael Phelps\\' bid for his most important wi...  2014.0    8.0   \n",
       "13789  RIO DE JANEIRO — Michael Phelps won his 19th O...  2016.0    8.0   \n",
       "13825  RIO DE JANEIRO — Simone Manuel managed to make...  2016.0    8.0   \n",
       "13839  Katie Ledecky did what Katie Ledecky does best...  2016.0    8.0   \n",
       "\n",
       "             publication  length  \\\n",
       "3095   Los Angeles Times    1925   \n",
       "8946   Los Angeles Times     996   \n",
       "13789     New York Times     276   \n",
       "13825     New York Times    1468   \n",
       "13839     New York Times    1614   \n",
       "\n",
       "                                                relevant     score  deviation  \n",
       "3095   [That’s all Ryan Lochte wants as he ambles acr... -0.236842    0.63595  \n",
       "8946   [Ryan Lochte, another preeminent American swim...  0.250000    0.25000  \n",
       "13789  [Ryan Held and Nathan Adrian brought the U.S. ...  0.750000    0.25000  \n",
       "13825  [Michael Phelps won the 200 individual medley ...  0.750000    0.25000  \n",
       "13839  [Phelps Breaks an Ancient Record: Michael Phel...  0.750000    0.25000  "
      ]
     },
     "execution_count": 19,
     "metadata": {},
     "output_type": "execute_result"
    }
   ],
   "source": [
    "news_relevant['score'], news_relevant['deviation'] = zip(*news_relevant['relevant'].map(get_score_fasttext))\n",
    "news_relevant.head(5)"
   ]
  },
  {
   "cell_type": "markdown",
   "metadata": {},
   "source": [
    "### Lemmatize relevant sentences for comparison\n",
    "This is to remove duplicates."
   ]
  },
  {
   "cell_type": "code",
   "execution_count": 20,
   "metadata": {},
   "outputs": [],
   "source": [
    "add_removed_words = {n for n in name.split()}\n",
    "# Include specific words to be removed\n",
    "stopwords = sentencizer.Defaults.stop_words\n",
    "stopwords = stopwords.union(add_removed_words)"
   ]
  },
  {
   "cell_type": "code",
   "execution_count": 21,
   "metadata": {},
   "outputs": [],
   "source": [
    "# Tokenize and lemmatize text\n",
    "def lemmatize(text):\n",
    "    doc = sentencizer(text)\n",
    "    tokens = [str(tok.lemma_).lower() for tok in doc if tok.text not in stopwords \\\n",
    "              and tok.text not in punctuation]\n",
    "    return tokens"
   ]
  },
  {
   "cell_type": "code",
   "execution_count": 22,
   "metadata": {},
   "outputs": [
    {
     "data": {
      "text/html": [
       "<div>\n",
       "<style scoped>\n",
       "    .dataframe tbody tr th:only-of-type {\n",
       "        vertical-align: middle;\n",
       "    }\n",
       "\n",
       "    .dataframe tbody tr th {\n",
       "        vertical-align: top;\n",
       "    }\n",
       "\n",
       "    .dataframe thead th {\n",
       "        text-align: right;\n",
       "    }\n",
       "</style>\n",
       "<table border=\"1\" class=\"dataframe\">\n",
       "  <thead>\n",
       "    <tr style=\"text-align: right;\">\n",
       "      <th></th>\n",
       "      <th>relevant</th>\n",
       "      <th>lemmas</th>\n",
       "    </tr>\n",
       "  </thead>\n",
       "  <tbody>\n",
       "    <tr>\n",
       "      <th>3095</th>\n",
       "      <td>[That’s all Ryan Lochte wants as he ambles acr...</td>\n",
       "      <td>that ’s want amble pool deck bright southern c...</td>\n",
       "    </tr>\n",
       "    <tr>\n",
       "      <th>8946</th>\n",
       "      <td>[Ryan Lochte, another preeminent American swim...</td>\n",
       "      <td>preeminent american swimmer finish 5 52.21 but...</td>\n",
       "    </tr>\n",
       "    <tr>\n",
       "      <th>13789</th>\n",
       "      <td>[Ryan Held and Nathan Adrian brought the U.S. ...</td>\n",
       "      <td>held nathan adrian bring u.s. home adrian ’s s...</td>\n",
       "    </tr>\n",
       "    <tr>\n",
       "      <th>13825</th>\n",
       "      <td>[Michael Phelps won the 200 individual medley ...</td>\n",
       "      <td>michael phelps win 200 individual medley easil...</td>\n",
       "    </tr>\n",
       "    <tr>\n",
       "      <th>13839</th>\n",
       "      <td>[Phelps Breaks an Ancient Record: Michael Phel...</td>\n",
       "      <td>phelps breaks ancient record michael phelps wi...</td>\n",
       "    </tr>\n",
       "  </tbody>\n",
       "</table>\n",
       "</div>"
      ],
      "text/plain": [
       "                                                relevant  \\\n",
       "3095   [That’s all Ryan Lochte wants as he ambles acr...   \n",
       "8946   [Ryan Lochte, another preeminent American swim...   \n",
       "13789  [Ryan Held and Nathan Adrian brought the U.S. ...   \n",
       "13825  [Michael Phelps won the 200 individual medley ...   \n",
       "13839  [Phelps Breaks an Ancient Record: Michael Phel...   \n",
       "\n",
       "                                                  lemmas  \n",
       "3095   that ’s want amble pool deck bright southern c...  \n",
       "8946   preeminent american swimmer finish 5 52.21 but...  \n",
       "13789  held nathan adrian bring u.s. home adrian ’s s...  \n",
       "13825  michael phelps win 200 individual medley easil...  \n",
       "13839  phelps breaks ancient record michael phelps wi...  "
      ]
     },
     "execution_count": 22,
     "metadata": {},
     "output_type": "execute_result"
    }
   ],
   "source": [
    "news_relevant['lemmas'] = news_relevant['relevant'].str.join(' ').apply(lemmatize).str.join(' ')\n",
    "news_relevant[['relevant', 'lemmas']].head()"
   ]
  },
  {
   "cell_type": "markdown",
   "metadata": {},
   "source": [
    "### Drop duplicates"
   ]
  },
  {
   "cell_type": "code",
   "execution_count": 23,
   "metadata": {},
   "outputs": [
    {
     "data": {
      "text/plain": [
       "161"
      ]
     },
     "execution_count": 23,
     "metadata": {},
     "output_type": "execute_result"
    }
   ],
   "source": [
    "news_relevant = news_relevant.drop_duplicates(subset=['lemmas'])\n",
    "news_relevant.shape[0]"
   ]
  },
  {
   "cell_type": "markdown",
   "metadata": {},
   "source": [
    "#### Positive sentiment group"
   ]
  },
  {
   "cell_type": "code",
   "execution_count": 24,
   "metadata": {},
   "outputs": [
    {
     "name": "stdout",
     "output_type": "stream",
     "text": [
      "Found 33 overall positive articles for Ryan Lochte\n"
     ]
    },
    {
     "data": {
      "text/html": [
       "<div>\n",
       "<style scoped>\n",
       "    .dataframe tbody tr th:only-of-type {\n",
       "        vertical-align: middle;\n",
       "    }\n",
       "\n",
       "    .dataframe tbody tr th {\n",
       "        vertical-align: top;\n",
       "    }\n",
       "\n",
       "    .dataframe thead th {\n",
       "        text-align: right;\n",
       "    }\n",
       "</style>\n",
       "<table border=\"1\" class=\"dataframe\">\n",
       "  <thead>\n",
       "    <tr style=\"text-align: right;\">\n",
       "      <th></th>\n",
       "      <th>title</th>\n",
       "      <th>author</th>\n",
       "      <th>date</th>\n",
       "      <th>content</th>\n",
       "      <th>year</th>\n",
       "      <th>month</th>\n",
       "      <th>publication</th>\n",
       "      <th>length</th>\n",
       "      <th>relevant</th>\n",
       "      <th>score</th>\n",
       "      <th>deviation</th>\n",
       "      <th>lemmas</th>\n",
       "    </tr>\n",
       "  </thead>\n",
       "  <tbody>\n",
       "    <tr>\n",
       "      <th>0</th>\n",
       "      <td>The Atlantic Daily: A Whole New World</td>\n",
       "      <td>Rosa Inocencio Smith</td>\n",
       "      <td>2016-08-24</td>\n",
       "      <td>[        For us to continue writing great stor...</td>\n",
       "      <td>2016.0</td>\n",
       "      <td>8.0</td>\n",
       "      <td>Atlantic</td>\n",
       "      <td>1201</td>\n",
       "      <td>[Thirsty snakes swim, doctors improvise, money...</td>\n",
       "      <td>1.0</td>\n",
       "      <td>0.0</td>\n",
       "      <td>thirsty snake swim doctor improvise money trai...</td>\n",
       "    </tr>\n",
       "    <tr>\n",
       "      <th>1</th>\n",
       "      <td>Rio Olympics: U.S. Basketball, Swimmers Detain...</td>\n",
       "      <td>Andrew Keh</td>\n",
       "      <td>2016-08-22</td>\n",
       "      <td>RIO DE JANEIRO — The Argentine fans were wavin...</td>\n",
       "      <td>2016.0</td>\n",
       "      <td>8.0</td>\n",
       "      <td>New York Times</td>\n",
       "      <td>1186</td>\n",
       "      <td>[Earlier, a Brazilian judge issued an order to...</td>\n",
       "      <td>1.0</td>\n",
       "      <td>0.0</td>\n",
       "      <td>earlier brazilian judge issue order prevent ja...</td>\n",
       "    </tr>\n",
       "    <tr>\n",
       "      <th>2</th>\n",
       "      <td>Team Hillary lands on ‘least influential’ list...</td>\n",
       "      <td>Daniel Halper</td>\n",
       "      <td>2016-12-22</td>\n",
       "      <td>My, how the mighty have fallen. Hillary Clinto...</td>\n",
       "      <td>2016.0</td>\n",
       "      <td>12.0</td>\n",
       "      <td>New York Post</td>\n",
       "      <td>221</td>\n",
       "      <td>[Also on the list are Peyton Manning, Matt Lau...</td>\n",
       "      <td>1.0</td>\n",
       "      <td>0.0</td>\n",
       "      <td>also list peyton manning matt lauer harambe al...</td>\n",
       "    </tr>\n",
       "  </tbody>\n",
       "</table>\n",
       "</div>"
      ],
      "text/plain": [
       "                                               title                author  \\\n",
       "0              The Atlantic Daily: A Whole New World  Rosa Inocencio Smith   \n",
       "1  Rio Olympics: U.S. Basketball, Swimmers Detain...            Andrew Keh   \n",
       "2  Team Hillary lands on ‘least influential’ list...         Daniel Halper   \n",
       "\n",
       "        date                                            content    year  \\\n",
       "0 2016-08-24  [        For us to continue writing great stor...  2016.0   \n",
       "1 2016-08-22  RIO DE JANEIRO — The Argentine fans were wavin...  2016.0   \n",
       "2 2016-12-22  My, how the mighty have fallen. Hillary Clinto...  2016.0   \n",
       "\n",
       "   month     publication  length  \\\n",
       "0    8.0        Atlantic    1201   \n",
       "1    8.0  New York Times    1186   \n",
       "2   12.0   New York Post     221   \n",
       "\n",
       "                                            relevant  score  deviation  \\\n",
       "0  [Thirsty snakes swim, doctors improvise, money...    1.0        0.0   \n",
       "1  [Earlier, a Brazilian judge issued an order to...    1.0        0.0   \n",
       "2  [Also on the list are Peyton Manning, Matt Lau...    1.0        0.0   \n",
       "\n",
       "                                              lemmas  \n",
       "0  thirsty snake swim doctor improvise money trai...  \n",
       "1  earlier brazilian judge issue order prevent ja...  \n",
       "2  also list peyton manning matt lauer harambe al...  "
      ]
     },
     "execution_count": 24,
     "metadata": {},
     "output_type": "execute_result"
    }
   ],
   "source": [
    "pos = news_relevant[news_relevant['score'] > 0.0].sort_values(by=['score'], ascending=False).reset_index(drop=True)\n",
    "print(\"Found {} overall positive articles for {}\".format(pos.shape[0], name))\n",
    "pos.head(3)"
   ]
  },
  {
   "cell_type": "markdown",
   "metadata": {},
   "source": [
    "#### Write positive results"
   ]
  },
  {
   "cell_type": "code",
   "execution_count": 25,
   "metadata": {},
   "outputs": [],
   "source": [
    "if write_:\n",
    "    out_filename = '_'.join(name.split()).lower() + '_pos.csv'\n",
    "    out_path = Path('./') / \"results/fasttext\" / out_filename\n",
    "    pos.sort_values(by='publication')[['publication', 'title', 'date', 'relevant', 'score', 'deviation']] \\\n",
    "                    .to_csv(out_path, index=False, header=True)"
   ]
  },
  {
   "cell_type": "markdown",
   "metadata": {},
   "source": [
    "#### Negative sentiment group"
   ]
  },
  {
   "cell_type": "code",
   "execution_count": 26,
   "metadata": {},
   "outputs": [
    {
     "name": "stdout",
     "output_type": "stream",
     "text": [
      "Found 104 overall negative articles for Ryan Lochte\n"
     ]
    },
    {
     "data": {
      "text/html": [
       "<div>\n",
       "<style scoped>\n",
       "    .dataframe tbody tr th:only-of-type {\n",
       "        vertical-align: middle;\n",
       "    }\n",
       "\n",
       "    .dataframe tbody tr th {\n",
       "        vertical-align: top;\n",
       "    }\n",
       "\n",
       "    .dataframe thead th {\n",
       "        text-align: right;\n",
       "    }\n",
       "</style>\n",
       "<table border=\"1\" class=\"dataframe\">\n",
       "  <thead>\n",
       "    <tr style=\"text-align: right;\">\n",
       "      <th></th>\n",
       "      <th>title</th>\n",
       "      <th>author</th>\n",
       "      <th>date</th>\n",
       "      <th>content</th>\n",
       "      <th>year</th>\n",
       "      <th>month</th>\n",
       "      <th>publication</th>\n",
       "      <th>length</th>\n",
       "      <th>relevant</th>\n",
       "      <th>score</th>\n",
       "      <th>deviation</th>\n",
       "      <th>lemmas</th>\n",
       "    </tr>\n",
       "  </thead>\n",
       "  <tbody>\n",
       "    <tr>\n",
       "      <th>0</th>\n",
       "      <td>The Atlantic  Politics &amp; Policy Daily: Electio...</td>\n",
       "      <td>Candice Norwood</td>\n",
       "      <td>2016-08-18</td>\n",
       "      <td>[        For us to continue writing great stor...</td>\n",
       "      <td>2016.0</td>\n",
       "      <td>8.0</td>\n",
       "      <td>Atlantic</td>\n",
       "      <td>769</td>\n",
       "      <td>[Brazilian authorities said four American Olym...</td>\n",
       "      <td>-1.0</td>\n",
       "      <td>0.0</td>\n",
       "      <td>brazilian authority say american olympic swimm...</td>\n",
       "    </tr>\n",
       "    <tr>\n",
       "      <th>1</th>\n",
       "      <td>All of Ryan Lochte's sponsors have dropped him</td>\n",
       "      <td>Mallory Schlossberg</td>\n",
       "      <td>2016-08-23</td>\n",
       "      <td>['\\n\\n', \"\\n  Speedo \\n  Monday that it will n...</td>\n",
       "      <td>2016.0</td>\n",
       "      <td>8.0</td>\n",
       "      <td>Business Insider</td>\n",
       "      <td>270</td>\n",
       "      <td>[\\n\\n', \"\\n  Speedo \\n  Monday that it will no...</td>\n",
       "      <td>-1.0</td>\n",
       "      <td>0.0</td>\n",
       "      <td>\\n\\n \\n   speedo \\n   monday long sponsor ther...</td>\n",
       "    </tr>\n",
       "    <tr>\n",
       "      <th>2</th>\n",
       "      <td>The Rio Olympics: A Crib Sheet</td>\n",
       "      <td>The Editors</td>\n",
       "      <td>2016-08-18</td>\n",
       "      <td>[        For us to continue writing great stor...</td>\n",
       "      <td>2016.0</td>\n",
       "      <td>8.0</td>\n",
       "      <td>Atlantic</td>\n",
       "      <td>1416</td>\n",
       "      <td>[The Ugly: On Sunday, the American swimmer Rya...</td>\n",
       "      <td>-1.0</td>\n",
       "      <td>0.0</td>\n",
       "      <td>the ugly on sunday american swimmer claim alon...</td>\n",
       "    </tr>\n",
       "  </tbody>\n",
       "</table>\n",
       "</div>"
      ],
      "text/plain": [
       "                                               title               author  \\\n",
       "0  The Atlantic  Politics & Policy Daily: Electio...      Candice Norwood   \n",
       "1     All of Ryan Lochte's sponsors have dropped him  Mallory Schlossberg   \n",
       "2                     The Rio Olympics: A Crib Sheet          The Editors   \n",
       "\n",
       "        date                                            content    year  \\\n",
       "0 2016-08-18  [        For us to continue writing great stor...  2016.0   \n",
       "1 2016-08-23  ['\\n\\n', \"\\n  Speedo \\n  Monday that it will n...  2016.0   \n",
       "2 2016-08-18  [        For us to continue writing great stor...  2016.0   \n",
       "\n",
       "   month       publication  length  \\\n",
       "0    8.0          Atlantic     769   \n",
       "1    8.0  Business Insider     270   \n",
       "2    8.0          Atlantic    1416   \n",
       "\n",
       "                                            relevant  score  deviation  \\\n",
       "0  [Brazilian authorities said four American Olym...   -1.0        0.0   \n",
       "1  [\\n\\n', \"\\n  Speedo \\n  Monday that it will no...   -1.0        0.0   \n",
       "2  [The Ugly: On Sunday, the American swimmer Rya...   -1.0        0.0   \n",
       "\n",
       "                                              lemmas  \n",
       "0  brazilian authority say american olympic swimm...  \n",
       "1  \\n\\n \\n   speedo \\n   monday long sponsor ther...  \n",
       "2  the ugly on sunday american swimmer claim alon...  "
      ]
     },
     "execution_count": 26,
     "metadata": {},
     "output_type": "execute_result"
    }
   ],
   "source": [
    "neg = news_relevant[news_relevant['score'] < 0.0].sort_values(by=['score']).reset_index(drop=True)\n",
    "print(\"Found {} overall negative articles for {}\".format(neg.shape[0], name))\n",
    "neg.head(3)"
   ]
  },
  {
   "cell_type": "markdown",
   "metadata": {},
   "source": [
    "#### Write negative results"
   ]
  },
  {
   "cell_type": "code",
   "execution_count": 27,
   "metadata": {},
   "outputs": [],
   "source": [
    "if write_:\n",
    "    out_filename = '_'.join(name.split()).lower() + '_neg.csv'\n",
    "    out_path = Path('./') / \"results/fasttext\" / out_filename\n",
    "    neg.sort_values(by='publication')[['publication', 'title', 'date', 'relevant', 'score', 'deviation']] \\\n",
    "                    .to_csv(out_path, index=False, header=True)"
   ]
  },
  {
   "cell_type": "code",
   "execution_count": 28,
   "metadata": {},
   "outputs": [
    {
     "name": "stdout",
     "output_type": "stream",
     "text": [
      "Found 24 overall mixed articles for Ryan Lochte\n"
     ]
    },
    {
     "data": {
      "text/html": [
       "<div>\n",
       "<style scoped>\n",
       "    .dataframe tbody tr th:only-of-type {\n",
       "        vertical-align: middle;\n",
       "    }\n",
       "\n",
       "    .dataframe tbody tr th {\n",
       "        vertical-align: top;\n",
       "    }\n",
       "\n",
       "    .dataframe thead th {\n",
       "        text-align: right;\n",
       "    }\n",
       "</style>\n",
       "<table border=\"1\" class=\"dataframe\">\n",
       "  <thead>\n",
       "    <tr style=\"text-align: right;\">\n",
       "      <th></th>\n",
       "      <th>title</th>\n",
       "      <th>author</th>\n",
       "      <th>date</th>\n",
       "      <th>content</th>\n",
       "      <th>year</th>\n",
       "      <th>month</th>\n",
       "      <th>publication</th>\n",
       "      <th>length</th>\n",
       "      <th>relevant</th>\n",
       "      <th>score</th>\n",
       "      <th>deviation</th>\n",
       "      <th>lemmas</th>\n",
       "    </tr>\n",
       "  </thead>\n",
       "  <tbody>\n",
       "    <tr>\n",
       "      <th>0</th>\n",
       "      <td>Halloween, Instagram Style - The New York Times</td>\n",
       "      <td>Bonnie Wertheim</td>\n",
       "      <td>2016-11-01</td>\n",
       "      <td>Last night Eleven from “Stranger Things” and t...</td>\n",
       "      <td>2016.0</td>\n",
       "      <td>11.0</td>\n",
       "      <td>New York Times</td>\n",
       "      <td>336</td>\n",
       "      <td>[Ryan Lochte’s silver Olympic hair, among his ...</td>\n",
       "      <td>0.0</td>\n",
       "      <td>0.0</td>\n",
       "      <td>’s silver olympic hair rio 2016 antic swimmer ...</td>\n",
       "    </tr>\n",
       "    <tr>\n",
       "      <th>1</th>\n",
       "      <td>Zika, U.S. Presidential Race, Ryan Lochte: You...</td>\n",
       "      <td>Andrea Kannapell and Sandra Stevenson</td>\n",
       "      <td>2016-08-22</td>\n",
       "      <td>(Want to get this briefing by email? Here’s th...</td>\n",
       "      <td>2016.0</td>\n",
       "      <td>8.0</td>\n",
       "      <td>New York Times</td>\n",
       "      <td>940</td>\n",
       "      <td>[I want to apologize for my behavior last week...</td>\n",
       "      <td>0.0</td>\n",
       "      <td>0.0</td>\n",
       "      <td>i want apologize behavior weekend -- careful c...</td>\n",
       "    </tr>\n",
       "    <tr>\n",
       "      <th>2</th>\n",
       "      <td>U.S. Presidential Race, Ryan Lochte, Rio de Ja...</td>\n",
       "      <td>Andrea Kannapell and Hiroko Masuike</td>\n",
       "      <td>2016-08-22</td>\n",
       "      <td>(Want to get this briefing by email? Here’s th...</td>\n",
       "      <td>2016.0</td>\n",
       "      <td>8.0</td>\n",
       "      <td>New York Times</td>\n",
       "      <td>797</td>\n",
       "      <td>[One big loser: Ryan Lochte.]</td>\n",
       "      <td>0.0</td>\n",
       "      <td>0.0</td>\n",
       "      <td>one big loser</td>\n",
       "    </tr>\n",
       "  </tbody>\n",
       "</table>\n",
       "</div>"
      ],
      "text/plain": [
       "                                               title  \\\n",
       "0    Halloween, Instagram Style - The New York Times   \n",
       "1  Zika, U.S. Presidential Race, Ryan Lochte: You...   \n",
       "2  U.S. Presidential Race, Ryan Lochte, Rio de Ja...   \n",
       "\n",
       "                                  author       date  \\\n",
       "0                        Bonnie Wertheim 2016-11-01   \n",
       "1  Andrea Kannapell and Sandra Stevenson 2016-08-22   \n",
       "2    Andrea Kannapell and Hiroko Masuike 2016-08-22   \n",
       "\n",
       "                                             content    year  month  \\\n",
       "0  Last night Eleven from “Stranger Things” and t...  2016.0   11.0   \n",
       "1  (Want to get this briefing by email? Here’s th...  2016.0    8.0   \n",
       "2  (Want to get this briefing by email? Here’s th...  2016.0    8.0   \n",
       "\n",
       "      publication  length                                           relevant  \\\n",
       "0  New York Times     336  [Ryan Lochte’s silver Olympic hair, among his ...   \n",
       "1  New York Times     940  [I want to apologize for my behavior last week...   \n",
       "2  New York Times     797                      [One big loser: Ryan Lochte.]   \n",
       "\n",
       "   score  deviation                                             lemmas  \n",
       "0    0.0        0.0  ’s silver olympic hair rio 2016 antic swimmer ...  \n",
       "1    0.0        0.0  i want apologize behavior weekend -- careful c...  \n",
       "2    0.0        0.0                                      one big loser  "
      ]
     },
     "execution_count": 28,
     "metadata": {},
     "output_type": "execute_result"
    }
   ],
   "source": [
    "mixed = news_relevant[news_relevant['score'] == 0.0].reset_index(drop=True)\n",
    "print(\"Found {} overall mixed articles for {}\".format(mixed.shape[0], name))\n",
    "mixed.head(3)"
   ]
  },
  {
   "cell_type": "markdown",
   "metadata": {},
   "source": [
    "### Highlight relevant named entities using ```spaCy```\n",
    "Optional step to observe the key named entities in the positive/negative or mixed sentiment articles. "
   ]
  },
  {
   "cell_type": "code",
   "execution_count": 29,
   "metadata": {},
   "outputs": [],
   "source": [
    "from IPython.display import Markdown, display\n",
    "options = {'ents': ['PERSON', 'ORG', 'GPE', 'EVENT'], \n",
    "           'colors': {'PERSON': '#9fafe5', 'ORG': '#d59b9b', 'GPE':'#81cba6'}}\n",
    "def printmd(string):\n",
    "    display(Markdown(string))\n",
    "    \n",
    "def display_entities(nlp, df, max_entries=5):\n",
    "    # Set relevant named entities that we want to extract\n",
    "    for idx, sent in enumerate(df['relevant'].str.join(' ')[:max_entries]):\n",
    "        doc = nlp(sent)\n",
    "        printmd('**{}**'.format(df['title'][idx]))\n",
    "        displacy.render(doc, style='ent', jupyter=True, options=options)\n",
    "        print('\\n')\n",
    "        \n",
    "def vis(pos, neg, mixed, spacy_lang='en_core_web_md'):\n",
    "    nlp = spacy.load(spacy_lang)\n",
    "    # Visualize positive and negativ groups using markdown\n",
    "    printmd('<font color=green>**Positive**</font>')\n",
    "    display_entities(nlp, pos)\n",
    "    printmd('<font color=red>**Negative**</font>')\n",
    "    display_entities(nlp, neg)\n",
    "    printmd('<font color=yellow>**Mixed**</font>')\n",
    "    display_entities(nlp, mixed)"
   ]
  },
  {
   "cell_type": "code",
   "execution_count": 30,
   "metadata": {},
   "outputs": [],
   "source": [
    "# vis(pos, neg, mixed, spacy_lang='en_core_web_md')"
   ]
  },
  {
   "cell_type": "markdown",
   "metadata": {},
   "source": [
    "## Visualization\n",
    "\n",
    "### Plot sentiment score and magnitude versus time of publishing of the article\n",
    "In this section, sentiment \"score\" is the median of all polarity values (positive or negative) obtained per-sentence of the article from TextBlob. Sentiment \"magnitude\" is the standard deviation of sentiment among the per-sentence polarity values. "
   ]
  },
  {
   "cell_type": "code",
   "execution_count": 31,
   "metadata": {},
   "outputs": [],
   "source": [
    "news_avg_score = news_relevant.groupby('date')['score'].mean()\n",
    "news_avg_dev = news_relevant.groupby('date')['deviation'].mean()"
   ]
  },
  {
   "cell_type": "markdown",
   "metadata": {},
   "source": [
    "#### Get article count per day"
   ]
  },
  {
   "cell_type": "code",
   "execution_count": 32,
   "metadata": {},
   "outputs": [],
   "source": [
    "news_count = news_relevant.groupby(['date']).count()['title']"
   ]
  },
  {
   "cell_type": "markdown",
   "metadata": {},
   "source": [
    "#### Get peak polar article per day (min negative or max positive score)"
   ]
  },
  {
   "cell_type": "code",
   "execution_count": 33,
   "metadata": {},
   "outputs": [
    {
     "data": {
      "text/html": [
       "<div>\n",
       "<style scoped>\n",
       "    .dataframe tbody tr th:only-of-type {\n",
       "        vertical-align: middle;\n",
       "    }\n",
       "\n",
       "    .dataframe tbody tr th {\n",
       "        vertical-align: top;\n",
       "    }\n",
       "\n",
       "    .dataframe thead th {\n",
       "        text-align: right;\n",
       "    }\n",
       "</style>\n",
       "<table border=\"1\" class=\"dataframe\">\n",
       "  <thead>\n",
       "    <tr style=\"text-align: right;\">\n",
       "      <th></th>\n",
       "      <th>date</th>\n",
       "      <th>score</th>\n",
       "      <th>abs</th>\n",
       "    </tr>\n",
       "  </thead>\n",
       "  <tbody>\n",
       "    <tr>\n",
       "      <th>3095</th>\n",
       "      <td>2017-04-27</td>\n",
       "      <td>-0.236842</td>\n",
       "      <td>0.236842</td>\n",
       "    </tr>\n",
       "    <tr>\n",
       "      <th>8946</th>\n",
       "      <td>2014-08-08</td>\n",
       "      <td>0.250000</td>\n",
       "      <td>0.250000</td>\n",
       "    </tr>\n",
       "    <tr>\n",
       "      <th>13789</th>\n",
       "      <td>2016-08-10</td>\n",
       "      <td>0.750000</td>\n",
       "      <td>0.750000</td>\n",
       "    </tr>\n",
       "  </tbody>\n",
       "</table>\n",
       "</div>"
      ],
      "text/plain": [
       "            date     score       abs\n",
       "3095  2017-04-27 -0.236842  0.236842\n",
       "8946  2014-08-08  0.250000  0.250000\n",
       "13789 2016-08-10  0.750000  0.750000"
      ]
     },
     "execution_count": 33,
     "metadata": {},
     "output_type": "execute_result"
    }
   ],
   "source": [
    "news_relevant['abs'] = news_relevant['score'].abs()\n",
    "news_relevant[['date', 'score', 'abs']].head(3)"
   ]
  },
  {
   "cell_type": "code",
   "execution_count": 34,
   "metadata": {},
   "outputs": [
    {
     "data": {
      "text/html": [
       "<div>\n",
       "<style scoped>\n",
       "    .dataframe tbody tr th:only-of-type {\n",
       "        vertical-align: middle;\n",
       "    }\n",
       "\n",
       "    .dataframe tbody tr th {\n",
       "        vertical-align: top;\n",
       "    }\n",
       "\n",
       "    .dataframe thead th {\n",
       "        text-align: right;\n",
       "    }\n",
       "</style>\n",
       "<table border=\"1\" class=\"dataframe\">\n",
       "  <thead>\n",
       "    <tr style=\"text-align: right;\">\n",
       "      <th></th>\n",
       "      <th>title</th>\n",
       "      <th>author</th>\n",
       "      <th>date</th>\n",
       "      <th>content</th>\n",
       "      <th>year</th>\n",
       "      <th>month</th>\n",
       "      <th>publication</th>\n",
       "      <th>length</th>\n",
       "      <th>relevant</th>\n",
       "      <th>score</th>\n",
       "      <th>deviation</th>\n",
       "      <th>lemmas</th>\n",
       "      <th>abs</th>\n",
       "    </tr>\n",
       "  </thead>\n",
       "  <tbody>\n",
       "    <tr>\n",
       "      <th>13825</th>\n",
       "      <td>Rio Olympics: Simone Manuel Makes History in t...</td>\n",
       "      <td>Karen Crouse</td>\n",
       "      <td>2016-08-16</td>\n",
       "      <td>RIO DE JANEIRO — Simone Manuel managed to make...</td>\n",
       "      <td>2016.0</td>\n",
       "      <td>8.0</td>\n",
       "      <td>New York Times</td>\n",
       "      <td>1468</td>\n",
       "      <td>[Michael Phelps won the 200 individual medley ...</td>\n",
       "      <td>0.750000</td>\n",
       "      <td>0.250000</td>\n",
       "      <td>michael phelps win 200 individual medley easil...</td>\n",
       "      <td>0.750000</td>\n",
       "    </tr>\n",
       "    <tr>\n",
       "      <th>13839</th>\n",
       "      <td>Rio Olympics: A Phelps Upset, a Judo Snub, and...</td>\n",
       "      <td>Sam Manchester and Victor Mather</td>\n",
       "      <td>2016-08-16</td>\n",
       "      <td>Katie Ledecky did what Katie Ledecky does best...</td>\n",
       "      <td>2016.0</td>\n",
       "      <td>8.0</td>\n",
       "      <td>New York Times</td>\n",
       "      <td>1614</td>\n",
       "      <td>[Phelps Breaks an Ancient Record: Michael Phel...</td>\n",
       "      <td>0.750000</td>\n",
       "      <td>0.250000</td>\n",
       "      <td>phelps breaks ancient record michael phelps wi...</td>\n",
       "      <td>0.750000</td>\n",
       "    </tr>\n",
       "    <tr>\n",
       "      <th>34849</th>\n",
       "      <td>Rio Officials Turn on Ryan Lochte After Robber...</td>\n",
       "      <td>Frances Martel</td>\n",
       "      <td>2016-08-16</td>\n",
       "      <td>Rio de Janeiro police officials and Olympics o...</td>\n",
       "      <td>2016.0</td>\n",
       "      <td>8.0</td>\n",
       "      <td>Breitbart</td>\n",
       "      <td>745</td>\n",
       "      <td>[Rio de Janeiro police officials and Olympics ...</td>\n",
       "      <td>-0.958333</td>\n",
       "      <td>0.138193</td>\n",
       "      <td>rio de janeiro police official olympic organiz...</td>\n",
       "      <td>0.958333</td>\n",
       "    </tr>\n",
       "    <tr>\n",
       "      <th>59641</th>\n",
       "      <td>American swimmer Ryan Lochte and 3 others were...</td>\n",
       "      <td>Cork Gaines</td>\n",
       "      <td>2016-08-15</td>\n",
       "      <td>['\\n\\n', '\\n  [UPDATE] The United States Olymp...</td>\n",
       "      <td>2016.0</td>\n",
       "      <td>8.0</td>\n",
       "      <td>Business Insider</td>\n",
       "      <td>442</td>\n",
       "      <td>[\\n\\n', '\\n  [UPDATE] The United States Olympi...</td>\n",
       "      <td>-0.250000</td>\n",
       "      <td>0.829156</td>\n",
       "      <td>\\n\\n \\n   update the united states olympic com...</td>\n",
       "      <td>0.250000</td>\n",
       "    </tr>\n",
       "    <tr>\n",
       "      <th>67063</th>\n",
       "      <td>The Rio Olympics: A Crib Sheet</td>\n",
       "      <td>The Editors</td>\n",
       "      <td>2016-08-15</td>\n",
       "      <td>[        For us to continue writing great stor...</td>\n",
       "      <td>2016.0</td>\n",
       "      <td>8.0</td>\n",
       "      <td>Atlantic</td>\n",
       "      <td>1309</td>\n",
       "      <td>[The Ugly: The American swimmer Ryan Lochte ha...</td>\n",
       "      <td>0.000000</td>\n",
       "      <td>0.707107</td>\n",
       "      <td>the ugly the american swimmer successful games...</td>\n",
       "      <td>0.000000</td>\n",
       "    </tr>\n",
       "    <tr>\n",
       "      <th>131760</th>\n",
       "      <td>Far From Olympics, Violence Rises In Rio's Poo...</td>\n",
       "      <td>Lulu Garcia-Navarro</td>\n",
       "      <td>2016-08-15</td>\n",
       "      <td>[\"That bullet almost hit my bed. Have mercy, p...</td>\n",
       "      <td>2016.0</td>\n",
       "      <td>8.0</td>\n",
       "      <td>NPR</td>\n",
       "      <td>889</td>\n",
       "      <td>[While media attention has focused on U.S. Oly...</td>\n",
       "      <td>-1.000000</td>\n",
       "      <td>0.000000</td>\n",
       "      <td>while medium attention focus u.s. olympic swim...</td>\n",
       "      <td>1.000000</td>\n",
       "    </tr>\n",
       "  </tbody>\n",
       "</table>\n",
       "</div>"
      ],
      "text/plain": [
       "                                                    title  \\\n",
       "13825   Rio Olympics: Simone Manuel Makes History in t...   \n",
       "13839   Rio Olympics: A Phelps Upset, a Judo Snub, and...   \n",
       "34849   Rio Officials Turn on Ryan Lochte After Robber...   \n",
       "59641   American swimmer Ryan Lochte and 3 others were...   \n",
       "67063                      The Rio Olympics: A Crib Sheet   \n",
       "131760  Far From Olympics, Violence Rises In Rio's Poo...   \n",
       "\n",
       "                                  author       date  \\\n",
       "13825                       Karen Crouse 2016-08-16   \n",
       "13839   Sam Manchester and Victor Mather 2016-08-16   \n",
       "34849                     Frances Martel 2016-08-16   \n",
       "59641                        Cork Gaines 2016-08-15   \n",
       "67063                        The Editors 2016-08-15   \n",
       "131760               Lulu Garcia-Navarro 2016-08-15   \n",
       "\n",
       "                                                  content    year  month  \\\n",
       "13825   RIO DE JANEIRO — Simone Manuel managed to make...  2016.0    8.0   \n",
       "13839   Katie Ledecky did what Katie Ledecky does best...  2016.0    8.0   \n",
       "34849   Rio de Janeiro police officials and Olympics o...  2016.0    8.0   \n",
       "59641   ['\\n\\n', '\\n  [UPDATE] The United States Olymp...  2016.0    8.0   \n",
       "67063   [        For us to continue writing great stor...  2016.0    8.0   \n",
       "131760  [\"That bullet almost hit my bed. Have mercy, p...  2016.0    8.0   \n",
       "\n",
       "             publication  length  \\\n",
       "13825     New York Times    1468   \n",
       "13839     New York Times    1614   \n",
       "34849          Breitbart     745   \n",
       "59641   Business Insider     442   \n",
       "67063           Atlantic    1309   \n",
       "131760               NPR     889   \n",
       "\n",
       "                                                 relevant     score  \\\n",
       "13825   [Michael Phelps won the 200 individual medley ...  0.750000   \n",
       "13839   [Phelps Breaks an Ancient Record: Michael Phel...  0.750000   \n",
       "34849   [Rio de Janeiro police officials and Olympics ... -0.958333   \n",
       "59641   [\\n\\n', '\\n  [UPDATE] The United States Olympi... -0.250000   \n",
       "67063   [The Ugly: The American swimmer Ryan Lochte ha...  0.000000   \n",
       "131760  [While media attention has focused on U.S. Oly... -1.000000   \n",
       "\n",
       "        deviation                                             lemmas       abs  \n",
       "13825    0.250000  michael phelps win 200 individual medley easil...  0.750000  \n",
       "13839    0.250000  phelps breaks ancient record michael phelps wi...  0.750000  \n",
       "34849    0.138193  rio de janeiro police official olympic organiz...  0.958333  \n",
       "59641    0.829156  \\n\\n \\n   update the united states olympic com...  0.250000  \n",
       "67063    0.707107  the ugly the american swimmer successful games...  0.000000  \n",
       "131760   0.000000  while medium attention focus u.s. olympic swim...  1.000000  "
      ]
     },
     "execution_count": 34,
     "metadata": {},
     "output_type": "execute_result"
    }
   ],
   "source": [
    "news_relevant[(news_relevant['date'] > '2016-08-14') & (news_relevant['date'] < '2016-08-17')].head(10)"
   ]
  },
  {
   "cell_type": "code",
   "execution_count": 35,
   "metadata": {},
   "outputs": [
    {
     "name": "stdout",
     "output_type": "stream",
     "text": [
      "58\n"
     ]
    }
   ],
   "source": [
    "news_peak_polar = news_relevant.groupby('date').max()[['title', 'publication', 'relevant']]\n",
    "# Extract just the first 3 relevant sentences from the article and convert to single string\n",
    "news_peak_polar['relevant'] = news_peak_polar['relevant'].apply(lambda x: x[:3]).str.join(' ')\n",
    "print(news_peak_polar.shape[0])"
   ]
  },
  {
   "cell_type": "markdown",
   "metadata": {},
   "source": [
    "#### Combine scores, magnitudes and article counts per day"
   ]
  },
  {
   "cell_type": "code",
   "execution_count": 36,
   "metadata": {},
   "outputs": [
    {
     "data": {
      "text/html": [
       "<div>\n",
       "<style scoped>\n",
       "    .dataframe tbody tr th:only-of-type {\n",
       "        vertical-align: middle;\n",
       "    }\n",
       "\n",
       "    .dataframe tbody tr th {\n",
       "        vertical-align: top;\n",
       "    }\n",
       "\n",
       "    .dataframe thead th {\n",
       "        text-align: right;\n",
       "    }\n",
       "</style>\n",
       "<table border=\"1\" class=\"dataframe\">\n",
       "  <thead>\n",
       "    <tr style=\"text-align: right;\">\n",
       "      <th></th>\n",
       "      <th>mean_score</th>\n",
       "      <th>mean_dev</th>\n",
       "      <th>count</th>\n",
       "    </tr>\n",
       "    <tr>\n",
       "      <th>date</th>\n",
       "      <th></th>\n",
       "      <th></th>\n",
       "      <th></th>\n",
       "    </tr>\n",
       "  </thead>\n",
       "  <tbody>\n",
       "    <tr>\n",
       "      <th>2014-08-08</th>\n",
       "      <td>0.250000</td>\n",
       "      <td>0.250000</td>\n",
       "      <td>1</td>\n",
       "    </tr>\n",
       "    <tr>\n",
       "      <th>2016-06-27</th>\n",
       "      <td>-0.305556</td>\n",
       "      <td>0.818856</td>\n",
       "      <td>1</td>\n",
       "    </tr>\n",
       "    <tr>\n",
       "      <th>2016-08-05</th>\n",
       "      <td>-0.125000</td>\n",
       "      <td>0.375000</td>\n",
       "      <td>2</td>\n",
       "    </tr>\n",
       "    <tr>\n",
       "      <th>2016-08-06</th>\n",
       "      <td>0.000000</td>\n",
       "      <td>0.000000</td>\n",
       "      <td>1</td>\n",
       "    </tr>\n",
       "    <tr>\n",
       "      <th>2016-08-07</th>\n",
       "      <td>-0.500000</td>\n",
       "      <td>0.000000</td>\n",
       "      <td>1</td>\n",
       "    </tr>\n",
       "  </tbody>\n",
       "</table>\n",
       "</div>"
      ],
      "text/plain": [
       "            mean_score  mean_dev  count\n",
       "date                                   \n",
       "2014-08-08    0.250000  0.250000      1\n",
       "2016-06-27   -0.305556  0.818856      1\n",
       "2016-08-05   -0.125000  0.375000      2\n",
       "2016-08-06    0.000000  0.000000      1\n",
       "2016-08-07   -0.500000  0.000000      1"
      ]
     },
     "execution_count": 36,
     "metadata": {},
     "output_type": "execute_result"
    }
   ],
   "source": [
    "scores = pd.concat((news_avg_score, news_avg_dev, news_count), axis=1).sort_values(by=['date'])\n",
    "scores.columns = ['mean_score', 'mean_dev', 'count']\n",
    "scores.head()"
   ]
  },
  {
   "cell_type": "markdown",
   "metadata": {},
   "source": [
    "#### Concatenate scores/counts DataFrame with most polar news content for that day"
   ]
  },
  {
   "cell_type": "code",
   "execution_count": 37,
   "metadata": {},
   "outputs": [
    {
     "data": {
      "text/html": [
       "<div>\n",
       "<style scoped>\n",
       "    .dataframe tbody tr th:only-of-type {\n",
       "        vertical-align: middle;\n",
       "    }\n",
       "\n",
       "    .dataframe tbody tr th {\n",
       "        vertical-align: top;\n",
       "    }\n",
       "\n",
       "    .dataframe thead th {\n",
       "        text-align: right;\n",
       "    }\n",
       "</style>\n",
       "<table border=\"1\" class=\"dataframe\">\n",
       "  <thead>\n",
       "    <tr style=\"text-align: right;\">\n",
       "      <th></th>\n",
       "      <th>title</th>\n",
       "      <th>publication</th>\n",
       "      <th>relevant</th>\n",
       "      <th>mean_score</th>\n",
       "      <th>mean_dev</th>\n",
       "      <th>count</th>\n",
       "    </tr>\n",
       "    <tr>\n",
       "      <th>date</th>\n",
       "      <th></th>\n",
       "      <th></th>\n",
       "      <th></th>\n",
       "      <th></th>\n",
       "      <th></th>\n",
       "      <th></th>\n",
       "    </tr>\n",
       "  </thead>\n",
       "  <tbody>\n",
       "    <tr>\n",
       "      <th>2014-08-08</th>\n",
       "      <td>Michael Phelps is a touch off in 100 butterfly...</td>\n",
       "      <td>Los Angeles Times</td>\n",
       "      <td>Ryan Lochte, another preeminent American swimm...</td>\n",
       "      <td>0.250000</td>\n",
       "      <td>0.250000</td>\n",
       "      <td>1</td>\n",
       "    </tr>\n",
       "    <tr>\n",
       "      <th>2016-06-27</th>\n",
       "      <td>Ryan Lochte, ’12 Olympic Champion, Misses Rio ...</td>\n",
       "      <td>New York Times</td>\n",
       "      <td>OMAHA — Ryan Lochte was off to a rough start a...</td>\n",
       "      <td>-0.305556</td>\n",
       "      <td>0.818856</td>\n",
       "      <td>1</td>\n",
       "    </tr>\n",
       "    <tr>\n",
       "      <th>2016-08-05</th>\n",
       "      <td>The Rio Olympics: Catch the Fever!</td>\n",
       "      <td>New York Post</td>\n",
       "      <td>Swimmer Ryan Lochte, a regular poster boy in O...</td>\n",
       "      <td>-0.125000</td>\n",
       "      <td>0.375000</td>\n",
       "      <td>2</td>\n",
       "    </tr>\n",
       "    <tr>\n",
       "      <th>2016-08-06</th>\n",
       "      <td>The Cultural Marxism of Rio’s Opening Ceremonies</td>\n",
       "      <td>National Review</td>\n",
       "      <td>Ryan Lochte and America’s Man-Boy ProblemAmeri...</td>\n",
       "      <td>0.000000</td>\n",
       "      <td>0.000000</td>\n",
       "      <td>1</td>\n",
       "    </tr>\n",
       "    <tr>\n",
       "      <th>2016-08-07</th>\n",
       "      <td>Hey, Watch This</td>\n",
       "      <td>National Review</td>\n",
       "      <td>Ryan Lochte and America’s Man-Boy ProblemAmeri...</td>\n",
       "      <td>-0.500000</td>\n",
       "      <td>0.000000</td>\n",
       "      <td>1</td>\n",
       "    </tr>\n",
       "  </tbody>\n",
       "</table>\n",
       "</div>"
      ],
      "text/plain": [
       "                                                        title  \\\n",
       "date                                                            \n",
       "2014-08-08  Michael Phelps is a touch off in 100 butterfly...   \n",
       "2016-06-27  Ryan Lochte, ’12 Olympic Champion, Misses Rio ...   \n",
       "2016-08-05                 The Rio Olympics: Catch the Fever!   \n",
       "2016-08-06   The Cultural Marxism of Rio’s Opening Ceremonies   \n",
       "2016-08-07                                    Hey, Watch This   \n",
       "\n",
       "                  publication  \\\n",
       "date                            \n",
       "2014-08-08  Los Angeles Times   \n",
       "2016-06-27     New York Times   \n",
       "2016-08-05      New York Post   \n",
       "2016-08-06    National Review   \n",
       "2016-08-07    National Review   \n",
       "\n",
       "                                                     relevant  mean_score  \\\n",
       "date                                                                        \n",
       "2014-08-08  Ryan Lochte, another preeminent American swimm...    0.250000   \n",
       "2016-06-27  OMAHA — Ryan Lochte was off to a rough start a...   -0.305556   \n",
       "2016-08-05  Swimmer Ryan Lochte, a regular poster boy in O...   -0.125000   \n",
       "2016-08-06  Ryan Lochte and America’s Man-Boy ProblemAmeri...    0.000000   \n",
       "2016-08-07  Ryan Lochte and America’s Man-Boy ProblemAmeri...   -0.500000   \n",
       "\n",
       "            mean_dev  count  \n",
       "date                         \n",
       "2014-08-08  0.250000      1  \n",
       "2016-06-27  0.818856      1  \n",
       "2016-08-05  0.375000      2  \n",
       "2016-08-06  0.000000      1  \n",
       "2016-08-07  0.000000      1  "
      ]
     },
     "execution_count": 37,
     "metadata": {},
     "output_type": "execute_result"
    }
   ],
   "source": [
    "data = pd.concat((news_peak_polar, scores), axis=1).sort_index()\n",
    "data.head()"
   ]
  },
  {
   "cell_type": "markdown",
   "metadata": {},
   "source": [
    "#### Reindex data to show daily scores\n",
    "Since we have really sparse data (news articles about the target are not written every day, we reindex the time series and fill missing values with zeros. "
   ]
  },
  {
   "cell_type": "code",
   "execution_count": 38,
   "metadata": {},
   "outputs": [],
   "source": [
    "idx = pd.date_range('1/1/2014', '7/5/2017')\n",
    "daily = data.reindex(idx, fill_value=0.0)"
   ]
  },
  {
   "cell_type": "code",
   "execution_count": 39,
   "metadata": {
    "scrolled": false
   },
   "outputs": [
    {
     "data": {
      "image/png": "[encoded data removed]",
      "text/plain": [
       "<Figure size 1080x576 with 2 Axes>"
      ]
     },
     "metadata": {},
     "output_type": "display_data"
    }
   ],
   "source": [
    "fig, (ax1, ax2) = plt.subplots(2, 1, figsize=(15, 8))\n",
    "ax1.fill_between(daily.index, daily['mean_score'], step='mid', color='black', alpha=0.6, linewidth=4);\n",
    "ax1.set_ylabel('Mean Score');\n",
    "ax1.set_title('Sentiment scores and deviations with time for \"{}\"'.format(name), size=15);\n",
    "ax2.fill_between(daily.index, daily['mean_dev'], step='mid', color='black', alpha=0.6, linewidth=4);\n",
    "ax2.set_ylabel('Mean Deviation');\n",
    "ax2.set_xlabel('Date');\n",
    "# plt.savefig(\"{}_scores\".format('_'.join(name.split()).lower()))"
   ]
  },
  {
   "cell_type": "markdown",
   "metadata": {},
   "source": [
    "#### Make calendar plot to show periods of activity"
   ]
  },
  {
   "cell_type": "code",
   "execution_count": 40,
   "metadata": {},
   "outputs": [
    {
     "name": "stderr",
     "output_type": "stream",
     "text": [
      "/home/pprao/.local/lib/python3.6/site-packages/matplotlib/font_manager.py:1241: UserWarning: findfont: Font family ['Arial'] not found. Falling back to DejaVu Sans.\n",
      "  (prop.get_family(), self.defaultFamily[fontext]))\n"
     ]
    },
    {
     "data": {
      "image/png": "[encoded data removed]",
      "text/plain": [
       "<Figure size 1080x720 with 3 Axes>"
      ]
     },
     "metadata": {},
     "output_type": "display_data"
    }
   ],
   "source": [
    "fig, axes = calmap.calendarplot(data['mean_score'],\n",
    "                    vmin = -1.0,\n",
    "                    vmax=1.0,\n",
    "                    daylabels='MTWTFSS',\n",
    "                    dayticks=[0, 2, 4, 6],\n",
    "                    fig_kws=dict(figsize=(15, 10)),\n",
    "                    linewidth=1,\n",
    "                    fillcolor='lightgrey',\n",
    "                    cmap='coolwarm_r',\n",
    "                   );\n",
    "fig.suptitle(\"Calendar map of aggregated sentiment for {}\".format(name), fontsize=18);\n",
    "fig.tight_layout(rect=[0, 0.03, 1, 0.95])\n",
    "\n",
    "if write_:\n",
    "    out_filename = '_'.join(name.split()).lower()\n",
    "    plt.savefig('calmap_{}.png'.format(out_filename))"
   ]
  },
  {
   "cell_type": "markdown",
   "metadata": {},
   "source": [
    "#### Get counts of positive and negative mentions based on Publication"
   ]
  },
  {
   "cell_type": "code",
   "execution_count": 41,
   "metadata": {
    "scrolled": false
   },
   "outputs": [
    {
     "data": {
      "text/html": [
       "<div>\n",
       "<style scoped>\n",
       "    .dataframe tbody tr th:only-of-type {\n",
       "        vertical-align: middle;\n",
       "    }\n",
       "\n",
       "    .dataframe tbody tr th {\n",
       "        vertical-align: top;\n",
       "    }\n",
       "\n",
       "    .dataframe thead th {\n",
       "        text-align: right;\n",
       "    }\n",
       "</style>\n",
       "<table border=\"1\" class=\"dataframe\">\n",
       "  <thead>\n",
       "    <tr style=\"text-align: right;\">\n",
       "      <th></th>\n",
       "      <th>Negative</th>\n",
       "      <th>Positive</th>\n",
       "    </tr>\n",
       "    <tr>\n",
       "      <th>publication</th>\n",
       "      <th></th>\n",
       "      <th></th>\n",
       "    </tr>\n",
       "  </thead>\n",
       "  <tbody>\n",
       "    <tr>\n",
       "      <th>Los Angeles Times</th>\n",
       "      <td>1.0</td>\n",
       "      <td>1.0</td>\n",
       "    </tr>\n",
       "    <tr>\n",
       "      <th>National Review</th>\n",
       "      <td>2.0</td>\n",
       "      <td>5.0</td>\n",
       "    </tr>\n",
       "    <tr>\n",
       "      <th>Reuters</th>\n",
       "      <td>3.0</td>\n",
       "      <td>1.0</td>\n",
       "    </tr>\n",
       "    <tr>\n",
       "      <th>Business Insider</th>\n",
       "      <td>4.0</td>\n",
       "      <td>2.0</td>\n",
       "    </tr>\n",
       "    <tr>\n",
       "      <th>Fox News</th>\n",
       "      <td>6.0</td>\n",
       "      <td>6.0</td>\n",
       "    </tr>\n",
       "    <tr>\n",
       "      <th>New York Post</th>\n",
       "      <td>6.0</td>\n",
       "      <td>6.0</td>\n",
       "    </tr>\n",
       "    <tr>\n",
       "      <th>Breitbart</th>\n",
       "      <td>7.0</td>\n",
       "      <td>0.0</td>\n",
       "    </tr>\n",
       "    <tr>\n",
       "      <th>Guardian</th>\n",
       "      <td>7.0</td>\n",
       "      <td>7.0</td>\n",
       "    </tr>\n",
       "    <tr>\n",
       "      <th>Buzzfeed News</th>\n",
       "      <td>10.0</td>\n",
       "      <td>1.0</td>\n",
       "    </tr>\n",
       "    <tr>\n",
       "      <th>NPR</th>\n",
       "      <td>10.0</td>\n",
       "      <td>3.0</td>\n",
       "    </tr>\n",
       "    <tr>\n",
       "      <th>Atlantic</th>\n",
       "      <td>11.0</td>\n",
       "      <td>8.0</td>\n",
       "    </tr>\n",
       "    <tr>\n",
       "      <th>CNN</th>\n",
       "      <td>15.0</td>\n",
       "      <td>5.0</td>\n",
       "    </tr>\n",
       "    <tr>\n",
       "      <th>New York Times</th>\n",
       "      <td>22.0</td>\n",
       "      <td>12.0</td>\n",
       "    </tr>\n",
       "  </tbody>\n",
       "</table>\n",
       "</div>"
      ],
      "text/plain": [
       "                   Negative  Positive\n",
       "publication                          \n",
       "Los Angeles Times       1.0       1.0\n",
       "National Review         2.0       5.0\n",
       "Reuters                 3.0       1.0\n",
       "Business Insider        4.0       2.0\n",
       "Fox News                6.0       6.0\n",
       "New York Post           6.0       6.0\n",
       "Breitbart               7.0       0.0\n",
       "Guardian                7.0       7.0\n",
       "Buzzfeed News          10.0       1.0\n",
       "NPR                    10.0       3.0\n",
       "Atlantic               11.0       8.0\n",
       "CNN                    15.0       5.0\n",
       "New York Times         22.0      12.0"
      ]
     },
     "execution_count": 41,
     "metadata": {},
     "output_type": "execute_result"
    }
   ],
   "source": [
    "grouped = news_relevant.groupby('publication').apply(lambda x: x['score'] >= 0.0)\n",
    "grouped = grouped.groupby('publication').value_counts().to_frame()\n",
    "grouped = grouped.unstack().fillna(0.0)\n",
    "grouped.columns = ['Negative', 'Positive']\n",
    "grouped = grouped.sort_values(by='Negative')\n",
    "grouped"
   ]
  },
  {
   "cell_type": "markdown",
   "metadata": {},
   "source": [
    "#### Plot article breakdown"
   ]
  },
  {
   "cell_type": "code",
   "execution_count": 42,
   "metadata": {
    "scrolled": false
   },
   "outputs": [
    {
     "data": {
      "image/png": "[encoded data removed]",
      "text/plain": [
       "<Figure size 864x576 with 1 Axes>"
      ]
     },
     "metadata": {},
     "output_type": "display_data"
    }
   ],
   "source": [
    "grouped.plot(kind='barh', figsize=(12, 8));\n",
    "plt.title('Count of number of articles with Positive/Negative Sentiment for {}'.format(name));\n",
    "# plt.savefig(\"{}_breakdown\".format('_'.join(name.split()).lower()))"
   ]
  },
  {
   "cell_type": "markdown",
   "metadata": {},
   "source": [
    "#### Output results to CSV"
   ]
  },
  {
   "cell_type": "code",
   "execution_count": 43,
   "metadata": {},
   "outputs": [],
   "source": [
    "if write_:\n",
    "    out_filename = '_'.join(name.split()).lower() + '_breakdown.csv'\n",
    "    out_path = Path('./') / \"results/fasttext\" / out_filename\n",
    "    grouped.to_csv(out_path, header=True)"
   ]
  },
  {
   "cell_type": "code",
   "execution_count": 44,
   "metadata": {},
   "outputs": [],
   "source": [
    "if write_: \n",
    "    data_filename = '_'.join(name.split()).lower() + '_data.csv'\n",
    "    data_path = Path('./') / \"results/fasttext\" / data_filename\n",
    "    daily[~daily['relevant'].eq(0)].to_csv(data_path, header=True)"
   ]
  },
  {
   "cell_type": "markdown",
   "metadata": {},
   "source": [
    "## Visualize Cosine Similarity Distances\n",
    "To see how similar or different each article is based on publication, we can compute the cosine distances between articles to generate a \"distance matrix\" and then visualize these distances in two-dimensional space."
   ]
  },
  {
   "cell_type": "markdown",
   "metadata": {},
   "source": [
    "#### Calculate TF-IDF for document similarity\n",
    "We first define the term frequency-inverse document frequency to vectorize the text for each article into parameters, and generate a ```tf-idf``` matrix. \n",
    "\n",
    "Once we compute the ```tf-idf``` matrix, we can find a \"distance matrix\" that stores how similar or how different two documents are."
   ]
  },
  {
   "cell_type": "code",
   "execution_count": 45,
   "metadata": {},
   "outputs": [
    {
     "name": "stdout",
     "output_type": "stream",
     "text": [
      "(161, 37)\n"
     ]
    }
   ],
   "source": [
    "# Define vectorizer parameters\n",
    "tfidf_vectorizer = TfidfVectorizer(max_df=0.8, max_features=200000,\n",
    "                                 min_df=0.2)\n",
    "# \n",
    "tfidf_matrix = tfidf_vectorizer.fit_transform(news_relevant['lemmas'] ) #fit the vectorizer to synopses\n",
    "print(tfidf_matrix.shape)\n",
    "\n",
    "# Display some key terms\n",
    "terms = tfidf_vectorizer.get_feature_names()"
   ]
  },
  {
   "cell_type": "code",
   "execution_count": 46,
   "metadata": {},
   "outputs": [],
   "source": [
    "# Get cosine distance matrix\n",
    "dist = 1 - cosine_similarity(tfidf_matrix)"
   ]
  },
  {
   "cell_type": "markdown",
   "metadata": {},
   "source": [
    "#### Multidimensional Scaling (MDS)\n",
    "The computed distances are in multi-dimensional in nature. To visualize the similarity, we \"embed\" the cosine distances (from the distance matrix) to a two-dimensional space, which we can then plot to see how the articles compare with each other in terms of their content."
   ]
  },
  {
   "cell_type": "code",
   "execution_count": 47,
   "metadata": {},
   "outputs": [
    {
     "name": "stdout",
     "output_type": "stream",
     "text": [
      "(161, 2)\n"
     ]
    }
   ],
   "source": [
    "embedding = MDS(n_components=2, dissimilarity=\"precomputed\", random_state=37)\n",
    "dist_transformed = embedding.fit_transform(dist)\n",
    "print(dist_transformed.shape)\n",
    "\n",
    "xs, ys = dist_transformed[:, 0], dist_transformed[:, 1]"
   ]
  },
  {
   "cell_type": "markdown",
   "metadata": {},
   "source": [
    "#### Generate an MDS DataFrame for plotting\n",
    "We combine the x-y distances from the MDS calculation with the original publication labels to see how different the articles are from each other, colored by publication."
   ]
  },
  {
   "cell_type": "code",
   "execution_count": 48,
   "metadata": {},
   "outputs": [
    {
     "data": {
      "text/html": [
       "<div>\n",
       "<style scoped>\n",
       "    .dataframe tbody tr th:only-of-type {\n",
       "        vertical-align: middle;\n",
       "    }\n",
       "\n",
       "    .dataframe tbody tr th {\n",
       "        vertical-align: top;\n",
       "    }\n",
       "\n",
       "    .dataframe thead th {\n",
       "        text-align: right;\n",
       "    }\n",
       "</style>\n",
       "<table border=\"1\" class=\"dataframe\">\n",
       "  <thead>\n",
       "    <tr style=\"text-align: right;\">\n",
       "      <th></th>\n",
       "      <th>label</th>\n",
       "      <th>x</th>\n",
       "      <th>y</th>\n",
       "    </tr>\n",
       "  </thead>\n",
       "  <tbody>\n",
       "    <tr>\n",
       "      <th>3095</th>\n",
       "      <td>Los Angeles Times</td>\n",
       "      <td>0.049449</td>\n",
       "      <td>0.029639</td>\n",
       "    </tr>\n",
       "    <tr>\n",
       "      <th>8946</th>\n",
       "      <td>Los Angeles Times</td>\n",
       "      <td>0.035553</td>\n",
       "      <td>-0.470827</td>\n",
       "    </tr>\n",
       "    <tr>\n",
       "      <th>13789</th>\n",
       "      <td>New York Times</td>\n",
       "      <td>0.569741</td>\n",
       "      <td>-0.192691</td>\n",
       "    </tr>\n",
       "    <tr>\n",
       "      <th>13825</th>\n",
       "      <td>New York Times</td>\n",
       "      <td>0.679005</td>\n",
       "      <td>0.406072</td>\n",
       "    </tr>\n",
       "    <tr>\n",
       "      <th>13839</th>\n",
       "      <td>New York Times</td>\n",
       "      <td>-0.364867</td>\n",
       "      <td>0.741446</td>\n",
       "    </tr>\n",
       "  </tbody>\n",
       "</table>\n",
       "</div>"
      ],
      "text/plain": [
       "                   label         x         y\n",
       "3095   Los Angeles Times  0.049449  0.029639\n",
       "8946   Los Angeles Times  0.035553 -0.470827\n",
       "13789     New York Times  0.569741 -0.192691\n",
       "13825     New York Times  0.679005  0.406072\n",
       "13839     New York Times -0.364867  0.741446"
      ]
     },
     "execution_count": 48,
     "metadata": {},
     "output_type": "execute_result"
    }
   ],
   "source": [
    "compare = pd.DataFrame(dict(label=news_relevant['publication'], x=xs, y=ys))\n",
    "compare.head()"
   ]
  },
  {
   "cell_type": "code",
   "execution_count": 49,
   "metadata": {},
   "outputs": [
    {
     "name": "stdout",
     "output_type": "stream",
     "text": [
      "Found 13 unique categories for publications\n"
     ]
    }
   ],
   "source": [
    "L = news_relevant['publication'].nunique()\n",
    "print(\"Found {} unique categories for publications\".format(L))"
   ]
  },
  {
   "cell_type": "code",
   "execution_count": 50,
   "metadata": {},
   "outputs": [
    {
     "data": {
      "text/html": [
       "<div>\n",
       "<style scoped>\n",
       "    .dataframe tbody tr th:only-of-type {\n",
       "        vertical-align: middle;\n",
       "    }\n",
       "\n",
       "    .dataframe tbody tr th {\n",
       "        vertical-align: top;\n",
       "    }\n",
       "\n",
       "    .dataframe thead th {\n",
       "        text-align: right;\n",
       "    }\n",
       "</style>\n",
       "<table border=\"1\" class=\"dataframe\">\n",
       "  <thead>\n",
       "    <tr style=\"text-align: right;\">\n",
       "      <th></th>\n",
       "      <th>count</th>\n",
       "      <th>x</th>\n",
       "      <th>y</th>\n",
       "    </tr>\n",
       "    <tr>\n",
       "      <th>label</th>\n",
       "      <th></th>\n",
       "      <th></th>\n",
       "      <th></th>\n",
       "    </tr>\n",
       "  </thead>\n",
       "  <tbody>\n",
       "    <tr>\n",
       "      <th>Los Angeles Times</th>\n",
       "      <td>2</td>\n",
       "      <td>0.042501</td>\n",
       "      <td>-0.220594</td>\n",
       "    </tr>\n",
       "    <tr>\n",
       "      <th>Reuters</th>\n",
       "      <td>4</td>\n",
       "      <td>0.181835</td>\n",
       "      <td>0.172886</td>\n",
       "    </tr>\n",
       "    <tr>\n",
       "      <th>Business Insider</th>\n",
       "      <td>6</td>\n",
       "      <td>0.012952</td>\n",
       "      <td>0.141242</td>\n",
       "    </tr>\n",
       "    <tr>\n",
       "      <th>Breitbart</th>\n",
       "      <td>7</td>\n",
       "      <td>-0.034057</td>\n",
       "      <td>-0.010643</td>\n",
       "    </tr>\n",
       "    <tr>\n",
       "      <th>National Review</th>\n",
       "      <td>7</td>\n",
       "      <td>0.144999</td>\n",
       "      <td>0.477238</td>\n",
       "    </tr>\n",
       "    <tr>\n",
       "      <th>Buzzfeed News</th>\n",
       "      <td>11</td>\n",
       "      <td>-0.121611</td>\n",
       "      <td>-0.023451</td>\n",
       "    </tr>\n",
       "    <tr>\n",
       "      <th>Fox News</th>\n",
       "      <td>12</td>\n",
       "      <td>-0.031457</td>\n",
       "      <td>0.166461</td>\n",
       "    </tr>\n",
       "    <tr>\n",
       "      <th>New York Post</th>\n",
       "      <td>12</td>\n",
       "      <td>-0.027713</td>\n",
       "      <td>-0.109907</td>\n",
       "    </tr>\n",
       "    <tr>\n",
       "      <th>NPR</th>\n",
       "      <td>13</td>\n",
       "      <td>0.086689</td>\n",
       "      <td>0.215968</td>\n",
       "    </tr>\n",
       "    <tr>\n",
       "      <th>Guardian</th>\n",
       "      <td>14</td>\n",
       "      <td>-0.101146</td>\n",
       "      <td>-0.140855</td>\n",
       "    </tr>\n",
       "    <tr>\n",
       "      <th>Atlantic</th>\n",
       "      <td>19</td>\n",
       "      <td>0.134183</td>\n",
       "      <td>-0.134963</td>\n",
       "    </tr>\n",
       "    <tr>\n",
       "      <th>CNN</th>\n",
       "      <td>20</td>\n",
       "      <td>0.084364</td>\n",
       "      <td>0.221514</td>\n",
       "    </tr>\n",
       "    <tr>\n",
       "      <th>New York Times</th>\n",
       "      <td>34</td>\n",
       "      <td>-0.104898</td>\n",
       "      <td>-0.220184</td>\n",
       "    </tr>\n",
       "  </tbody>\n",
       "</table>\n",
       "</div>"
      ],
      "text/plain": [
       "                   count         x         y\n",
       "label                                       \n",
       "Los Angeles Times      2  0.042501 -0.220594\n",
       "Reuters                4  0.181835  0.172886\n",
       "Business Insider       6  0.012952  0.141242\n",
       "Breitbart              7 -0.034057 -0.010643\n",
       "National Review        7  0.144999  0.477238\n",
       "Buzzfeed News         11 -0.121611 -0.023451\n",
       "Fox News              12 -0.031457  0.166461\n",
       "New York Post         12 -0.027713 -0.109907\n",
       "NPR                   13  0.086689  0.215968\n",
       "Guardian              14 -0.101146 -0.140855\n",
       "Atlantic              19  0.134183 -0.134963\n",
       "CNN                   20  0.084364  0.221514\n",
       "New York Times        34 -0.104898 -0.220184"
      ]
     },
     "execution_count": 50,
     "metadata": {},
     "output_type": "execute_result"
    }
   ],
   "source": [
    "groups = compare.groupby('label').agg({'label': 'count', 'x': 'mean', 'y': 'mean'})\n",
    "groups.columns = ['count', 'x', 'y']\n",
    "groups = groups.sort_values(by='count')\n",
    "groups"
   ]
  },
  {
   "cell_type": "markdown",
   "metadata": {},
   "source": [
    "#### Visualize similarities as embedded cosine distances"
   ]
  },
  {
   "cell_type": "code",
   "execution_count": 51,
   "metadata": {
    "scrolled": false
   },
   "outputs": [
    {
     "data": {
      "image/png": "[encoded data removed]",
      "text/plain": [
       "<Figure size 864x648 with 1 Axes>"
      ]
     },
     "metadata": {},
     "output_type": "display_data"
    }
   ],
   "source": [
    "fig, ax = plt.subplots(figsize=(12, 9))\n",
    "\n",
    "colors = [i for i in range(len(groups.index))]\n",
    "\n",
    "ax.scatter(groups['x'], groups['y'], c=colors, \n",
    "            s=groups['count']*100, linewidths=1.5, alpha=0.7,\n",
    "            edgecolors='k', cmap=plt.cm.gist_rainbow,\n",
    "            );\n",
    "\n",
    "for i, txt in enumerate(groups.index):\n",
    "    ax.annotate(txt, (groups['x'][i], groups['y'][i]),\n",
    "                fontsize=18, alpha=0.7);\n",
    "ax.set_xticklabels(['']);\n",
    "ax.set_yticklabels(['']);\n",
    "plt.tight_layout()"
   ]
  }
 ],
 "metadata": {
  "kernelspec": {
   "display_name": "Python 3",
   "language": "python",
   "name": "python3"
  },
  "language_info": {
   "codemirror_mode": {
    "name": "ipython",
    "version": 3
   },
   "file_extension": ".py",
   "mimetype": "text/x-python",
   "name": "python",
   "nbconvert_exporter": "python",
   "pygments_lexer": "ipython3",
   "version": "3.6.7"
  }
 },
 "nbformat": 4,
 "nbformat_minor": 2
}
