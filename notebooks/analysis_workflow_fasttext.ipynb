{
 "cells": [
  {
   "cell_type": "markdown",
   "metadata": {},
   "source": [
    "# Data Pipeline\n",
    "Initial data analysis pipeline including a naive sentiment analysis using TextBlob."
   ]
  },
  {
   "cell_type": "code",
   "execution_count": 1,
   "metadata": {},
   "outputs": [],
   "source": [
    "import re\n",
    "import spacy\n",
    "import pandas as pd\n",
    "import numpy as np\n",
    "from pathlib import Path\n",
    "from string import punctuation"
   ]
  },
  {
   "cell_type": "code",
   "execution_count": 2,
   "metadata": {},
   "outputs": [],
   "source": [
    "import matplotlib.pyplot as plt\n",
    "%matplotlib inline"
   ]
  },
  {
   "cell_type": "code",
   "execution_count": 3,
   "metadata": {},
   "outputs": [],
   "source": [
    "import calmap # for making GitHub-style calendar plots of time-series\n",
    "# Plot using Pandas datatime objects\n",
    "from pandas.plotting import register_matplotlib_converters\n",
    "register_matplotlib_converters()\n",
    "rc_fonts = {'figure.figsize': (15, 8),\n",
    "            'axes.labelsize': 16,\n",
    "            'xtick.labelsize': 14,\n",
    "            'ytick.labelsize': 14}\n",
    "plt.rcParams.update(rc_fonts)\n",
    "plt.style.use('ggplot')"
   ]
  },
  {
   "cell_type": "markdown",
   "metadata": {},
   "source": [
    "## Use ```spaCy``` for tokenization and sentence segmentation"
   ]
  },
  {
   "cell_type": "code",
   "execution_count": 4,
   "metadata": {},
   "outputs": [],
   "source": [
    "import spacy\n",
    "from spacy import displacy\n",
    "# Load spaCy language model (blank model to which we add pipeline components)\n",
    "sentencizer = spacy.blank('en')\n",
    "sentencizer.add_pipe(sentencizer.create_pipe('sentencizer'))"
   ]
  },
  {
   "cell_type": "markdown",
   "metadata": {},
   "source": [
    "#### Specify named entity of interest"
   ]
  },
  {
   "cell_type": "code",
   "execution_count": 5,
   "metadata": {},
   "outputs": [],
   "source": [
    "name = \"United Airlines\""
   ]
  },
  {
   "cell_type": "markdown",
   "metadata": {},
   "source": [
    "#### Write data: Boolean\n",
    "Specify if we want to write the output data to csv or not."
   ]
  },
  {
   "cell_type": "code",
   "execution_count": 6,
   "metadata": {},
   "outputs": [],
   "source": [
    "write_ = False"
   ]
  },
  {
   "cell_type": "code",
   "execution_count": 7,
   "metadata": {},
   "outputs": [
    {
     "data": {
      "text/html": [
       "<div>\n",
       "<style scoped>\n",
       "    .dataframe tbody tr th:only-of-type {\n",
       "        vertical-align: middle;\n",
       "    }\n",
       "\n",
       "    .dataframe tbody tr th {\n",
       "        vertical-align: top;\n",
       "    }\n",
       "\n",
       "    .dataframe thead th {\n",
       "        text-align: right;\n",
       "    }\n",
       "</style>\n",
       "<table border=\"1\" class=\"dataframe\">\n",
       "  <thead>\n",
       "    <tr style=\"text-align: right;\">\n",
       "      <th></th>\n",
       "      <th>title</th>\n",
       "      <th>author</th>\n",
       "      <th>date</th>\n",
       "      <th>content</th>\n",
       "      <th>year</th>\n",
       "      <th>month</th>\n",
       "      <th>publication</th>\n",
       "      <th>length</th>\n",
       "    </tr>\n",
       "  </thead>\n",
       "  <tbody>\n",
       "    <tr>\n",
       "      <th>0</th>\n",
       "      <td>Agent Cooper in Twin Peaks is the audience: on...</td>\n",
       "      <td>Tasha Robinson</td>\n",
       "      <td>2017-05-31</td>\n",
       "      <td>And never more so than in Showtime’s new...</td>\n",
       "      <td>2017.0</td>\n",
       "      <td>5.0</td>\n",
       "      <td>Verge</td>\n",
       "      <td>2376</td>\n",
       "    </tr>\n",
       "    <tr>\n",
       "      <th>1</th>\n",
       "      <td>AI, the humanity!</td>\n",
       "      <td>Sam Byford</td>\n",
       "      <td>2017-05-30</td>\n",
       "      <td>AlphaGo’s victory isn’t a defeat for hum...</td>\n",
       "      <td>2017.0</td>\n",
       "      <td>5.0</td>\n",
       "      <td>Verge</td>\n",
       "      <td>2125</td>\n",
       "    </tr>\n",
       "    <tr>\n",
       "      <th>2</th>\n",
       "      <td>The Viral Machine</td>\n",
       "      <td>Kaitlyn Tiffany</td>\n",
       "      <td>2017-05-25</td>\n",
       "      <td>Super Deluxe built a weird internet empi...</td>\n",
       "      <td>2017.0</td>\n",
       "      <td>5.0</td>\n",
       "      <td>Verge</td>\n",
       "      <td>3310</td>\n",
       "    </tr>\n",
       "    <tr>\n",
       "      <th>3</th>\n",
       "      <td>How Anker is beating Apple and Samsung at thei...</td>\n",
       "      <td>Nick Statt</td>\n",
       "      <td>2017-05-22</td>\n",
       "      <td>Steven Yang quit his job at Google in th...</td>\n",
       "      <td>2017.0</td>\n",
       "      <td>5.0</td>\n",
       "      <td>Verge</td>\n",
       "      <td>3632</td>\n",
       "    </tr>\n",
       "    <tr>\n",
       "      <th>4</th>\n",
       "      <td>Tour Black Panther’s reimagined homeland with ...</td>\n",
       "      <td>Kwame Opam</td>\n",
       "      <td>2017-05-15</td>\n",
       "      <td>Ahead of Black Panther’s 2018 theatrical...</td>\n",
       "      <td>2017.0</td>\n",
       "      <td>5.0</td>\n",
       "      <td>Verge</td>\n",
       "      <td>262</td>\n",
       "    </tr>\n",
       "  </tbody>\n",
       "</table>\n",
       "</div>"
      ],
      "text/plain": [
       "                                               title           author  \\\n",
       "0  Agent Cooper in Twin Peaks is the audience: on...   Tasha Robinson   \n",
       "1                                  AI, the humanity!       Sam Byford   \n",
       "2                                  The Viral Machine  Kaitlyn Tiffany   \n",
       "3  How Anker is beating Apple and Samsung at thei...       Nick Statt   \n",
       "4  Tour Black Panther’s reimagined homeland with ...       Kwame Opam   \n",
       "\n",
       "        date                                            content    year  \\\n",
       "0 2017-05-31        And never more so than in Showtime’s new...  2017.0   \n",
       "1 2017-05-30        AlphaGo’s victory isn’t a defeat for hum...  2017.0   \n",
       "2 2017-05-25        Super Deluxe built a weird internet empi...  2017.0   \n",
       "3 2017-05-22        Steven Yang quit his job at Google in th...  2017.0   \n",
       "4 2017-05-15        Ahead of Black Panther’s 2018 theatrical...  2017.0   \n",
       "\n",
       "   month publication  length  \n",
       "0    5.0       Verge    2376  \n",
       "1    5.0       Verge    2125  \n",
       "2    5.0       Verge    3310  \n",
       "3    5.0       Verge    3632  \n",
       "4    5.0       Verge     262  "
      ]
     },
     "execution_count": 7,
     "metadata": {},
     "output_type": "execute_result"
    }
   ],
   "source": [
    "datafile = 'all_the_news_v2.csv'\n",
    "datapath = Path('../') / 'data' / datafile \n",
    "colnames = ['title', 'author', 'date', 'content', 'year', 'month', 'publication', 'length']\n",
    "\n",
    "news = pd.read_csv(datapath, usecols=colnames, parse_dates=['date'])\n",
    "news['author'] = news['author'].str.strip()\n",
    "news.head()"
   ]
  },
  {
   "cell_type": "code",
   "execution_count": 8,
   "metadata": {},
   "outputs": [
    {
     "data": {
      "text/plain": [
       "143156"
      ]
     },
     "execution_count": 8,
     "metadata": {},
     "output_type": "execute_result"
    }
   ],
   "source": [
    "news = news.dropna(subset=['date', 'title'])\n",
    "news.shape[0]"
   ]
  },
  {
   "cell_type": "code",
   "execution_count": 9,
   "metadata": {},
   "outputs": [
    {
     "data": {
      "text/plain": [
       "count                  143156\n",
       "unique                   1480\n",
       "top       2017-01-13 00:00:00\n",
       "freq                      415\n",
       "first     2000-05-15 00:00:00\n",
       "last      2017-07-05 00:00:00\n",
       "Name: date, dtype: object"
      ]
     },
     "execution_count": 9,
     "metadata": {},
     "output_type": "execute_result"
    }
   ],
   "source": [
    "news['date'].describe()"
   ]
  },
  {
   "cell_type": "markdown",
   "metadata": {},
   "source": [
    "### Filter articles based on name match\n",
    "In this section we only select those news articles that contain part of or all of the name we input as ```name```."
   ]
  },
  {
   "cell_type": "code",
   "execution_count": 10,
   "metadata": {},
   "outputs": [
    {
     "name": "stdout",
     "output_type": "stream",
     "text": [
      "255\n"
     ]
    },
    {
     "data": {
      "text/html": [
       "<div>\n",
       "<style scoped>\n",
       "    .dataframe tbody tr th:only-of-type {\n",
       "        vertical-align: middle;\n",
       "    }\n",
       "\n",
       "    .dataframe tbody tr th {\n",
       "        vertical-align: top;\n",
       "    }\n",
       "\n",
       "    .dataframe thead th {\n",
       "        text-align: right;\n",
       "    }\n",
       "</style>\n",
       "<table border=\"1\" class=\"dataframe\">\n",
       "  <thead>\n",
       "    <tr style=\"text-align: right;\">\n",
       "      <th></th>\n",
       "      <th>title</th>\n",
       "      <th>author</th>\n",
       "      <th>date</th>\n",
       "      <th>content</th>\n",
       "      <th>year</th>\n",
       "      <th>month</th>\n",
       "      <th>publication</th>\n",
       "      <th>length</th>\n",
       "    </tr>\n",
       "  </thead>\n",
       "  <tbody>\n",
       "    <tr>\n",
       "      <th>2769</th>\n",
       "      <td>Today: Obamacare Survives the GOP and Trump’s ...</td>\n",
       "      <td>Los Angeles Times</td>\n",
       "      <td>2017-03-27</td>\n",
       "      <td>I\\'m Davan Maharaj, editor-in-chief of the Los...</td>\n",
       "      <td>2017.0</td>\n",
       "      <td>3.0</td>\n",
       "      <td>Los Angeles Times</td>\n",
       "      <td>2195</td>\n",
       "    </tr>\n",
       "    <tr>\n",
       "      <th>2799</th>\n",
       "      <td>American Airlines buys $200-million stake in C...</td>\n",
       "      <td>Associated Press</td>\n",
       "      <td>2017-03-27</td>\n",
       "      <td>American Airlines has agreed to pay $200 milli...</td>\n",
       "      <td>2017.0</td>\n",
       "      <td>3.0</td>\n",
       "      <td>Los Angeles Times</td>\n",
       "      <td>1140</td>\n",
       "    </tr>\n",
       "    <tr>\n",
       "      <th>2867</th>\n",
       "      <td>Rival airlines poke fun at United over legging...</td>\n",
       "      <td>Los Angeles Times</td>\n",
       "      <td>2017-03-30</td>\n",
       "      <td>United Airlines has taken a heap of criticism ...</td>\n",
       "      <td>2017.0</td>\n",
       "      <td>3.0</td>\n",
       "      <td>Los Angeles Times</td>\n",
       "      <td>966</td>\n",
       "    </tr>\n",
       "    <tr>\n",
       "      <th>3058</th>\n",
       "      <td>United fiasco shows airlines' power over passe...</td>\n",
       "      <td>David Ng, Hugo Martin, Samantha Masunaga</td>\n",
       "      <td>2017-04-11</td>\n",
       "      <td>Delta, American and United airlines claim the ...</td>\n",
       "      <td>2017.0</td>\n",
       "      <td>4.0</td>\n",
       "      <td>Los Angeles Times</td>\n",
       "      <td>2062</td>\n",
       "    </tr>\n",
       "    <tr>\n",
       "      <th>3064</th>\n",
       "      <td>Facing harsh criticism, airlines can now point...</td>\n",
       "      <td>Hugo Martin</td>\n",
       "      <td>2017-04-25</td>\n",
       "      <td>Facing harsh criticism over several recent sca...</td>\n",
       "      <td>2017.0</td>\n",
       "      <td>4.0</td>\n",
       "      <td>Los Angeles Times</td>\n",
       "      <td>1048</td>\n",
       "    </tr>\n",
       "  </tbody>\n",
       "</table>\n",
       "</div>"
      ],
      "text/plain": [
       "                                                  title  \\\n",
       "2769  Today: Obamacare Survives the GOP and Trump’s ...   \n",
       "2799  American Airlines buys $200-million stake in C...   \n",
       "2867  Rival airlines poke fun at United over legging...   \n",
       "3058  United fiasco shows airlines' power over passe...   \n",
       "3064  Facing harsh criticism, airlines can now point...   \n",
       "\n",
       "                                        author       date  \\\n",
       "2769                         Los Angeles Times 2017-03-27   \n",
       "2799                          Associated Press 2017-03-27   \n",
       "2867                         Los Angeles Times 2017-03-30   \n",
       "3058  David Ng, Hugo Martin, Samantha Masunaga 2017-04-11   \n",
       "3064                               Hugo Martin 2017-04-25   \n",
       "\n",
       "                                                content    year  month  \\\n",
       "2769  I\\'m Davan Maharaj, editor-in-chief of the Los...  2017.0    3.0   \n",
       "2799  American Airlines has agreed to pay $200 milli...  2017.0    3.0   \n",
       "2867  United Airlines has taken a heap of criticism ...  2017.0    3.0   \n",
       "3058  Delta, American and United airlines claim the ...  2017.0    4.0   \n",
       "3064  Facing harsh criticism over several recent sca...  2017.0    4.0   \n",
       "\n",
       "            publication  length  \n",
       "2769  Los Angeles Times    2195  \n",
       "2799  Los Angeles Times    1140  \n",
       "2867  Los Angeles Times     966  \n",
       "3058  Los Angeles Times    2062  \n",
       "3064  Los Angeles Times    1048  "
      ]
     },
     "execution_count": 10,
     "metadata": {},
     "output_type": "execute_result"
    }
   ],
   "source": [
    "def check_name(content, name):\n",
    "    flag = False\n",
    "    if name in content:\n",
    "        flag = True\n",
    "    return flag\n",
    "\n",
    "def filter_df(df):\n",
    "    df['match'] = df['content'].apply(lambda x: check_name(x, name))\n",
    "    df_relevant = df.loc[df['match'].eq(True)]\n",
    "    return df_relevant.drop(['match'], axis=1)\n",
    "\n",
    "news_relevant = filter_df(news)\n",
    "print(news_relevant.shape[0])\n",
    "news_relevant.head()"
   ]
  },
  {
   "cell_type": "markdown",
   "metadata": {},
   "source": [
    "### Perform sentence segmentation\n",
    "Store the sentences in each news articles as a list of sentences, from which we can easily extract per-sentence sentiment."
   ]
  },
  {
   "cell_type": "code",
   "execution_count": 11,
   "metadata": {},
   "outputs": [],
   "source": [
    "def get_relevant(text, name):\n",
    "    doc = sentencizer(text)\n",
    "    relevant = []\n",
    "    for sent in doc.sents:\n",
    "        for n in name.split():\n",
    "            if n in sent.text:\n",
    "                clean = sent.text.replace(\"\\n\", \" \").replace(\"\\xa0\", \" \")\n",
    "                # Strip bad characters at the start of sentences\n",
    "                clean = clean.strip(\"[\\'\").strip(\"\\']\").strip('\\\"').strip(\"\\'\\\"\")\n",
    "                clean = clean.strip(\",\\'\").strip(\"\\',\").strip('\\\"').strip(\"\\'\\\"\").strip()\n",
    "                relevant.append(clean)\n",
    "    # Remove duplicates\n",
    "    relevant = list(dict.fromkeys(relevant))\n",
    "    return relevant"
   ]
  },
  {
   "cell_type": "code",
   "execution_count": 12,
   "metadata": {},
   "outputs": [],
   "source": [
    "news_relevant['relevant'] = news_relevant['content'].apply(lambda x: get_relevant(x, name))"
   ]
  },
  {
   "cell_type": "code",
   "execution_count": 13,
   "metadata": {},
   "outputs": [
    {
     "name": "stdout",
     "output_type": "stream",
     "text": [
      "[\"The Atlantic)', '-- The United Airlines leggings controversy that took social media by storm. (\"] \n",
      "--\n",
      "[\"American Airlines has agreed to pay $200 million for a stake in China Southern Airlines, one of the country\\\\'s three major state-owned carriers, and expand commercial cooperation.',\", \"China Southern Airlines said in an announcement Tuesday through the Hong Kong stock exchange that the purchase will represent 2.76% of its shares.',\", \"Chinese spending on air travel rose 10% in 2015, compared with 1.7% in the United States, according to the International Air Travel Assn.',\", 'Two years ago, Delta Air Lines paid $450 million for 3.55% of China Eastern Airlines.', \"The third major U.S. carrier, United Airlines, has a partnership with Air China, the third major Chinese government-owned airline.',\", \"Regulators in both China and the United States are reluctant to allow large foreign ownership stakes or management control of their airlines.',\", 'The partnership with American Airlines \"is expected to provide continuous impetus for the company\\\\\\'s long-term growth,\" China Southern\\\\\\'s announcement said.\\',', 'June 16, 2017) (Sign up for our free video newsletter here \"\" target=\"_blank\">\"\">Studios pushing earlier movie rentals amid growing pressures\\', \\'Jim Gianopulos is tasked with turning around struggling Paramount Pictures\\', \\'Bond king Bill Gross agrees to settlement in lawsuit against Pimco, ending nasty dispute\\', \\'UPDATES:\\', \\'9:40 p.m.: This article was updated with background information on China Southern Airlines.\\','] \n",
      "--\n",
      "[\"United Airlines has taken a heap of criticism from celebrities and other air travelers over its decision last week to bar two teenage girls from boarding a flight from Denver because they were wearing leggings.',\", \"Florida-based Spirit Airlines on Tuesday posted an ad declaring “Let them wear leggings,” along with a one-day offer of 75% off on flights to specific destinations, on Tuesdays and Wednesdays only.',\"] \n",
      "--\n",
      "['Delta, American and United airlines claim the right to eject fliers for smelling bad.', \"Airlines grant themselves all sorts of power over who can be removed from a flight, embedded in the fine print that passengers agree to when they click “confirm” to purchase an airline ticket.',\", \"But in light of the incident this week in which a United Airlines passenger was dragged off a sold-out flight, to the shock of his fellow passengers and millions watching it on video, passenger advocates say airlines’ seating policies may now get closer scrutiny.',\", \"Here's United Airlines' latest PR nightmare. (\", 'April 11, 2017)\", \"Here\\'s United Airlines\\' latest PR nightmare. (', \"On Sunday, United booted Dr. David Dao from a Chicago plane scheduled to fly to Louisville, Ky. A video recording of the incident that went viral showed law enforcement officials confronting Dao and then dragging him down the aisle as passengers looked on in disbelief.',\", 'United said that it was seeking to bump four passengers from the flight in order to accommodate a group of airline employees who needed to travel to Louisville.', \"Though United officials have described Dao as disruptive and belligerent, the company issued an apology Tuesday.', '“\", \"No one should ever be mistreated this way,” United Chief Executive Oscar Munoz said in a statement.',\", \"The airline and banking industries may seem to be about as different as chalk and cheese, but United Airlines and Wells Fargo have been shown to share a common bond: toxic corporate cultures that can be blamed on the men at the top, their chief executives.',\", \"Wells Fargo’s John Stumpf is gone, having...', 'The airline and banking industries may seem to be about as different as chalk and cheese, but United Airlines and Wells Fargo have been shown to share a common bond: toxic corporate cultures that can be blamed on the men at the top, their chief executives.',\", \"But United has denied reports that the flight was overbooked, saying that it was sold out.',\", \"Lawmakers from both parties, including leaders of the Senate Commerce, Science and Transportation Committee, have sent United a letter demanding that the airline explain its actions and  requested an investigation by the Transportation Department.',\", \"The United incident comes at a time when the number of bumped passengers is declining across the industry, according to a recent report from the Bureau of Transportation Statistics.',\", 'Airlines posted an involuntary bumping rate of 62 per 1 million passengers in 2016, down from 73 per 1 million fliers in 2015.', 'United’s latest run of bad publicity began last month when it stopped two teenage girls from boarding a flight because they were wearing leggings.', \"But the company later defended the decision, saying that because the girls were flying as “pass travelers” — meaning they were traveling using an employee pass — they were obligated to adhere to United’s dress code.',\", \"Late in March, United Airlines took heat for barring two teenage girls from boarding a plane because they were wearing leggings, which violated a dress code policy mandated for family and friends of employees.\\\\xa0On Sunday, April 9, a viral video showed a man being dragged out of his seat and off...', 'Late in March, United Airlines took heat for barring two teenage girls from boarding a plane because they were wearing leggings, which violated a dress code policy mandated for family and friends of employees.\\\\xa0On Sunday, April 9, a viral video showed a man being dragged out of his seat and off...', 'Airlines often prioritize customers when it comes to involuntary bumping.\", 'United states in its carriage contract that minors and people with disabilities are the last to be denied boarding.', \"david.ng@latimes.com', '@DavidNgLAT', 'ALSO', 'United\\\\'s CEO turns contrite as fallout spreads from passenger mistreatment', 'David Dao, United passenger who was dragged from plane, says he\\\\'s still in the hospital', 'United passenger threatened with handcuffs to make room for \\\\'higher-priority\\\\' traveler\"] \n",
      "--\n",
      "[\"As always, competition drives pricing and competition is alive and well as evidenced by the fact that inflation-adjusted airfares have fallen 26% since 2000,” said Vaughn Jennings, a spokesman for Airlines for America, the trade group for the nation’s carriers.',\", 'The positive airfare news comes as United Airlines tries to overcome widespread criticism over an incident two weeks ago when a passenger was dragged from his seat.', 'American Airlines has also come under scrutiny because of a more recent incident, also caught on video, showing a male flight attendant and a male passenger nearly coming to blows.'] \n",
      "--\n"
     ]
    }
   ],
   "source": [
    "for i in news_relevant['relevant'][:5]:\n",
    "    print(i, '\\n--')"
   ]
  },
  {
   "cell_type": "markdown",
   "metadata": {},
   "source": [
    "### Sentiment scoring using FastText"
   ]
  },
  {
   "cell_type": "code",
   "execution_count": 14,
   "metadata": {},
   "outputs": [],
   "source": [
    "import fastText\n",
    "# Load trained fastText model\n",
    "model_path = './fasttext_models/pretrained_yelp_review_full.ftz'"
   ]
  },
  {
   "cell_type": "markdown",
   "metadata": {},
   "source": [
    "#### Preprocess text and tokenize as per FastText requirements"
   ]
  },
  {
   "cell_type": "code",
   "execution_count": 15,
   "metadata": {},
   "outputs": [],
   "source": [
    "def fasttext_tokenize(string):\n",
    "    string = string.lower()\n",
    "    string = re.sub(r\"([.!?,'/()])\", r\" \\1 \", string)\n",
    "    return string"
   ]
  },
  {
   "cell_type": "code",
   "execution_count": 16,
   "metadata": {},
   "outputs": [],
   "source": [
    "# reviews = [\n",
    "#     \"This restaurant literally changed my life. This is the best food I've ever eaten!\",\n",
    "#     \"I hate this place so much. They were mean to me.\",\n",
    "#     \"I don't know. It was ok, I guess. Not really sure what to say.\",\n",
    "# ]\n",
    "\n",
    "# preprocessed_reviews = list(map(strip_formatting, reviews))\n",
    "# # Load classifier\n",
    "# classifier = fastText.load_model(model_path)\n",
    "\n",
    "# # Get fastText to classify each review with the model\n",
    "# labels, probabilities = classifier.predict(preprocessed_reviews, 1)\n",
    "# stars = [int(l[0][-1]) - 3 for l in labels]\n",
    "# stars"
   ]
  },
  {
   "cell_type": "code",
   "execution_count": 17,
   "metadata": {},
   "outputs": [],
   "source": [
    "classifier = fastText.load_model(model_path)\n",
    "def get_score_fasttext(text_list):\n",
    "    # Calculate polarity for each sentence\n",
    "    preprocessed = list(map(fasttext_tokenize, text_list))\n",
    "    labels, probabilities = classifier.predict(preprocessed, 1)\n",
    "    sentiment_list = [(int(l[0][-1]) - 3)/2 for l in labels if l]\n",
    "    score = np.mean(sentiment_list)\n",
    "    deviation = np.std(sentiment_list)\n",
    "    return score, deviation"
   ]
  },
  {
   "cell_type": "code",
   "execution_count": 18,
   "metadata": {},
   "outputs": [
    {
     "data": {
      "text/html": [
       "<div>\n",
       "<style scoped>\n",
       "    .dataframe tbody tr th:only-of-type {\n",
       "        vertical-align: middle;\n",
       "    }\n",
       "\n",
       "    .dataframe tbody tr th {\n",
       "        vertical-align: top;\n",
       "    }\n",
       "\n",
       "    .dataframe thead th {\n",
       "        text-align: right;\n",
       "    }\n",
       "</style>\n",
       "<table border=\"1\" class=\"dataframe\">\n",
       "  <thead>\n",
       "    <tr style=\"text-align: right;\">\n",
       "      <th></th>\n",
       "      <th>title</th>\n",
       "      <th>author</th>\n",
       "      <th>date</th>\n",
       "      <th>content</th>\n",
       "      <th>year</th>\n",
       "      <th>month</th>\n",
       "      <th>publication</th>\n",
       "      <th>length</th>\n",
       "      <th>relevant</th>\n",
       "      <th>score</th>\n",
       "      <th>deviation</th>\n",
       "    </tr>\n",
       "  </thead>\n",
       "  <tbody>\n",
       "    <tr>\n",
       "      <th>2769</th>\n",
       "      <td>Today: Obamacare Survives the GOP and Trump’s ...</td>\n",
       "      <td>Los Angeles Times</td>\n",
       "      <td>2017-03-27</td>\n",
       "      <td>I\\'m Davan Maharaj, editor-in-chief of the Los...</td>\n",
       "      <td>2017.0</td>\n",
       "      <td>3.0</td>\n",
       "      <td>Los Angeles Times</td>\n",
       "      <td>2195</td>\n",
       "      <td>[The Atlantic)', '-- The United Airlines leggi...</td>\n",
       "      <td>1.000000</td>\n",
       "      <td>0.000000</td>\n",
       "    </tr>\n",
       "    <tr>\n",
       "      <th>2799</th>\n",
       "      <td>American Airlines buys $200-million stake in C...</td>\n",
       "      <td>Associated Press</td>\n",
       "      <td>2017-03-27</td>\n",
       "      <td>American Airlines has agreed to pay $200 milli...</td>\n",
       "      <td>2017.0</td>\n",
       "      <td>3.0</td>\n",
       "      <td>Los Angeles Times</td>\n",
       "      <td>1140</td>\n",
       "      <td>[American Airlines has agreed to pay $200 mill...</td>\n",
       "      <td>-0.562500</td>\n",
       "      <td>0.526634</td>\n",
       "    </tr>\n",
       "    <tr>\n",
       "      <th>2867</th>\n",
       "      <td>Rival airlines poke fun at United over legging...</td>\n",
       "      <td>Los Angeles Times</td>\n",
       "      <td>2017-03-30</td>\n",
       "      <td>United Airlines has taken a heap of criticism ...</td>\n",
       "      <td>2017.0</td>\n",
       "      <td>3.0</td>\n",
       "      <td>Los Angeles Times</td>\n",
       "      <td>966</td>\n",
       "      <td>[United Airlines has taken a heap of criticism...</td>\n",
       "      <td>0.500000</td>\n",
       "      <td>0.500000</td>\n",
       "    </tr>\n",
       "    <tr>\n",
       "      <th>3058</th>\n",
       "      <td>United fiasco shows airlines' power over passe...</td>\n",
       "      <td>David Ng, Hugo Martin, Samantha Masunaga</td>\n",
       "      <td>2017-04-11</td>\n",
       "      <td>Delta, American and United airlines claim the ...</td>\n",
       "      <td>2017.0</td>\n",
       "      <td>4.0</td>\n",
       "      <td>Los Angeles Times</td>\n",
       "      <td>2062</td>\n",
       "      <td>[Delta, American and United airlines claim the...</td>\n",
       "      <td>-0.700000</td>\n",
       "      <td>0.600000</td>\n",
       "    </tr>\n",
       "    <tr>\n",
       "      <th>3064</th>\n",
       "      <td>Facing harsh criticism, airlines can now point...</td>\n",
       "      <td>Hugo Martin</td>\n",
       "      <td>2017-04-25</td>\n",
       "      <td>Facing harsh criticism over several recent sca...</td>\n",
       "      <td>2017.0</td>\n",
       "      <td>4.0</td>\n",
       "      <td>Los Angeles Times</td>\n",
       "      <td>1048</td>\n",
       "      <td>[As always, competition drives pricing and com...</td>\n",
       "      <td>-0.166667</td>\n",
       "      <td>0.849837</td>\n",
       "    </tr>\n",
       "  </tbody>\n",
       "</table>\n",
       "</div>"
      ],
      "text/plain": [
       "                                                  title  \\\n",
       "2769  Today: Obamacare Survives the GOP and Trump’s ...   \n",
       "2799  American Airlines buys $200-million stake in C...   \n",
       "2867  Rival airlines poke fun at United over legging...   \n",
       "3058  United fiasco shows airlines' power over passe...   \n",
       "3064  Facing harsh criticism, airlines can now point...   \n",
       "\n",
       "                                        author       date  \\\n",
       "2769                         Los Angeles Times 2017-03-27   \n",
       "2799                          Associated Press 2017-03-27   \n",
       "2867                         Los Angeles Times 2017-03-30   \n",
       "3058  David Ng, Hugo Martin, Samantha Masunaga 2017-04-11   \n",
       "3064                               Hugo Martin 2017-04-25   \n",
       "\n",
       "                                                content    year  month  \\\n",
       "2769  I\\'m Davan Maharaj, editor-in-chief of the Los...  2017.0    3.0   \n",
       "2799  American Airlines has agreed to pay $200 milli...  2017.0    3.0   \n",
       "2867  United Airlines has taken a heap of criticism ...  2017.0    3.0   \n",
       "3058  Delta, American and United airlines claim the ...  2017.0    4.0   \n",
       "3064  Facing harsh criticism over several recent sca...  2017.0    4.0   \n",
       "\n",
       "            publication  length  \\\n",
       "2769  Los Angeles Times    2195   \n",
       "2799  Los Angeles Times    1140   \n",
       "2867  Los Angeles Times     966   \n",
       "3058  Los Angeles Times    2062   \n",
       "3064  Los Angeles Times    1048   \n",
       "\n",
       "                                               relevant     score  deviation  \n",
       "2769  [The Atlantic)', '-- The United Airlines leggi...  1.000000   0.000000  \n",
       "2799  [American Airlines has agreed to pay $200 mill... -0.562500   0.526634  \n",
       "2867  [United Airlines has taken a heap of criticism...  0.500000   0.500000  \n",
       "3058  [Delta, American and United airlines claim the... -0.700000   0.600000  \n",
       "3064  [As always, competition drives pricing and com... -0.166667   0.849837  "
      ]
     },
     "execution_count": 18,
     "metadata": {},
     "output_type": "execute_result"
    }
   ],
   "source": [
    "news_relevant['score'], news_relevant['deviation'] = zip(*news_relevant['relevant'].map(get_score_fasttext))\n",
    "news_relevant.head(5)"
   ]
  },
  {
   "cell_type": "markdown",
   "metadata": {},
   "source": [
    "### Lemmatize relevant sentences for comparison\n",
    "This is to remove duplicates."
   ]
  },
  {
   "cell_type": "code",
   "execution_count": 19,
   "metadata": {},
   "outputs": [],
   "source": [
    "add_removed_words = {n for n in name.split()}\n",
    "# Include specific words to be removed\n",
    "stopwords = sentencizer.Defaults.stop_words\n",
    "stopwords = stopwords.union(add_removed_words)"
   ]
  },
  {
   "cell_type": "code",
   "execution_count": 20,
   "metadata": {},
   "outputs": [],
   "source": [
    "# Tokenize and lemmatize text\n",
    "def lemmatize(text):\n",
    "    doc = sentencizer(text)\n",
    "    tokens = [str(tok.lemma_).lower() for tok in doc if tok.text not in stopwords \\\n",
    "              and tok.text not in punctuation]\n",
    "    return tokens"
   ]
  },
  {
   "cell_type": "code",
   "execution_count": 21,
   "metadata": {},
   "outputs": [
    {
     "data": {
      "text/html": [
       "<div>\n",
       "<style scoped>\n",
       "    .dataframe tbody tr th:only-of-type {\n",
       "        vertical-align: middle;\n",
       "    }\n",
       "\n",
       "    .dataframe tbody tr th {\n",
       "        vertical-align: top;\n",
       "    }\n",
       "\n",
       "    .dataframe thead th {\n",
       "        text-align: right;\n",
       "    }\n",
       "</style>\n",
       "<table border=\"1\" class=\"dataframe\">\n",
       "  <thead>\n",
       "    <tr style=\"text-align: right;\">\n",
       "      <th></th>\n",
       "      <th>relevant</th>\n",
       "      <th>lemmas</th>\n",
       "    </tr>\n",
       "  </thead>\n",
       "  <tbody>\n",
       "    <tr>\n",
       "      <th>2769</th>\n",
       "      <td>[The Atlantic)', '-- The United Airlines leggi...</td>\n",
       "      <td>the atlantic -- the legging controversy take s...</td>\n",
       "    </tr>\n",
       "    <tr>\n",
       "      <th>2799</th>\n",
       "      <td>[American Airlines has agreed to pay $200 mill...</td>\n",
       "      <td>american agree pay 200 million stake china sou...</td>\n",
       "    </tr>\n",
       "    <tr>\n",
       "      <th>2867</th>\n",
       "      <td>[United Airlines has taken a heap of criticism...</td>\n",
       "      <td>take heap criticism celebrity air traveler dec...</td>\n",
       "    </tr>\n",
       "    <tr>\n",
       "      <th>3058</th>\n",
       "      <td>[Delta, American and United airlines claim the...</td>\n",
       "      <td>delta american airline claim right eject flier...</td>\n",
       "    </tr>\n",
       "    <tr>\n",
       "      <th>3064</th>\n",
       "      <td>[As always, competition drives pricing and com...</td>\n",
       "      <td>as competition drive price competition alive e...</td>\n",
       "    </tr>\n",
       "  </tbody>\n",
       "</table>\n",
       "</div>"
      ],
      "text/plain": [
       "                                               relevant  \\\n",
       "2769  [The Atlantic)', '-- The United Airlines leggi...   \n",
       "2799  [American Airlines has agreed to pay $200 mill...   \n",
       "2867  [United Airlines has taken a heap of criticism...   \n",
       "3058  [Delta, American and United airlines claim the...   \n",
       "3064  [As always, competition drives pricing and com...   \n",
       "\n",
       "                                                 lemmas  \n",
       "2769  the atlantic -- the legging controversy take s...  \n",
       "2799  american agree pay 200 million stake china sou...  \n",
       "2867  take heap criticism celebrity air traveler dec...  \n",
       "3058  delta american airline claim right eject flier...  \n",
       "3064  as competition drive price competition alive e...  "
      ]
     },
     "execution_count": 21,
     "metadata": {},
     "output_type": "execute_result"
    }
   ],
   "source": [
    "news_relevant['lemmas'] = news_relevant['relevant'].str.join(' ').apply(lemmatize).str.join(' ')\n",
    "news_relevant[['relevant', 'lemmas']].head()"
   ]
  },
  {
   "cell_type": "markdown",
   "metadata": {},
   "source": [
    "### Drop duplicates"
   ]
  },
  {
   "cell_type": "code",
   "execution_count": 22,
   "metadata": {},
   "outputs": [
    {
     "data": {
      "text/plain": [
       "245"
      ]
     },
     "execution_count": 22,
     "metadata": {},
     "output_type": "execute_result"
    }
   ],
   "source": [
    "news_relevant = news_relevant.drop_duplicates(subset=['lemmas'])\n",
    "news_relevant.shape[0]"
   ]
  },
  {
   "cell_type": "markdown",
   "metadata": {},
   "source": [
    "#### Positive sentiment group"
   ]
  },
  {
   "cell_type": "code",
   "execution_count": 23,
   "metadata": {},
   "outputs": [
    {
     "name": "stdout",
     "output_type": "stream",
     "text": [
      "Found 40 overall positive articles for United Airlines\n"
     ]
    },
    {
     "data": {
      "text/html": [
       "<div>\n",
       "<style scoped>\n",
       "    .dataframe tbody tr th:only-of-type {\n",
       "        vertical-align: middle;\n",
       "    }\n",
       "\n",
       "    .dataframe tbody tr th {\n",
       "        vertical-align: top;\n",
       "    }\n",
       "\n",
       "    .dataframe thead th {\n",
       "        text-align: right;\n",
       "    }\n",
       "</style>\n",
       "<table border=\"1\" class=\"dataframe\">\n",
       "  <thead>\n",
       "    <tr style=\"text-align: right;\">\n",
       "      <th></th>\n",
       "      <th>title</th>\n",
       "      <th>author</th>\n",
       "      <th>date</th>\n",
       "      <th>content</th>\n",
       "      <th>year</th>\n",
       "      <th>month</th>\n",
       "      <th>publication</th>\n",
       "      <th>length</th>\n",
       "      <th>relevant</th>\n",
       "      <th>score</th>\n",
       "      <th>deviation</th>\n",
       "      <th>lemmas</th>\n",
       "    </tr>\n",
       "  </thead>\n",
       "  <tbody>\n",
       "    <tr>\n",
       "      <th>0</th>\n",
       "      <td>Today: Obamacare Survives the GOP and Trump’s ...</td>\n",
       "      <td>Los Angeles Times</td>\n",
       "      <td>2017-03-27</td>\n",
       "      <td>I\\'m Davan Maharaj, editor-in-chief of the Los...</td>\n",
       "      <td>2017.0</td>\n",
       "      <td>3.0</td>\n",
       "      <td>Los Angeles Times</td>\n",
       "      <td>2195</td>\n",
       "      <td>[The Atlantic)', '-- The United Airlines leggi...</td>\n",
       "      <td>1.0</td>\n",
       "      <td>0.0</td>\n",
       "      <td>the atlantic -- the legging controversy take s...</td>\n",
       "    </tr>\n",
       "    <tr>\n",
       "      <th>1</th>\n",
       "      <td>The extraordinary Simone Biles, the best athle...</td>\n",
       "      <td>Bryan Armen Graham</td>\n",
       "      <td>2016-08-03</td>\n",
       "      <td>The floor of the XL Center is a blur of pint-s...</td>\n",
       "      <td>2016.0</td>\n",
       "      <td>8.0</td>\n",
       "      <td>Guardian</td>\n",
       "      <td>2735</td>\n",
       "      <td>[By contrast, Biles, who signed with Nike last...</td>\n",
       "      <td>1.0</td>\n",
       "      <td>0.0</td>\n",
       "      <td>by contrast biles sign nike year deal hershey ...</td>\n",
       "    </tr>\n",
       "    <tr>\n",
       "      <th>2</th>\n",
       "      <td>Please stop sending me pointless surveys</td>\n",
       "      <td>Sara Stewart</td>\n",
       "      <td>2017-03-10</td>\n",
       "      <td>Congratulations! You’ve been chosen to answer ...</td>\n",
       "      <td>2017.0</td>\n",
       "      <td>3.0</td>\n",
       "      <td>New York Post</td>\n",
       "      <td>606</td>\n",
       "      <td>[Does the sight of a customer satisfaction que...</td>\n",
       "      <td>1.0</td>\n",
       "      <td>0.0</td>\n",
       "      <td>does sight customer satisfaction questionnaire...</td>\n",
       "    </tr>\n",
       "  </tbody>\n",
       "</table>\n",
       "</div>"
      ],
      "text/plain": [
       "                                               title              author  \\\n",
       "0  Today: Obamacare Survives the GOP and Trump’s ...   Los Angeles Times   \n",
       "1  The extraordinary Simone Biles, the best athle...  Bryan Armen Graham   \n",
       "2           Please stop sending me pointless surveys        Sara Stewart   \n",
       "\n",
       "        date                                            content    year  \\\n",
       "0 2017-03-27  I\\'m Davan Maharaj, editor-in-chief of the Los...  2017.0   \n",
       "1 2016-08-03  The floor of the XL Center is a blur of pint-s...  2016.0   \n",
       "2 2017-03-10  Congratulations! You’ve been chosen to answer ...  2017.0   \n",
       "\n",
       "   month        publication  length  \\\n",
       "0    3.0  Los Angeles Times    2195   \n",
       "1    8.0           Guardian    2735   \n",
       "2    3.0      New York Post     606   \n",
       "\n",
       "                                            relevant  score  deviation  \\\n",
       "0  [The Atlantic)', '-- The United Airlines leggi...    1.0        0.0   \n",
       "1  [By contrast, Biles, who signed with Nike last...    1.0        0.0   \n",
       "2  [Does the sight of a customer satisfaction que...    1.0        0.0   \n",
       "\n",
       "                                              lemmas  \n",
       "0  the atlantic -- the legging controversy take s...  \n",
       "1  by contrast biles sign nike year deal hershey ...  \n",
       "2  does sight customer satisfaction questionnaire...  "
      ]
     },
     "execution_count": 23,
     "metadata": {},
     "output_type": "execute_result"
    }
   ],
   "source": [
    "pos = news_relevant[news_relevant['score'] > 0.0].sort_values(by=['score'], ascending=False).reset_index(drop=True)\n",
    "print(\"Found {} overall positive articles for {}\".format(pos.shape[0], name))\n",
    "pos.head(3)"
   ]
  },
  {
   "cell_type": "markdown",
   "metadata": {},
   "source": [
    "#### Write positive results"
   ]
  },
  {
   "cell_type": "code",
   "execution_count": 24,
   "metadata": {},
   "outputs": [],
   "source": [
    "if write_:\n",
    "    out_filename = '_'.join(name.split()).lower() + '_pos.csv'\n",
    "    out_path = Path('./') / \"results/fasttext\" / out_filename\n",
    "    pos.sort_values(by='publication')[['publication', 'title', 'date', 'relevant', 'score', 'deviation']] \\\n",
    "                    .to_csv(out_path, index=False, header=True)"
   ]
  },
  {
   "cell_type": "markdown",
   "metadata": {},
   "source": [
    "#### Negative sentiment group"
   ]
  },
  {
   "cell_type": "code",
   "execution_count": 25,
   "metadata": {},
   "outputs": [
    {
     "name": "stdout",
     "output_type": "stream",
     "text": [
      "Found 190 overall negative articles for United Airlines\n"
     ]
    },
    {
     "data": {
      "text/html": [
       "<div>\n",
       "<style scoped>\n",
       "    .dataframe tbody tr th:only-of-type {\n",
       "        vertical-align: middle;\n",
       "    }\n",
       "\n",
       "    .dataframe tbody tr th {\n",
       "        vertical-align: top;\n",
       "    }\n",
       "\n",
       "    .dataframe thead th {\n",
       "        text-align: right;\n",
       "    }\n",
       "</style>\n",
       "<table border=\"1\" class=\"dataframe\">\n",
       "  <thead>\n",
       "    <tr style=\"text-align: right;\">\n",
       "      <th></th>\n",
       "      <th>title</th>\n",
       "      <th>author</th>\n",
       "      <th>date</th>\n",
       "      <th>content</th>\n",
       "      <th>year</th>\n",
       "      <th>month</th>\n",
       "      <th>publication</th>\n",
       "      <th>length</th>\n",
       "      <th>relevant</th>\n",
       "      <th>score</th>\n",
       "      <th>deviation</th>\n",
       "      <th>lemmas</th>\n",
       "    </tr>\n",
       "  </thead>\n",
       "  <tbody>\n",
       "    <tr>\n",
       "      <th>0</th>\n",
       "      <td>Actress Carrie Fisher suffers medical emergenc...</td>\n",
       "      <td>Steve Gorman and Alex Dobuzinskis</td>\n",
       "      <td>2016-12-24</td>\n",
       "      <td>Hollywood actress and writer Carrie Fisher, b...</td>\n",
       "      <td>2016.0</td>\n",
       "      <td>12.0</td>\n",
       "      <td>Reuters</td>\n",
       "      <td>915</td>\n",
       "      <td>[United Airlines issued a statement saying tha...</td>\n",
       "      <td>-1.0</td>\n",
       "      <td>0.0</td>\n",
       "      <td>issue statement say flight 935 london los ange...</td>\n",
       "    </tr>\n",
       "    <tr>\n",
       "      <th>1</th>\n",
       "      <td>United responds after shocking video shows doc...</td>\n",
       "      <td>Benjamin Zhang</td>\n",
       "      <td>2017-04-11</td>\n",
       "      <td>['\\n  A passenger was forcibly removed from a ...</td>\n",
       "      <td>2017.0</td>\n",
       "      <td>4.0</td>\n",
       "      <td>Business Insider</td>\n",
       "      <td>380</td>\n",
       "      <td>[United airlines overbooked the flight., unite...</td>\n",
       "      <td>-1.0</td>\n",
       "      <td>0.0</td>\n",
       "      <td>airline overbook flight unitedairways \\n   in ...</td>\n",
       "    </tr>\n",
       "    <tr>\n",
       "      <th>2</th>\n",
       "      <td>Emirates just launched a new flight to New Yor...</td>\n",
       "      <td>Benjamin Zhang</td>\n",
       "      <td>2017-01-26</td>\n",
       "      <td>['\\n\\n', '\\n  Get ready. You will soon be able...</td>\n",
       "      <td>2017.0</td>\n",
       "      <td>1.0</td>\n",
       "      <td>Business Insider</td>\n",
       "      <td>605</td>\n",
       "      <td>[Currently, Delta and United only operate seas...</td>\n",
       "      <td>-1.0</td>\n",
       "      <td>0.0</td>\n",
       "      <td>currently delta operate seasonal\\n   service g...</td>\n",
       "    </tr>\n",
       "  </tbody>\n",
       "</table>\n",
       "</div>"
      ],
      "text/plain": [
       "                                               title  \\\n",
       "0  Actress Carrie Fisher suffers medical emergenc...   \n",
       "1  United responds after shocking video shows doc...   \n",
       "2  Emirates just launched a new flight to New Yor...   \n",
       "\n",
       "                              author       date  \\\n",
       "0  Steve Gorman and Alex Dobuzinskis 2016-12-24   \n",
       "1                     Benjamin Zhang 2017-04-11   \n",
       "2                     Benjamin Zhang 2017-01-26   \n",
       "\n",
       "                                             content    year  month  \\\n",
       "0   Hollywood actress and writer Carrie Fisher, b...  2016.0   12.0   \n",
       "1  ['\\n  A passenger was forcibly removed from a ...  2017.0    4.0   \n",
       "2  ['\\n\\n', '\\n  Get ready. You will soon be able...  2017.0    1.0   \n",
       "\n",
       "        publication  length  \\\n",
       "0           Reuters     915   \n",
       "1  Business Insider     380   \n",
       "2  Business Insider     605   \n",
       "\n",
       "                                            relevant  score  deviation  \\\n",
       "0  [United Airlines issued a statement saying tha...   -1.0        0.0   \n",
       "1  [United airlines overbooked the flight., unite...   -1.0        0.0   \n",
       "2  [Currently, Delta and United only operate seas...   -1.0        0.0   \n",
       "\n",
       "                                              lemmas  \n",
       "0  issue statement say flight 935 london los ange...  \n",
       "1  airline overbook flight unitedairways \\n   in ...  \n",
       "2  currently delta operate seasonal\\n   service g...  "
      ]
     },
     "execution_count": 25,
     "metadata": {},
     "output_type": "execute_result"
    }
   ],
   "source": [
    "neg = news_relevant[news_relevant['score'] < 0.0].sort_values(by=['score']).reset_index(drop=True)\n",
    "print(\"Found {} overall negative articles for {}\".format(neg.shape[0], name))\n",
    "neg.head(3)"
   ]
  },
  {
   "cell_type": "markdown",
   "metadata": {},
   "source": [
    "#### Write negative results"
   ]
  },
  {
   "cell_type": "code",
   "execution_count": 26,
   "metadata": {},
   "outputs": [],
   "source": [
    "if write_:\n",
    "    out_filename = '_'.join(name.split()).lower() + '_neg.csv'\n",
    "    out_path = Path('./') / \"results/fasttext\" / out_filename\n",
    "    neg.sort_values(by='publication')[['publication', 'title', 'date', 'relevant', 'score', 'deviation']] \\\n",
    "                    .to_csv(out_path, index=False, header=True)"
   ]
  },
  {
   "cell_type": "code",
   "execution_count": 27,
   "metadata": {},
   "outputs": [
    {
     "name": "stdout",
     "output_type": "stream",
     "text": [
      "Found 15 overall mixed articles for United Airlines\n"
     ]
    },
    {
     "data": {
      "text/html": [
       "<div>\n",
       "<style scoped>\n",
       "    .dataframe tbody tr th:only-of-type {\n",
       "        vertical-align: middle;\n",
       "    }\n",
       "\n",
       "    .dataframe tbody tr th {\n",
       "        vertical-align: top;\n",
       "    }\n",
       "\n",
       "    .dataframe thead th {\n",
       "        text-align: right;\n",
       "    }\n",
       "</style>\n",
       "<table border=\"1\" class=\"dataframe\">\n",
       "  <thead>\n",
       "    <tr style=\"text-align: right;\">\n",
       "      <th></th>\n",
       "      <th>title</th>\n",
       "      <th>author</th>\n",
       "      <th>date</th>\n",
       "      <th>content</th>\n",
       "      <th>year</th>\n",
       "      <th>month</th>\n",
       "      <th>publication</th>\n",
       "      <th>length</th>\n",
       "      <th>relevant</th>\n",
       "      <th>score</th>\n",
       "      <th>deviation</th>\n",
       "      <th>lemmas</th>\n",
       "    </tr>\n",
       "  </thead>\n",
       "  <tbody>\n",
       "    <tr>\n",
       "      <th>0</th>\n",
       "      <td>Syria, Egypt, Korean Peninsula: Your Morning B...</td>\n",
       "      <td>Charles McDermid</td>\n",
       "      <td>2017-04-12</td>\n",
       "      <td>Good morning.  Here’s what you need to know: •...</td>\n",
       "      <td>2017.0</td>\n",
       "      <td>4.0</td>\n",
       "      <td>New York Times</td>\n",
       "      <td>1204</td>\n",
       "      <td>[Here’s what you need to know: • Secretary of ...</td>\n",
       "      <td>0.0</td>\n",
       "      <td>1.000000</td>\n",
       "      <td>here ’s need know • secretary state rex tiller...</td>\n",
       "    </tr>\n",
       "    <tr>\n",
       "      <th>1</th>\n",
       "      <td>Hackers Trawl User Data in Hopes a Small Targe...</td>\n",
       "      <td>Nicole Perlroth</td>\n",
       "      <td>2017-02-24</td>\n",
       "      <td>SAN FRANCISCO — In disclosing that at least 50...</td>\n",
       "      <td>2017.0</td>\n",
       "      <td>2.0</td>\n",
       "      <td>New York Times</td>\n",
       "      <td>1362</td>\n",
       "      <td>[Hackers amassed a vast collection of security...</td>\n",
       "      <td>0.0</td>\n",
       "      <td>1.000000</td>\n",
       "      <td>hackers amass vast collection security clearan...</td>\n",
       "    </tr>\n",
       "    <tr>\n",
       "      <th>2</th>\n",
       "      <td>Smaller Bathrooms on Planes Pose Challenges fo...</td>\n",
       "      <td>Dinah Eng</td>\n",
       "      <td>2017-04-14</td>\n",
       "      <td>Smaller lavatories are helping airlines to add...</td>\n",
       "      <td>2017.0</td>\n",
       "      <td>4.0</td>\n",
       "      <td>New York Times</td>\n",
       "      <td>1546</td>\n",
       "      <td>[The continuing installation of smaller and re...</td>\n",
       "      <td>0.0</td>\n",
       "      <td>0.661438</td>\n",
       "      <td>the continue installation small reconfigure ba...</td>\n",
       "    </tr>\n",
       "  </tbody>\n",
       "</table>\n",
       "</div>"
      ],
      "text/plain": [
       "                                               title            author  \\\n",
       "0  Syria, Egypt, Korean Peninsula: Your Morning B...  Charles McDermid   \n",
       "1  Hackers Trawl User Data in Hopes a Small Targe...   Nicole Perlroth   \n",
       "2  Smaller Bathrooms on Planes Pose Challenges fo...         Dinah Eng   \n",
       "\n",
       "        date                                            content    year  \\\n",
       "0 2017-04-12  Good morning.  Here’s what you need to know: •...  2017.0   \n",
       "1 2017-02-24  SAN FRANCISCO — In disclosing that at least 50...  2017.0   \n",
       "2 2017-04-14  Smaller lavatories are helping airlines to add...  2017.0   \n",
       "\n",
       "   month     publication  length  \\\n",
       "0    4.0  New York Times    1204   \n",
       "1    2.0  New York Times    1362   \n",
       "2    4.0  New York Times    1546   \n",
       "\n",
       "                                            relevant  score  deviation  \\\n",
       "0  [Here’s what you need to know: • Secretary of ...    0.0   1.000000   \n",
       "1  [Hackers amassed a vast collection of security...    0.0   1.000000   \n",
       "2  [The continuing installation of smaller and re...    0.0   0.661438   \n",
       "\n",
       "                                              lemmas  \n",
       "0  here ’s need know • secretary state rex tiller...  \n",
       "1  hackers amass vast collection security clearan...  \n",
       "2  the continue installation small reconfigure ba...  "
      ]
     },
     "execution_count": 27,
     "metadata": {},
     "output_type": "execute_result"
    }
   ],
   "source": [
    "mixed = news_relevant[news_relevant['score'] == 0.0].reset_index(drop=True)\n",
    "print(\"Found {} overall mixed articles for {}\".format(mixed.shape[0], name))\n",
    "mixed.head(3)"
   ]
  },
  {
   "cell_type": "markdown",
   "metadata": {},
   "source": [
    "### Highlight relevant named entities using ```spaCy```\n",
    "Optional step to observe the key named entities in the positive/negative or mixed sentiment articles. "
   ]
  },
  {
   "cell_type": "code",
   "execution_count": 28,
   "metadata": {},
   "outputs": [],
   "source": [
    "from IPython.display import Markdown, display\n",
    "options = {'ents': ['PERSON', 'ORG', 'GPE', 'EVENT'], \n",
    "           'colors': {'PERSON': '#9fafe5', 'ORG': '#d59b9b', 'GPE':'#81cba6'}}\n",
    "def printmd(string):\n",
    "    display(Markdown(string))\n",
    "    \n",
    "def display_entities(nlp, df, max_entries=5):\n",
    "    # Set relevant named entities that we want to extract\n",
    "    for idx, sent in enumerate(df['relevant'].str.join(' ')[:max_entries]):\n",
    "        doc = nlp(sent)\n",
    "        printmd('**{}**'.format(df['title'][idx]))\n",
    "        displacy.render(doc, style='ent', jupyter=True, options=options)\n",
    "        print('\\n')\n",
    "        \n",
    "def vis(pos, neg, mixed, spacy_lang='en_core_web_md'):\n",
    "    nlp = spacy.load(spacy_lang)\n",
    "    # Visualize positive and negativ groups using markdown\n",
    "    printmd('<font color=green>**Positive**</font>')\n",
    "    display_entities(nlp, pos)\n",
    "    printmd('<font color=red>**Negative**</font>')\n",
    "    display_entities(nlp, neg)\n",
    "    printmd('<font color=yellow>**Mixed**</font>')\n",
    "    display_entities(nlp, mixed)"
   ]
  },
  {
   "cell_type": "code",
   "execution_count": 29,
   "metadata": {},
   "outputs": [],
   "source": [
    "# vis(pos, neg, mixed, spacy_lang='en_core_web_md')"
   ]
  },
  {
   "cell_type": "markdown",
   "metadata": {},
   "source": [
    "## Visualization\n",
    "\n",
    "### Plot sentiment score and magnitude versus time of publishing of the article\n",
    "In this section, sentiment \"score\" is the median of all polarity values (positive or negative) obtained per-sentence of the article from TextBlob. Sentiment \"magnitude\" is the standard deviation of sentiment among the per-sentence polarity values. "
   ]
  },
  {
   "cell_type": "code",
   "execution_count": 30,
   "metadata": {},
   "outputs": [],
   "source": [
    "news_avg_score = news_relevant.groupby('date')['score'].mean()\n",
    "news_avg_dev = news_relevant.groupby('date')['deviation'].mean()"
   ]
  },
  {
   "cell_type": "markdown",
   "metadata": {},
   "source": [
    "#### Get article count per day"
   ]
  },
  {
   "cell_type": "code",
   "execution_count": 31,
   "metadata": {},
   "outputs": [],
   "source": [
    "news_count = news_relevant.groupby(['date']).count()['title']"
   ]
  },
  {
   "cell_type": "markdown",
   "metadata": {},
   "source": [
    "#### Get peak polar article per day (min negative or max positive score)"
   ]
  },
  {
   "cell_type": "code",
   "execution_count": 32,
   "metadata": {},
   "outputs": [
    {
     "data": {
      "text/html": [
       "<div>\n",
       "<style scoped>\n",
       "    .dataframe tbody tr th:only-of-type {\n",
       "        vertical-align: middle;\n",
       "    }\n",
       "\n",
       "    .dataframe tbody tr th {\n",
       "        vertical-align: top;\n",
       "    }\n",
       "\n",
       "    .dataframe thead th {\n",
       "        text-align: right;\n",
       "    }\n",
       "</style>\n",
       "<table border=\"1\" class=\"dataframe\">\n",
       "  <thead>\n",
       "    <tr style=\"text-align: right;\">\n",
       "      <th></th>\n",
       "      <th>date</th>\n",
       "      <th>score</th>\n",
       "      <th>abs</th>\n",
       "    </tr>\n",
       "  </thead>\n",
       "  <tbody>\n",
       "    <tr>\n",
       "      <th>2769</th>\n",
       "      <td>2017-03-27</td>\n",
       "      <td>1.0000</td>\n",
       "      <td>1.0000</td>\n",
       "    </tr>\n",
       "    <tr>\n",
       "      <th>2799</th>\n",
       "      <td>2017-03-27</td>\n",
       "      <td>-0.5625</td>\n",
       "      <td>0.5625</td>\n",
       "    </tr>\n",
       "    <tr>\n",
       "      <th>2867</th>\n",
       "      <td>2017-03-30</td>\n",
       "      <td>0.5000</td>\n",
       "      <td>0.5000</td>\n",
       "    </tr>\n",
       "  </tbody>\n",
       "</table>\n",
       "</div>"
      ],
      "text/plain": [
       "           date   score     abs\n",
       "2769 2017-03-27  1.0000  1.0000\n",
       "2799 2017-03-27 -0.5625  0.5625\n",
       "2867 2017-03-30  0.5000  0.5000"
      ]
     },
     "execution_count": 32,
     "metadata": {},
     "output_type": "execute_result"
    }
   ],
   "source": [
    "news_relevant['abs'] = news_relevant['score'].abs()\n",
    "news_relevant[['date', 'score', 'abs']].head(3)"
   ]
  },
  {
   "cell_type": "code",
   "execution_count": 33,
   "metadata": {},
   "outputs": [
    {
     "data": {
      "text/html": [
       "<div>\n",
       "<style scoped>\n",
       "    .dataframe tbody tr th:only-of-type {\n",
       "        vertical-align: middle;\n",
       "    }\n",
       "\n",
       "    .dataframe tbody tr th {\n",
       "        vertical-align: top;\n",
       "    }\n",
       "\n",
       "    .dataframe thead th {\n",
       "        text-align: right;\n",
       "    }\n",
       "</style>\n",
       "<table border=\"1\" class=\"dataframe\">\n",
       "  <thead>\n",
       "    <tr style=\"text-align: right;\">\n",
       "      <th></th>\n",
       "      <th>title</th>\n",
       "      <th>author</th>\n",
       "      <th>date</th>\n",
       "      <th>content</th>\n",
       "      <th>year</th>\n",
       "      <th>month</th>\n",
       "      <th>publication</th>\n",
       "      <th>length</th>\n",
       "      <th>relevant</th>\n",
       "      <th>score</th>\n",
       "      <th>deviation</th>\n",
       "      <th>lemmas</th>\n",
       "      <th>abs</th>\n",
       "    </tr>\n",
       "  </thead>\n",
       "  <tbody>\n",
       "  </tbody>\n",
       "</table>\n",
       "</div>"
      ],
      "text/plain": [
       "Empty DataFrame\n",
       "Columns: [title, author, date, content, year, month, publication, length, relevant, score, deviation, lemmas, abs]\n",
       "Index: []"
      ]
     },
     "execution_count": 33,
     "metadata": {},
     "output_type": "execute_result"
    }
   ],
   "source": [
    "news_relevant[(news_relevant['date'] > '2016-08-14') & (news_relevant['date'] < '2016-08-17')].head(10)"
   ]
  },
  {
   "cell_type": "code",
   "execution_count": 34,
   "metadata": {},
   "outputs": [
    {
     "name": "stdout",
     "output_type": "stream",
     "text": [
      "133\n"
     ]
    }
   ],
   "source": [
    "news_peak_polar = news_relevant.groupby('date').max()[['title', 'publication', 'relevant']]\n",
    "# Extract just the first 3 relevant sentences from the article and convert to single string\n",
    "news_peak_polar['relevant'] = news_peak_polar['relevant'].apply(lambda x: x[:3]).str.join(' ')\n",
    "print(news_peak_polar.shape[0])"
   ]
  },
  {
   "cell_type": "markdown",
   "metadata": {},
   "source": [
    "#### Combine scores, magnitudes and article counts per day"
   ]
  },
  {
   "cell_type": "code",
   "execution_count": 35,
   "metadata": {},
   "outputs": [
    {
     "data": {
      "text/html": [
       "<div>\n",
       "<style scoped>\n",
       "    .dataframe tbody tr th:only-of-type {\n",
       "        vertical-align: middle;\n",
       "    }\n",
       "\n",
       "    .dataframe tbody tr th {\n",
       "        vertical-align: top;\n",
       "    }\n",
       "\n",
       "    .dataframe thead th {\n",
       "        text-align: right;\n",
       "    }\n",
       "</style>\n",
       "<table border=\"1\" class=\"dataframe\">\n",
       "  <thead>\n",
       "    <tr style=\"text-align: right;\">\n",
       "      <th></th>\n",
       "      <th>mean_score</th>\n",
       "      <th>mean_dev</th>\n",
       "      <th>count</th>\n",
       "    </tr>\n",
       "    <tr>\n",
       "      <th>date</th>\n",
       "      <th></th>\n",
       "      <th></th>\n",
       "      <th></th>\n",
       "    </tr>\n",
       "  </thead>\n",
       "  <tbody>\n",
       "    <tr>\n",
       "      <th>2013-07-27</th>\n",
       "      <td>-0.107143</td>\n",
       "      <td>0.874575</td>\n",
       "      <td>2</td>\n",
       "    </tr>\n",
       "    <tr>\n",
       "      <th>2013-08-20</th>\n",
       "      <td>-1.000000</td>\n",
       "      <td>0.000000</td>\n",
       "      <td>1</td>\n",
       "    </tr>\n",
       "    <tr>\n",
       "      <th>2014-10-12</th>\n",
       "      <td>-1.000000</td>\n",
       "      <td>0.000000</td>\n",
       "      <td>1</td>\n",
       "    </tr>\n",
       "    <tr>\n",
       "      <th>2014-11-26</th>\n",
       "      <td>0.500000</td>\n",
       "      <td>0.707107</td>\n",
       "      <td>1</td>\n",
       "    </tr>\n",
       "    <tr>\n",
       "      <th>2015-01-25</th>\n",
       "      <td>-1.000000</td>\n",
       "      <td>0.000000</td>\n",
       "      <td>1</td>\n",
       "    </tr>\n",
       "  </tbody>\n",
       "</table>\n",
       "</div>"
      ],
      "text/plain": [
       "            mean_score  mean_dev  count\n",
       "date                                   \n",
       "2013-07-27   -0.107143  0.874575      2\n",
       "2013-08-20   -1.000000  0.000000      1\n",
       "2014-10-12   -1.000000  0.000000      1\n",
       "2014-11-26    0.500000  0.707107      1\n",
       "2015-01-25   -1.000000  0.000000      1"
      ]
     },
     "execution_count": 35,
     "metadata": {},
     "output_type": "execute_result"
    }
   ],
   "source": [
    "scores = pd.concat((news_avg_score, news_avg_dev, news_count), axis=1).sort_values(by=['date'])\n",
    "scores.columns = ['mean_score', 'mean_dev', 'count']\n",
    "scores.head()"
   ]
  },
  {
   "cell_type": "markdown",
   "metadata": {},
   "source": [
    "#### Concatenate scores/counts DataFrame with most polar news content for that day"
   ]
  },
  {
   "cell_type": "code",
   "execution_count": 36,
   "metadata": {},
   "outputs": [
    {
     "data": {
      "text/html": [
       "<div>\n",
       "<style scoped>\n",
       "    .dataframe tbody tr th:only-of-type {\n",
       "        vertical-align: middle;\n",
       "    }\n",
       "\n",
       "    .dataframe tbody tr th {\n",
       "        vertical-align: top;\n",
       "    }\n",
       "\n",
       "    .dataframe thead th {\n",
       "        text-align: right;\n",
       "    }\n",
       "</style>\n",
       "<table border=\"1\" class=\"dataframe\">\n",
       "  <thead>\n",
       "    <tr style=\"text-align: right;\">\n",
       "      <th></th>\n",
       "      <th>title</th>\n",
       "      <th>publication</th>\n",
       "      <th>relevant</th>\n",
       "      <th>mean_score</th>\n",
       "      <th>mean_dev</th>\n",
       "      <th>count</th>\n",
       "    </tr>\n",
       "    <tr>\n",
       "      <th>date</th>\n",
       "      <th></th>\n",
       "      <th></th>\n",
       "      <th></th>\n",
       "      <th></th>\n",
       "      <th></th>\n",
       "      <th></th>\n",
       "    </tr>\n",
       "  </thead>\n",
       "  <tbody>\n",
       "    <tr>\n",
       "      <th>2013-07-27</th>\n",
       "      <td>September 11, 2001: Background and timeline of...</td>\n",
       "      <td>CNN</td>\n",
       "      <td>The Victims:At the World Trade Center (WTC) si...</td>\n",
       "      <td>-0.107143</td>\n",
       "      <td>0.874575</td>\n",
       "      <td>2</td>\n",
       "    </tr>\n",
       "    <tr>\n",
       "      <th>2013-08-20</th>\n",
       "      <td>American Politician Plane Fatalities Fast Facts</td>\n",
       "      <td>CNN</td>\n",
       "      <td>Collins is killed when a United Airlines jetli...</td>\n",
       "      <td>-1.000000</td>\n",
       "      <td>0.000000</td>\n",
       "      <td>1</td>\n",
       "    </tr>\n",
       "    <tr>\n",
       "      <th>2014-10-12</th>\n",
       "      <td>Ebola safeguards are being taken, Southland he...</td>\n",
       "      <td>Los Angeles Times</td>\n",
       "      <td>A female passenger aboard United Airlines Flig...</td>\n",
       "      <td>-1.000000</td>\n",
       "      <td>0.000000</td>\n",
       "      <td>1</td>\n",
       "    </tr>\n",
       "    <tr>\n",
       "      <th>2014-11-26</th>\n",
       "      <td>Airlines vie for elite L.A.-to-N.Y. fliers wit...</td>\n",
       "      <td>Los Angeles Times</td>\n",
       "      <td>Although airlines are reducing legroom and add...</td>\n",
       "      <td>0.500000</td>\n",
       "      <td>0.707107</td>\n",
       "      <td>1</td>\n",
       "    </tr>\n",
       "    <tr>\n",
       "      <th>2015-01-25</th>\n",
       "      <td>Monster snowstorm expected to slam into the No...</td>\n",
       "      <td>CNN</td>\n",
       "      <td>Airlines began canceling flights by the hundre...</td>\n",
       "      <td>-1.000000</td>\n",
       "      <td>0.000000</td>\n",
       "      <td>1</td>\n",
       "    </tr>\n",
       "  </tbody>\n",
       "</table>\n",
       "</div>"
      ],
      "text/plain": [
       "                                                        title  \\\n",
       "date                                                            \n",
       "2013-07-27  September 11, 2001: Background and timeline of...   \n",
       "2013-08-20    American Politician Plane Fatalities Fast Facts   \n",
       "2014-10-12  Ebola safeguards are being taken, Southland he...   \n",
       "2014-11-26  Airlines vie for elite L.A.-to-N.Y. fliers wit...   \n",
       "2015-01-25  Monster snowstorm expected to slam into the No...   \n",
       "\n",
       "                  publication  \\\n",
       "date                            \n",
       "2013-07-27                CNN   \n",
       "2013-08-20                CNN   \n",
       "2014-10-12  Los Angeles Times   \n",
       "2014-11-26  Los Angeles Times   \n",
       "2015-01-25                CNN   \n",
       "\n",
       "                                                     relevant  mean_score  \\\n",
       "date                                                                        \n",
       "2013-07-27  The Victims:At the World Trade Center (WTC) si...   -0.107143   \n",
       "2013-08-20  Collins is killed when a United Airlines jetli...   -1.000000   \n",
       "2014-10-12  A female passenger aboard United Airlines Flig...   -1.000000   \n",
       "2014-11-26  Although airlines are reducing legroom and add...    0.500000   \n",
       "2015-01-25  Airlines began canceling flights by the hundre...   -1.000000   \n",
       "\n",
       "            mean_dev  count  \n",
       "date                         \n",
       "2013-07-27  0.874575      2  \n",
       "2013-08-20  0.000000      1  \n",
       "2014-10-12  0.000000      1  \n",
       "2014-11-26  0.707107      1  \n",
       "2015-01-25  0.000000      1  "
      ]
     },
     "execution_count": 36,
     "metadata": {},
     "output_type": "execute_result"
    }
   ],
   "source": [
    "data = pd.concat((news_peak_polar, scores), axis=1).sort_index()\n",
    "data.head()"
   ]
  },
  {
   "cell_type": "markdown",
   "metadata": {},
   "source": [
    "#### Reindex data to show daily scores\n",
    "Since we have really sparse data (news articles about the target are not written every day, we reindex the time series and fill missing values with zeros. "
   ]
  },
  {
   "cell_type": "code",
   "execution_count": 37,
   "metadata": {},
   "outputs": [],
   "source": [
    "idx = pd.date_range('1/1/2014', '7/5/2017')\n",
    "daily = data.reindex(idx, fill_value=0.0)"
   ]
  },
  {
   "cell_type": "code",
   "execution_count": 38,
   "metadata": {
    "scrolled": false
   },
   "outputs": [
    {
     "data": {
      "image/png": "[encoded data removed]",
      "text/plain": [
       "<Figure size 1080x576 with 2 Axes>"
      ]
     },
     "metadata": {},
     "output_type": "display_data"
    }
   ],
   "source": [
    "fig, (ax1, ax2) = plt.subplots(2, 1, figsize=(15, 8))\n",
    "ax1.fill_between(daily.index, daily['mean_score'], step='mid', color='black', alpha=0.6, linewidth=4);\n",
    "ax1.set_ylabel('Mean Score');\n",
    "ax1.set_title('Sentiment scores and deviations with time for \"{}\"'.format(name), size=15);\n",
    "ax2.fill_between(daily.index, daily['mean_dev'], step='mid', color='black', alpha=0.6, linewidth=4);\n",
    "ax2.set_ylabel('Mean Deviation');\n",
    "ax2.set_xlabel('Date');\n",
    "# plt.savefig(\"{}_scores\".format('_'.join(name.split()).lower()))"
   ]
  },
  {
   "cell_type": "markdown",
   "metadata": {},
   "source": [
    "#### Make calendar plot to show periods of activity"
   ]
  },
  {
   "cell_type": "code",
   "execution_count": 45,
   "metadata": {},
   "outputs": [
    {
     "data": {
      "image/png": "[encoded data removed]",
      "text/plain": [
       "<Figure size 1080x720 with 5 Axes>"
      ]
     },
     "metadata": {},
     "output_type": "display_data"
    }
   ],
   "source": [
    "fig, axes = calmap.calendarplot(data['mean_score'],\n",
    "                    vmin = -1.0,\n",
    "                    vmax=1.0,\n",
    "                    daylabels='MTWTFSS',\n",
    "                    dayticks=[0, 2, 4, 6],\n",
    "                    fig_kws=dict(figsize=(15, 10)),\n",
    "                    linewidth=1,\n",
    "                    fillcolor='lightgrey',\n",
    "                    cmap='coolwarm_r',\n",
    "                   );\n",
    "fig.suptitle(\"Calendar map of aggregated sentiment for {}\".format(name), fontsize=18);\n",
    "fig.tight_layout(rect=[0, 0.03, 1, 0.95])\n",
    "\n",
    "if write_:\n",
    "    out_filename = '_'.join(name.split()).lower()\n",
    "    plt.savefig('calmap_{}.png'.format(out_filename))"
   ]
  },
  {
   "cell_type": "markdown",
   "metadata": {},
   "source": [
    "#### Get counts of positive and negative mentions based on Publication"
   ]
  },
  {
   "cell_type": "code",
   "execution_count": 41,
   "metadata": {
    "scrolled": false
   },
   "outputs": [
    {
     "data": {
      "text/html": [
       "<div>\n",
       "<style scoped>\n",
       "    .dataframe tbody tr th:only-of-type {\n",
       "        vertical-align: middle;\n",
       "    }\n",
       "\n",
       "    .dataframe tbody tr th {\n",
       "        vertical-align: top;\n",
       "    }\n",
       "\n",
       "    .dataframe thead th {\n",
       "        text-align: right;\n",
       "    }\n",
       "</style>\n",
       "<table border=\"1\" class=\"dataframe\">\n",
       "  <thead>\n",
       "    <tr style=\"text-align: right;\">\n",
       "      <th></th>\n",
       "      <th>Negative</th>\n",
       "      <th>Positive</th>\n",
       "    </tr>\n",
       "    <tr>\n",
       "      <th>publication</th>\n",
       "      <th></th>\n",
       "      <th></th>\n",
       "    </tr>\n",
       "  </thead>\n",
       "  <tbody>\n",
       "    <tr>\n",
       "      <th>Talking Points Memo</th>\n",
       "      <td>0.0</td>\n",
       "      <td>1.0</td>\n",
       "    </tr>\n",
       "    <tr>\n",
       "      <th>Fox News</th>\n",
       "      <td>1.0</td>\n",
       "      <td>2.0</td>\n",
       "    </tr>\n",
       "    <tr>\n",
       "      <th>National Review</th>\n",
       "      <td>2.0</td>\n",
       "      <td>2.0</td>\n",
       "    </tr>\n",
       "    <tr>\n",
       "      <th>Atlantic</th>\n",
       "      <td>3.0</td>\n",
       "      <td>1.0</td>\n",
       "    </tr>\n",
       "    <tr>\n",
       "      <th>Buzzfeed News</th>\n",
       "      <td>6.0</td>\n",
       "      <td>2.0</td>\n",
       "    </tr>\n",
       "    <tr>\n",
       "      <th>Breitbart</th>\n",
       "      <td>10.0</td>\n",
       "      <td>2.0</td>\n",
       "    </tr>\n",
       "    <tr>\n",
       "      <th>Los Angeles Times</th>\n",
       "      <td>13.0</td>\n",
       "      <td>5.0</td>\n",
       "    </tr>\n",
       "    <tr>\n",
       "      <th>Guardian</th>\n",
       "      <td>17.0</td>\n",
       "      <td>2.0</td>\n",
       "    </tr>\n",
       "    <tr>\n",
       "      <th>New York Times</th>\n",
       "      <td>17.0</td>\n",
       "      <td>7.0</td>\n",
       "    </tr>\n",
       "    <tr>\n",
       "      <th>NPR</th>\n",
       "      <td>19.0</td>\n",
       "      <td>2.0</td>\n",
       "    </tr>\n",
       "    <tr>\n",
       "      <th>Business Insider</th>\n",
       "      <td>22.0</td>\n",
       "      <td>5.0</td>\n",
       "    </tr>\n",
       "    <tr>\n",
       "      <th>Reuters</th>\n",
       "      <td>25.0</td>\n",
       "      <td>5.0</td>\n",
       "    </tr>\n",
       "    <tr>\n",
       "      <th>New York Post</th>\n",
       "      <td>26.0</td>\n",
       "      <td>13.0</td>\n",
       "    </tr>\n",
       "    <tr>\n",
       "      <th>CNN</th>\n",
       "      <td>29.0</td>\n",
       "      <td>6.0</td>\n",
       "    </tr>\n",
       "  </tbody>\n",
       "</table>\n",
       "</div>"
      ],
      "text/plain": [
       "                     Negative  Positive\n",
       "publication                            \n",
       "Talking Points Memo       0.0       1.0\n",
       "Fox News                  1.0       2.0\n",
       "National Review           2.0       2.0\n",
       "Atlantic                  3.0       1.0\n",
       "Buzzfeed News             6.0       2.0\n",
       "Breitbart                10.0       2.0\n",
       "Los Angeles Times        13.0       5.0\n",
       "Guardian                 17.0       2.0\n",
       "New York Times           17.0       7.0\n",
       "NPR                      19.0       2.0\n",
       "Business Insider         22.0       5.0\n",
       "Reuters                  25.0       5.0\n",
       "New York Post            26.0      13.0\n",
       "CNN                      29.0       6.0"
      ]
     },
     "execution_count": 41,
     "metadata": {},
     "output_type": "execute_result"
    }
   ],
   "source": [
    "grouped = news_relevant.groupby('publication').apply(lambda x: x['score'] >= 0.0)\n",
    "grouped = grouped.groupby('publication').value_counts().to_frame()\n",
    "grouped = grouped.unstack().fillna(0.0)\n",
    "grouped.columns = ['Negative', 'Positive']\n",
    "grouped = grouped.sort_values(by='Negative')\n",
    "grouped"
   ]
  },
  {
   "cell_type": "markdown",
   "metadata": {},
   "source": [
    "#### Plot article breakdown"
   ]
  },
  {
   "cell_type": "code",
   "execution_count": 42,
   "metadata": {
    "scrolled": false
   },
   "outputs": [
    {
     "data": {
      "image/png": "[encoded data removed]",
      "text/plain": [
       "<Figure size 864x576 with 1 Axes>"
      ]
     },
     "metadata": {},
     "output_type": "display_data"
    }
   ],
   "source": [
    "grouped.plot(kind='barh', figsize=(12, 8));\n",
    "plt.title('Count of number of articles with Positive/Negative Sentiment for {}'.format(name));\n",
    "# plt.savefig(\"{}_breakdown\".format('_'.join(name.split()).lower()))"
   ]
  },
  {
   "cell_type": "markdown",
   "metadata": {},
   "source": [
    "#### Output results to CSV"
   ]
  },
  {
   "cell_type": "code",
   "execution_count": 43,
   "metadata": {},
   "outputs": [],
   "source": [
    "if write_:\n",
    "    out_filename = '_'.join(name.split()).lower() + '_breakdown.csv'\n",
    "    out_path = Path('./') / \"results/fasttext\" / out_filename\n",
    "    grouped.to_csv(out_path, header=True)"
   ]
  },
  {
   "cell_type": "code",
   "execution_count": 44,
   "metadata": {},
   "outputs": [],
   "source": [
    "if write_: \n",
    "    data_filename = '_'.join(name.split()).lower() + '_data.csv'\n",
    "    data_path = Path('./') / \"results/fasttext\" / data_filename\n",
    "    daily[~daily['relevant'].eq(0)].to_csv(data_path, header=True)"
   ]
  }
 ],
 "metadata": {
  "kernelspec": {
   "display_name": "Python 3",
   "language": "python",
   "name": "python3"
  },
  "language_info": {
   "codemirror_mode": {
    "name": "ipython",
    "version": 3
   },
   "file_extension": ".py",
   "mimetype": "text/x-python",
   "name": "python",
   "nbconvert_exporter": "python",
   "pygments_lexer": "ipython3",
   "version": "3.6.7"
  }
 },
 "nbformat": 4,
 "nbformat_minor": 2
}
